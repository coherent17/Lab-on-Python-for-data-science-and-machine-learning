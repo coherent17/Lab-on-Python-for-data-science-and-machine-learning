{
  "cells": [
    {
      "cell_type": "markdown",
      "metadata": {
        "id": "Wfiun8FPd0ZL"
      },
      "source": [
        "# Title\n",
        "\n",
        "**Exercise: A.1 - Beta values for data from Random Universe**\n",
        "\n",
        "# Description\n",
        "Given a RandomUniverse(dataframe)->dataframe function that gives a new dataset from a \"parallel\" universe, calculate the $\\beta_0$ 's and $\\beta_1$ 's and plot a histogram like the one below. "
      ]
    },
    {
      "cell_type": "markdown",
      "metadata": {
        "id": "HWAKi9u3d0ZQ"
      },
      "source": [
        "![image.png](data:image/png;base64,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)"
      ]
    },
    {
      "cell_type": "markdown",
      "metadata": {
        "id": "rZxqJNlHd0ZR"
      },
      "source": [
        "# Roadmap\n",
        "- Get a new dataframe using the RandomUniverse function already provided in the exercise\n",
        "- Calculate $\\beta_0$, $\\beta_1$ for that particular dataframe\n",
        "- Add the calculated $\\beta_0$ and $\\beta_1$ values to a python list\n",
        "- Plot a histogram using the lists calculated above\n",
        "\n",
        "Change the number of `parallelUniverses` and comment on what you observe. Discuss within the group why you see this behavior. Did you expect the spread to change? Why or why not? \n",
        "\n",
        "# Hints\n",
        "\n",
        "- To compute the beta values use the following equations:\n",
        "\n",
        "$\\beta_{0}=\\bar{y}-\\left(b_{1} * \\bar{x}\\right)$\n",
        "\n",
        "$\\beta_{1}=\\frac{\\sum(x-\\bar{x}) *(y-\\bar{y})}{\\sum(x-\\bar{x})^{2}}$\n",
        "\n",
        "where $\\bar{x}$ is the mean of $x$ and $\\bar{y}$ is the mean of $y$\n",
        "\n",
        "\n",
        "<a href=\"https://numpy.org/doc/stable/reference/generated/numpy.dot.html\" target=\"_blank\">np.dot()</a> : Computes the dot product of two arrays\n",
        "\n",
        "<a href=\"https://matplotlib.org/3.2.2/api/_as_gen/matplotlib.axes.Axes.hist.html\" target=\"_blank\">ax.hist()</a> : Plots a histogram\n",
        "\n",
        "<a href=\"https://matplotlib.org/3.1.1/api/_as_gen/matplotlib.axes.Axes.set_xlabel.html\" target=\"_blank\">ax.set_xlabel()</a> : Sets label for x-axis\n",
        "\n",
        "<a href=\"https://matplotlib.org/3.1.1/api/_as_gen/matplotlib.axes.Axes.set_ylabel.html\" target=\"_blank\">ax.set_ylabel()</a> : Sets label for the y-axis\n",
        "\n",
        "Note: This exercise is **auto-graded and you can try multiple attempts.**"
      ]
    },
    {
      "cell_type": "code",
      "execution_count": 33,
      "metadata": {
        "id": "pBBGCsWkd0ZR"
      },
      "outputs": [],
      "source": [
        "import pandas as pd\n",
        "import numpy as np\n",
        "import matplotlib.pyplot as plt\n",
        "%matplotlib inline"
      ]
    },
    {
      "cell_type": "code",
      "source": [
        "def RandomUniverse(df):\n",
        "    df_bootstrap = df.sample(len(df), replace=True)\n",
        "    return df_bootstrap"
      ],
      "metadata": {
        "id": "HqAInffwefPv"
      },
      "execution_count": 34,
      "outputs": []
    },
    {
      "cell_type": "markdown",
      "metadata": {
        "id": "J3GbXHMzd0ZU"
      },
      "source": [
        "### Reading the standard Advertising dataset"
      ]
    },
    {
      "cell_type": "code",
      "execution_count": 35,
      "metadata": {
        "id": "F6Y6ihdhd0ZU"
      },
      "outputs": [],
      "source": [
        "df = pd.read_csv('Advertising_adj.csv')"
      ]
    },
    {
      "cell_type": "code",
      "execution_count": 36,
      "metadata": {
        "colab": {
          "base_uri": "https://localhost:8080/",
          "height": 206
        },
        "id": "JceqLPF1d0ZU",
        "outputId": "06b03e45-d333-4166-f648-d1e159a04815"
      },
      "outputs": [
        {
          "output_type": "execute_result",
          "data": {
            "text/plain": [
              "      tv   sales\n",
              "0  230.1  465.26\n",
              "1   44.5  218.95\n",
              "2   17.2  195.79\n",
              "3  151.5  389.47\n",
              "4  180.8  271.58"
            ],
            "text/html": [
              "\n",
              "  <div id=\"df-94c00ef8-ad94-4ff5-ad74-18e76a3174b8\">\n",
              "    <div class=\"colab-df-container\">\n",
              "      <div>\n",
              "<style scoped>\n",
              "    .dataframe tbody tr th:only-of-type {\n",
              "        vertical-align: middle;\n",
              "    }\n",
              "\n",
              "    .dataframe tbody tr th {\n",
              "        vertical-align: top;\n",
              "    }\n",
              "\n",
              "    .dataframe thead th {\n",
              "        text-align: right;\n",
              "    }\n",
              "</style>\n",
              "<table border=\"1\" class=\"dataframe\">\n",
              "  <thead>\n",
              "    <tr style=\"text-align: right;\">\n",
              "      <th></th>\n",
              "      <th>tv</th>\n",
              "      <th>sales</th>\n",
              "    </tr>\n",
              "  </thead>\n",
              "  <tbody>\n",
              "    <tr>\n",
              "      <th>0</th>\n",
              "      <td>230.1</td>\n",
              "      <td>465.26</td>\n",
              "    </tr>\n",
              "    <tr>\n",
              "      <th>1</th>\n",
              "      <td>44.5</td>\n",
              "      <td>218.95</td>\n",
              "    </tr>\n",
              "    <tr>\n",
              "      <th>2</th>\n",
              "      <td>17.2</td>\n",
              "      <td>195.79</td>\n",
              "    </tr>\n",
              "    <tr>\n",
              "      <th>3</th>\n",
              "      <td>151.5</td>\n",
              "      <td>389.47</td>\n",
              "    </tr>\n",
              "    <tr>\n",
              "      <th>4</th>\n",
              "      <td>180.8</td>\n",
              "      <td>271.58</td>\n",
              "    </tr>\n",
              "  </tbody>\n",
              "</table>\n",
              "</div>\n",
              "      <button class=\"colab-df-convert\" onclick=\"convertToInteractive('df-94c00ef8-ad94-4ff5-ad74-18e76a3174b8')\"\n",
              "              title=\"Convert this dataframe to an interactive table.\"\n",
              "              style=\"display:none;\">\n",
              "        \n",
              "  <svg xmlns=\"http://www.w3.org/2000/svg\" height=\"24px\"viewBox=\"0 0 24 24\"\n",
              "       width=\"24px\">\n",
              "    <path d=\"M0 0h24v24H0V0z\" fill=\"none\"/>\n",
              "    <path d=\"M18.56 5.44l.94 2.06.94-2.06 2.06-.94-2.06-.94-.94-2.06-.94 2.06-2.06.94zm-11 1L8.5 8.5l.94-2.06 2.06-.94-2.06-.94L8.5 2.5l-.94 2.06-2.06.94zm10 10l.94 2.06.94-2.06 2.06-.94-2.06-.94-.94-2.06-.94 2.06-2.06.94z\"/><path d=\"M17.41 7.96l-1.37-1.37c-.4-.4-.92-.59-1.43-.59-.52 0-1.04.2-1.43.59L10.3 9.45l-7.72 7.72c-.78.78-.78 2.05 0 2.83L4 21.41c.39.39.9.59 1.41.59.51 0 1.02-.2 1.41-.59l7.78-7.78 2.81-2.81c.8-.78.8-2.07 0-2.86zM5.41 20L4 18.59l7.72-7.72 1.47 1.35L5.41 20z\"/>\n",
              "  </svg>\n",
              "      </button>\n",
              "      \n",
              "  <style>\n",
              "    .colab-df-container {\n",
              "      display:flex;\n",
              "      flex-wrap:wrap;\n",
              "      gap: 12px;\n",
              "    }\n",
              "\n",
              "    .colab-df-convert {\n",
              "      background-color: #E8F0FE;\n",
              "      border: none;\n",
              "      border-radius: 50%;\n",
              "      cursor: pointer;\n",
              "      display: none;\n",
              "      fill: #1967D2;\n",
              "      height: 32px;\n",
              "      padding: 0 0 0 0;\n",
              "      width: 32px;\n",
              "    }\n",
              "\n",
              "    .colab-df-convert:hover {\n",
              "      background-color: #E2EBFA;\n",
              "      box-shadow: 0px 1px 2px rgba(60, 64, 67, 0.3), 0px 1px 3px 1px rgba(60, 64, 67, 0.15);\n",
              "      fill: #174EA6;\n",
              "    }\n",
              "\n",
              "    [theme=dark] .colab-df-convert {\n",
              "      background-color: #3B4455;\n",
              "      fill: #D2E3FC;\n",
              "    }\n",
              "\n",
              "    [theme=dark] .colab-df-convert:hover {\n",
              "      background-color: #434B5C;\n",
              "      box-shadow: 0px 1px 3px 1px rgba(0, 0, 0, 0.15);\n",
              "      filter: drop-shadow(0px 1px 2px rgba(0, 0, 0, 0.3));\n",
              "      fill: #FFFFFF;\n",
              "    }\n",
              "  </style>\n",
              "\n",
              "      <script>\n",
              "        const buttonEl =\n",
              "          document.querySelector('#df-94c00ef8-ad94-4ff5-ad74-18e76a3174b8 button.colab-df-convert');\n",
              "        buttonEl.style.display =\n",
              "          google.colab.kernel.accessAllowed ? 'block' : 'none';\n",
              "\n",
              "        async function convertToInteractive(key) {\n",
              "          const element = document.querySelector('#df-94c00ef8-ad94-4ff5-ad74-18e76a3174b8');\n",
              "          const dataTable =\n",
              "            await google.colab.kernel.invokeFunction('convertToInteractive',\n",
              "                                                     [key], {});\n",
              "          if (!dataTable) return;\n",
              "\n",
              "          const docLinkHtml = 'Like what you see? Visit the ' +\n",
              "            '<a target=\"_blank\" href=https://colab.research.google.com/notebooks/data_table.ipynb>data table notebook</a>'\n",
              "            + ' to learn more about interactive tables.';\n",
              "          element.innerHTML = '';\n",
              "          dataTable['output_type'] = 'display_data';\n",
              "          await google.colab.output.renderOutput(dataTable, element);\n",
              "          const docLink = document.createElement('div');\n",
              "          docLink.innerHTML = docLinkHtml;\n",
              "          element.appendChild(docLink);\n",
              "        }\n",
              "      </script>\n",
              "    </div>\n",
              "  </div>\n",
              "  "
            ]
          },
          "metadata": {},
          "execution_count": 36
        }
      ],
      "source": [
        "df.head()"
      ]
    },
    {
      "cell_type": "code",
      "execution_count": 37,
      "metadata": {
        "id": "fHBSKxXnd0ZV"
      },
      "outputs": [],
      "source": [
        "#Create two empty lists that will store the beta values\n",
        "beta0_list, beta1_list = [],[]\n",
        "\n",
        "\n",
        "#Choose the number of \"parallel\" Universes to generate the new dataset\n",
        "parallelUniverses = 1000\n",
        "\n",
        "for i in range(parallelUniverses):\n",
        "    df_new = RandomUniverse(df)\n",
        "\n",
        "# x is the predictor variable given by 'tv' values \n",
        "# y is the reponse variable given by 'sales' values\n",
        "    x = df_new.tv.to_numpy()\n",
        "    y = df_new.sales.to_numpy()\n",
        "#Find the mean of the x values\n",
        "    xmean = x.mean()\n",
        "\n",
        "#Find the mean of the y values\n",
        "    ymean = y.mean()\n",
        "\n",
        "# Using Linear Algebra as discussed in lecture for beta0 and beta1\n",
        "\n",
        "    beta1 = np.sum((x-xmean)*(y-ymean)) / np.sum((x-xmean)**2)\n",
        "    beta0 = ymean - beta1 * xmean\n",
        "\n",
        "# Append the calculated values of beta1 and beta0\n",
        "    beta0_list.append(beta0)\n",
        "    beta1_list.append(beta1)"
      ]
    },
    {
      "cell_type": "code",
      "execution_count": 38,
      "metadata": {
        "id": "Rq77s_zGd0ZV"
      },
      "outputs": [],
      "source": [
        "### edTest(test_beta) ###\n",
        "beta0_mean = np.mean(beta0_list)\n",
        "beta1_mean = np.mean(beta1_list)"
      ]
    },
    {
      "cell_type": "markdown",
      "metadata": {
        "id": "8nvzqFk_d0ZW"
      },
      "source": [
        "### Now we plot the histograms\n",
        "\n",
        "Returns a plot for a histogram"
      ]
    },
    {
      "cell_type": "code",
      "execution_count": 39,
      "metadata": {
        "colab": {
          "base_uri": "https://localhost:8080/",
          "height": 497
        },
        "id": "LRqMHZdKd0ZW",
        "outputId": "02e032a2-fedb-4086-a0d1-a1491ab52adc"
      },
      "outputs": [
        {
          "output_type": "display_data",
          "data": {
            "text/plain": [
              "<Figure size 1296x576 with 2 Axes>"
            ],
            "image/png": "[encoded data removed]"
          },
          "metadata": {
            "needs_background": "light"
          }
        }
      ],
      "source": [
        "# plot histogram of \n",
        "fig, ax = plt.subplots(1,2, figsize=(18,8))\n",
        "ax[0].hist(beta0_list)\n",
        "ax[1].hist(beta1_list)\n",
        "ax[0].set_xlabel('Beta 0')\n",
        "ax[1].set_xlabel('Beta 1')\n",
        "ax[0].set_ylabel('Frequency');"
      ]
    },
    {
      "cell_type": "markdown",
      "metadata": {
        "id": "90CpYY73d0ZX"
      },
      "source": [
        "## Discussion\n",
        "Change the number of `parallelUniverses` and comment on what you observe. Discuss within the group why you see this behavior. Did you expect the spread to change? Why or why not? "
      ]
    },
    {
      "cell_type": "markdown",
      "metadata": {
        "id": "eSq2RkXed0ZX"
      },
      "source": [
        "# Fin"
      ]
    },
    {
      "cell_type": "markdown",
      "metadata": {
        "id": "Ub5sfIgzd0ZX"
      },
      "source": [
        "![Fin](https://media.giphy.com/media/jc1dl9ywZPryw/giphy.gif)"
      ]
    }
  ],
  "metadata": {
    "kernelspec": {
      "display_name": "Python 3",
      "language": "python",
      "name": "python3"
    },
    "language_info": {
      "codemirror_mode": {
        "name": "ipython",
        "version": 3
      },
      "file_extension": ".py",
      "mimetype": "text/x-python",
      "name": "python",
      "nbconvert_exporter": "python",
      "pygments_lexer": "ipython3",
      "version": "3.8.5"
    },
    "colab": {
      "provenance": []
    }
  },
  "nbformat": 4,
  "nbformat_minor": 0
}