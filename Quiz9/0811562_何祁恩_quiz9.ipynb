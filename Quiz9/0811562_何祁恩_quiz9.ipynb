{
  "nbformat": 4,
  "nbformat_minor": 0,
  "metadata": {
    "colab": {
      "provenance": []
    },
    "kernelspec": {
      "name": "python3",
      "display_name": "Python 3"
    },
    "language_info": {
      "name": "python"
    },
    "accelerator": "GPU",
    "gpuClass": "standard"
  },
  "cells": [
    {
      "cell_type": "markdown",
      "source": [
        "# Rules\n",
        "* Internet and Books are ALLOWED\n",
        "* Name your file as following: StudentID_ChineseName/EnglishName_quiz#\n",
        "* Extension of your file or your file type should be .py"
      ],
      "metadata": {
        "id": "ub6otvARfW2G"
      }
    },
    {
      "cell_type": "markdown",
      "source": [
        "# Logistic regression\n",
        "- Using logistic regression predicting on MNIST database with multiple classes."
      ],
      "metadata": {
        "id": "CCgWEJkpTFmd"
      }
    },
    {
      "cell_type": "markdown",
      "source": [
        "## Part I\n",
        "\n",
        "Use the MNIST data"
      ],
      "metadata": {
        "id": "Q4WMHGV_dDC9"
      }
    },
    {
      "cell_type": "code",
      "source": [
        "from sklearn.datasets import fetch_openml\n",
        "mnist = fetch_openml(data_id=554)"
      ],
      "metadata": {
        "id": "wzZ6ZHr6dfqB"
      },
      "execution_count": 2,
      "outputs": []
    },
    {
      "cell_type": "markdown",
      "source": [
        "Split into training and test with sklearn\n",
        "\n",
        "-Training dataset(60000,784) . Test dataset(10000,784)\n"
      ],
      "metadata": {
        "id": "naQOWwcneMCL"
      }
    },
    {
      "cell_type": "code",
      "source": [
        "from sklearn.model_selection import train_test_split\n",
        "X_train, X_test, y_train, y_test = train_test_split(mnist.data, mnist.target,test_size=1/7, random_state=0)\n",
        "print(X_train.shape, X_test.shape, y_train.shape, y_test.shape)"
      ],
      "metadata": {
        "id": "Jk6-52kDYGyp",
        "colab": {
          "base_uri": "https://localhost:8080/"
        },
        "outputId": "f376cd07-ed74-439c-cd45-21704ef69d95"
      },
      "execution_count": 3,
      "outputs": [
        {
          "output_type": "stream",
          "name": "stdout",
          "text": [
            "(60000, 784) (10000, 784) (60000,) (10000,)\n"
          ]
        }
      ]
    },
    {
      "cell_type": "markdown",
      "source": [
        "Use logistic model from sklearn. \n",
        "* Set the max_iteration to 1000.\n",
        "* Set n_jobs to 5."
      ],
      "metadata": {
        "id": "ONqGIH5OecG_"
      }
    },
    {
      "cell_type": "code",
      "source": [
        "from sklearn.linear_model import LogisticRegression\n",
        "clf = LogisticRegression(max_iter=1000, n_jobs=5)\n",
        "clf.fit(X_train, y_train)"
      ],
      "metadata": {
        "id": "cGS4V1v-YHzF",
        "colab": {
          "base_uri": "https://localhost:8080/"
        },
        "outputId": "05ad2e94-9cef-48fb-f4c7-f4e756093dfd"
      },
      "execution_count": 5,
      "outputs": [
        {
          "output_type": "execute_result",
          "data": {
            "text/plain": [
              "LogisticRegression(max_iter=1000, n_jobs=5)"
            ]
          },
          "metadata": {},
          "execution_count": 5
        }
      ]
    },
    {
      "cell_type": "markdown",
      "source": [
        "Predict the model using test data. Check the accuracy by comparing the prediction with the label. **Remember to use test data, not train data!!**\n",
        "The result can be in **the scale of 0 to 1** or **percentage (%)**."
      ],
      "metadata": {
        "id": "ozSaE3CefoQC"
      }
    },
    {
      "cell_type": "code",
      "source": [
        "score = clf.score(X_test, y_test)\n",
        "print(score)"
      ],
      "metadata": {
        "id": "g_jkSJCAYI17",
        "colab": {
          "base_uri": "https://localhost:8080/"
        },
        "outputId": "078adc47-d689-4d3a-9efc-2909118a3e7b"
      },
      "execution_count": 7,
      "outputs": [
        {
          "output_type": "stream",
          "name": "stdout",
          "text": [
            "0.9123\n"
          ]
        }
      ]
    },
    {
      "cell_type": "markdown",
      "source": [
        "Show the confusion matrix. Check **metrics from sklearn** for confusion matrix!"
      ],
      "metadata": {
        "id": "-p2ksplvf9xT"
      }
    },
    {
      "cell_type": "code",
      "source": [
        "from sklearn import metrics\n",
        "predictions = clf.predict(X_test)\n",
        "\n",
        "cm = metrics.confusion_matrix(y_true=y_test, y_pred = predictions, labels = clf.classes_)\n",
        "cm"
      ],
      "metadata": {
        "id": "c54bzFoMYJ65",
        "colab": {
          "base_uri": "https://localhost:8080/"
        },
        "outputId": "464fbb09-1e2b-46df-8042-4a2955d008e9"
      },
      "execution_count": 8,
      "outputs": [
        {
          "output_type": "execute_result",
          "data": {
            "text/plain": [
              "array([[ 961,    0,    3,    1,    3,    8,   10,    3,    6,    1],\n",
              "       [   0, 1106,    7,    3,    1,    5,    2,    3,   11,    3],\n",
              "       [   9,   17,  920,   19,   15,    3,   14,   10,   30,    3],\n",
              "       [   2,    4,   34,  893,    1,   26,    1,   10,   29,   13],\n",
              "       [   3,    2,    5,    2,  889,    1,    9,   11,    7,   33],\n",
              "       [  13,    2,    9,   29,   10,  736,   18,    4,   31,   11],\n",
              "       [  11,    2,    9,    0,   11,   17,  933,    1,    4,    1],\n",
              "       [   4,    5,   17,    7,   11,    2,    1,  969,    6,   42],\n",
              "       [   6,   15,    8,   23,    6,   25,   10,    4,  852,   14],\n",
              "       [   5,    5,    4,   10,   31,    8,    1,   32,    9,  864]])"
            ]
          },
          "metadata": {},
          "execution_count": 8
        }
      ]
    },
    {
      "cell_type": "markdown",
      "source": [
        "Using seaborn to visualize the confusion matrix"
      ],
      "metadata": {
        "id": "m2zzis0MgCEF"
      }
    },
    {
      "cell_type": "code",
      "source": [
        "import seaborn as sns\n",
        "import matplotlib.pyplot as plt\n",
        "\n",
        "plt.figure(figsize=(12,12))\n",
        "sns.heatmap(cm, annot=True, linewidths=.5, square = True, cmap = 'Blues_r', fmt='0.4g');\n",
        "\n",
        "plt.ylabel('Actual label')\n",
        "plt.xlabel('Predicted label')\n",
        "all_sample_title = 'Accuracy Score: {0}'.format(score)\n",
        "plt.title(all_sample_title)"
      ],
      "metadata": {
        "id": "tqCNk_M3ry1D",
        "colab": {
          "base_uri": "https://localhost:8080/",
          "height": 706
        },
        "outputId": "9d7e6f87-f6c0-427b-bd99-327cb40e5fb3"
      },
      "execution_count": 9,
      "outputs": [
        {
          "output_type": "execute_result",
          "data": {
            "text/plain": [
              "Text(0.5, 1.0, 'Accuracy Score: 0.9123')"
            ]
          },
          "metadata": {},
          "execution_count": 9
        },
        {
          "output_type": "display_data",
          "data": {
            "text/plain": [
              "<Figure size 864x864 with 2 Axes>"
            ],
            "image/png": "[encoded data removed]"
          },
          "metadata": {
            "needs_background": "light"
          }
        }
      ]
    }
  ]
}