{
  "nbformat": 4,
  "nbformat_minor": 0,
  "metadata": {
    "colab": {
      "provenance": []
    },
    "kernelspec": {
      "name": "python3",
      "display_name": "Python 3"
    },
    "language_info": {
      "name": "python"
    }
  },
  "cells": [
    {
      "cell_type": "markdown",
      "source": [
        "# Rules\n",
        "* Internet and Books are ALLOWED\n",
        "* Name your file as following: StudentID_ChineseName/EnglishName_quiz#\n",
        "* Extension of your file or your file type should be .py"
      ],
      "metadata": {
        "id": "ub6otvARfW2G"
      }
    },
    {
      "cell_type": "markdown",
      "source": [
        "# Logistic regression\n",
        "- Using logistic regression predicting on MNIST database with multiple classes."
      ],
      "metadata": {
        "id": "CCgWEJkpTFmd"
      }
    },
    {
      "cell_type": "markdown",
      "source": [
        "## Part I\n",
        "\n",
        "Use the MNIST data"
      ],
      "metadata": {
        "id": "Q4WMHGV_dDC9"
      }
    },
    {
      "cell_type": "code",
      "source": [
        "from sklearn.datasets import fetch_openml\n",
        "mnist = fetch_openml(data_id=554)"
      ],
      "metadata": {
        "id": "wzZ6ZHr6dfqB"
      },
      "execution_count": null,
      "outputs": []
    },
    {
      "cell_type": "markdown",
      "source": [
        "Split into training and test with sklearn\n",
        "\n",
        "-Training dataset(60000,784) . Test dataset(10000,784)\n"
      ],
      "metadata": {
        "id": "naQOWwcneMCL"
      }
    },
    {
      "cell_type": "code",
      "source": [
        "..."
      ],
      "metadata": {
        "id": "Jk6-52kDYGyp"
      },
      "execution_count": null,
      "outputs": []
    },
    {
      "cell_type": "markdown",
      "source": [
        "Use logistic model from sklearn. \n",
        "* Set the max_iteration to 1000.\n",
        "* Set n_jobs to 5."
      ],
      "metadata": {
        "id": "ONqGIH5OecG_"
      }
    },
    {
      "cell_type": "code",
      "source": [
        "..."
      ],
      "metadata": {
        "id": "cGS4V1v-YHzF"
      },
      "execution_count": null,
      "outputs": []
    },
    {
      "cell_type": "markdown",
      "source": [
        "Predict the model using test data. Check the accuracy by comparing the prediction with the label. **Remember to use test data, not train data!!**\n",
        "The result can be in **the scale of 0 to 1** or **percentage (%)**."
      ],
      "metadata": {
        "id": "ozSaE3CefoQC"
      }
    },
    {
      "cell_type": "code",
      "source": [
        "...."
      ],
      "metadata": {
        "id": "g_jkSJCAYI17"
      },
      "execution_count": null,
      "outputs": []
    },
    {
      "cell_type": "markdown",
      "source": [
        "Show the confusion matrix. Check **metrics from sklearn** for confusion matrix!"
      ],
      "metadata": {
        "id": "-p2ksplvf9xT"
      }
    },
    {
      "cell_type": "code",
      "source": [
        "..."
      ],
      "metadata": {
        "id": "c54bzFoMYJ65"
      },
      "execution_count": null,
      "outputs": []
    },
    {
      "cell_type": "markdown",
      "source": [
        "Using seaborn to visualize the confusion matrix"
      ],
      "metadata": {
        "id": "m2zzis0MgCEF"
      }
    },
    {
      "cell_type": "code",
      "source": [
        "import seaborn as sns\n",
        "\n",
        "plt.figure(figsize=(12,12))\n",
        "sns.heatmap(your_confusion_matrix, annot=True, \n",
        "            linewidths=.5, square = True, cmap = 'Blues_r', fmt='0.4g');\n",
        "\n",
        "plt.ylabel('Actual label')\n",
        "plt.xlabel('Predicted label')\n",
        "all_sample_title = 'Accuracy Score: {0}'.format(score2)\n",
        "plt.title(all_sample_title)"
      ],
      "metadata": {
        "id": "tqCNk_M3ry1D"
      },
      "execution_count": null,
      "outputs": []
    }
  ]
}