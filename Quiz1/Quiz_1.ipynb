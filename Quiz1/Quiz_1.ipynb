{
 "cells": [
  {
   "cell_type": "markdown",
   "id": "7a1f4c9a",
   "metadata": {},
   "source": [
    "# Rules"
   ]
  },
  {
   "cell_type": "markdown",
   "id": "a297a60c",
   "metadata": {},
   "source": [
    " - Internet and Books are **ALLOWED**\n",
    " - Name your file as following: `StudentID_ChineseName/EnglishName_quiz#` Ex: `123456789_安瓦_quiz1` or `123456789_Anvar_quiz1`   \n",
    " - Extension of your file or your file type should be `.py`. \n",
    " - If MOSS (Measure of Software Similarity) detects that any two files have more than 50% similarity, both students will get 0 for this quiz  \n",
    " - If you submit the code within an hour you will get the full score. Otherwise, you will have 24 hours to finish it and you will get 80% of your final score. "
   ]
  },
  {
   "cell_type": "markdown",
   "id": "ee8e7eff",
   "metadata": {},
   "source": [
    " Rules are simple. If you don't follow them you get **0** automatically."
   ]
  },
  {
   "cell_type": "markdown",
   "id": "c6bbfefa",
   "metadata": {},
   "source": [
    "# Quiz 1"
   ]
  },
  {
   "cell_type": "markdown",
   "id": "39f6d26f",
   "metadata": {},
   "source": [
    "In this quiz we will cover 4 things:  \n",
    "- Pure Python\n",
    "- Numerical Python\n",
    "- Plotting library Matplotlib\n",
    "- K-NN Algorithm"
   ]
  },
  {
   "cell_type": "markdown",
   "id": "9b0a23c2",
   "metadata": {},
   "source": [
    "### Problem 1 (10 points)"
   ]
  },
  {
   "cell_type": "markdown",
   "id": "ddad0b14",
   "metadata": {},
   "source": [
    "Create a list of 1000 elements with values between 0 and 1000. Sum all the entries in this list.  \n",
    "Should look like this: `0, 1, 2, 3, 4, 5, ... , 999`"
   ]
  },
  {
   "cell_type": "markdown",
   "id": "485c8dec",
   "metadata": {},
   "source": [
    "### Problem 2 (10 points)"
   ]
  },
  {
   "cell_type": "markdown",
   "id": "a3a70ef5",
   "metadata": {},
   "source": [
    "Create list of 100 elemetnts with values ranging between 1 and 10.   \n",
    " \n",
    "Ex:   \n",
    "`list = [1, 4, 1, 5, 9, 3, 4, ...]`\n",
    " \n",
    "Count the frequency for each number:  \n",
    "Ex: from the data above you will have:  \n",
    " - 2 elements for label 1,  \n",
    " - 2 elements for labe 4,  \n",
    " - 1 element for labels 5, 9 and 3"
   ]
  },
  {
   "cell_type": "markdown",
   "id": "06fa895b",
   "metadata": {},
   "source": [
    "### Problem 3 (10 points)\n",
    "Create a list of 50 elements between 50 and 100. Populate it with consequitive integers.  \n",
    "Ex: `list = [50, 51, 52, 53, 54 ... , 98, 99]`  \n",
    "Then create another list of 50 elemetns between 1 and 5. Populate it so that every ten consequitive elements are the same number:  \n",
    "Ex: `another_list = [1, 1, 1, 1, 1, 1, 1, 1, 1, 1, 2, ..., 5]`  \n",
    "As you might have guessed this is your **data** and **target** lists. Every element in your data list is now having a corresponding label.  \n",
    "Every number between 50 and 60 is now assigned to label 1.  \n",
    "Every number between 60 and 70 is now assigned to label 2.  \n",
    "And so on.\n",
    "\n",
    "Now shuffle the data list and the target list so that correct labeling persists.  \n",
    "\n",
    "After that split the data and target lists into 80/20 ratio.  \n",
    "Congratulations, you now have train and test data. :)"
   ]
  },
  {
   "cell_type": "markdown",
   "id": "45a762c1",
   "metadata": {},
   "source": [
    "### Problem 4 (10 points)"
   ]
  },
  {
   "cell_type": "markdown",
   "id": "62127efe",
   "metadata": {},
   "source": [
    "Suppose you have the following text:  \n",
    "`He lifted the bottle to his lips and took a sip of the drink. He had tasted this before, but he couldn't quite remember the time and place it had happened. He desperately searched his mind trying to locate and remember where he had tasted this when the bicycle ran over his foot.\n",
    "There were two things that were important to Tracey. The first was her dog. Anyone that had ever met Tracey knew how much she loved her dog. Most would say that she treated it as her child. The dog went everywhere with her and it had been her best friend for the past five years. The second thing that was important to Tracey, however, would be a lot more surprising to most people.\n",
    "“Ingredients for life,” said the backside of the truck. They mean food, but really food is only 1 ingredient of life. Life has so many more ingredients such as pain, happiness, laughter, joy, tears, and smiles. Life also has hard work, easy play, sleepless nights, and sunbathing by the ocean. Love, hatred, envy, self-assurance, and fear could be just down aisle 3 ready to be bought when needed. How I wish I could pull ingredients like these off shelves in a store.`"
   ]
  },
  {
   "cell_type": "markdown",
   "id": "59e9bec3",
   "metadata": {},
   "source": [
    "Now we want you to do a simple analysis of the text. Count the number of individual letter occurences, as well as the total number of letters. Omit the following characters: double/single quotes, commas, periods, space, new line separtators. Use dictionary for this task"
   ]
  },
  {
   "cell_type": "markdown",
   "id": "83c293d8",
   "metadata": {},
   "source": [
    "### Problem 5 (10 points)"
   ]
  },
  {
   "cell_type": "markdown",
   "id": "8055dbdd",
   "metadata": {},
   "source": [
    "Using the text from the previous exercise, please plot a historgram of 10 most frequent letters."
   ]
  },
  {
   "cell_type": "markdown",
   "id": "4db4e2d2",
   "metadata": {},
   "source": [
    "### Problem 6 (10 points)"
   ]
  },
  {
   "cell_type": "markdown",
   "id": "c52ecd0b",
   "metadata": {},
   "source": [
    "Supoose you have the following text:  \n",
    "`The bush began to shake. Brad couldn't see what was causing it to shake, but he didn't care. he had a pretty good idea about what was going on and what was happening. He was so confident that he approached the bush carefree and with a smile on his face. That all changed the instant he realized what was actually behind the bush.\n",
    "Devon couldn't figure out the color of her eyes. He initially would have guessed that they were green, but the more he looked at them he almost wanted to say they were a golden yellow. Then there were the flashes of red and orange that seemed to be streaked throughout them. It was almost as if her eyes were made of opal with the sun constantly glinting off of them and bringing out more color. They were definitely the most unusual pair of eyes he'd ever seen.\n",
    "Spending time at national parks can be an exciting adventure, but this wasn't the type of excitement she was hoping to experience. As she contemplated the situation she found herself in, she knew she'd gotten herself in a little more than she bargained for. It wasn't often that she found herself in a tree staring down at a pack of wolves that were looking to make her their next meal.\n",
    "There weren't supposed to be dragons flying in the sky. First and foremost, dragons didn't exist. They were mythical creatures from fantasy books like unicorns. This was something that Pete knew in his heart to be true so he was having a difficult time acknowledging that there were actually fire-breathing dragons flying in the sky above him.\n",
    "It really shouldn't have mattered to Betty. That's what she kept trying to convince herself even if she knew it mattered to Betty more than practically anything else. Why was she trying to convince herself otherwise? As she stepped forward to knock on Betty's door, she still didn't have a convincing answer to this question that she'd been asking herself for more than two years now.\n",
    "Sometimes it's just better not to be seen. That's how Harry had always lived his life. He prided himself as being the fly on the wall and the fae that blended into the crowd. That's why he was so shocked that she noticed him.\n",
    "She looked at her little girl who was about to become a teen. She tried to think back to when the girl had been younger but failed to pinpoint the exact moment when she had become a little too big to pick up and carry. It hit her all at once. She was no longer a little girl and she stood there speechless with fear, sadness, and pride all running through her at the same time.\n",
    "Barbara had been waiting at the table for twenty minutes. it had been twenty long and excruciating minutes. David had promised that he would be on time today. He never was, but he had promised this one time. She had made him repeat the promise multiple times over the last week until she'd believed his promise. Now she was paying the price.\n",
    "The trail to the left had a \"Danger! Do Not Pass\" sign telling people to take the trail to the right. This wasn't the way Zeke approached his hiking. Rather than a warning, Zeke read the sign as an invitation to explore an area that would be adventurous and exciting. As the others in the group all shited to the right, Zeke slipped past the danger sign to begin an adventure he would later regret.\n",
    "Brock would have never dared to do it on his own he thought to himself. That is why Kenneth and he had become such good friends. Kenneth forced Brock out of his comfort zone and made him try new things he'd never imagine doing otherwise. Up to this point, this had been a good thing. It had expanded Brock's experiences and given him a new appreciation for life. Now that both of them were in the back of a police car, all Brock could think was that he would have never dared do it except for the influence of Kenneth.`"
   ]
  },
  {
   "cell_type": "markdown",
   "id": "739e2890",
   "metadata": {},
   "source": [
    "Again we want you to do some simple analysis of the text, but this time count words instead of individual characters.  \n",
    "Plot the histogram of 10 most frequent words in this text."
   ]
  },
  {
   "cell_type": "markdown",
   "id": "99653cb9",
   "metadata": {},
   "source": [
    "### Problem 7 (10 points)"
   ]
  },
  {
   "cell_type": "markdown",
   "id": "9e3313b2",
   "metadata": {},
   "source": [
    "- a. Create an array `y` using numpy from the following list `x = [0,1,2,3,4,5,6,7,8,9]`  \n",
    "- b. Reshape array `y` into **2-D** array of **shape (5,2)**.  \n",
    "- c. Concatenate 2 arrays of `y` by the columns. The end resulting array would be in the **shape of (5,4)**.    \n",
    "- d. Swap column of index 1 and 2. (*Remember that python indexing starts from 0*)    \n",
    "- e. Print out the **first** and the **last** row of the array. Name both array as `first` and `last`.    \n",
    "- f. Sum both arrays of `first` and `last`. Name that array as `result`."
   ]
  },
  {
   "cell_type": "markdown",
   "id": "9a61bedc",
   "metadata": {},
   "source": [
    "### Problem 8 (10 points)"
   ]
  },
  {
   "cell_type": "markdown",
   "id": "abc025ef",
   "metadata": {},
   "source": [
    "- Using `arange` function from `numpy` module, create `t` array in range of 0 to 10 at 0.1 step.  \n",
    "Ex: `t = array([0. , 0.1, 0.2, ..,])`  \n",
    "\n",
    "- Using `matplotlib` library, plot the amplitude of the sine and cosine wave together in one figure.  \n",
    "Don't forget to put the label 'Time' for x-axis and 'Amplitude' for y-axis. (Hint: these are all available in matplotlib)  \n",
    "Use `t` for you x axis"
   ]
  },
  {
   "cell_type": "markdown",
   "id": "02875962",
   "metadata": {},
   "source": [
    "# k-NN Classifier (20 points if you submit within 24 hours) (100 points if you submit within 1 hour) "
   ]
  },
  {
   "cell_type": "markdown",
   "id": "11e01429",
   "metadata": {},
   "source": [
    "For this task we will use Iris dataset. Please use the code snippet bellow to load it."
   ]
  },
  {
   "cell_type": "code",
   "execution_count": null,
   "id": "fe84e624",
   "metadata": {},
   "outputs": [],
   "source": [
    "from sklearn.datasets import load_iris\n",
    "\n",
    "dataset = load_iris()\n",
    "\n",
    "X = dataset.data\n",
    "y = dataset.target"
   ]
  },
  {
   "cell_type": "markdown",
   "id": "cce29948",
   "metadata": {},
   "source": [
    "Write a k-NNN Classifier from scratch. You can use Python Standard Library and NumPy"
   ]
  },
  {
   "cell_type": "markdown",
   "id": "7eb26a86",
   "metadata": {},
   "source": [
    "Use your classifier on the Iris dataset and print your accuracy"
   ]
  }
 ],
 "metadata": {
  "kernelspec": {
   "display_name": "Python 3 (ipykernel)",
   "language": "python",
   "name": "python3"
  },
  "language_info": {
   "codemirror_mode": {
    "name": "ipython",
    "version": 3
   },
   "file_extension": ".py",
   "mimetype": "text/x-python",
   "name": "python",
   "nbconvert_exporter": "python",
   "pygments_lexer": "ipython3",
   "version": "3.8.13"
  }
 },
 "nbformat": 4,
 "nbformat_minor": 5
}
