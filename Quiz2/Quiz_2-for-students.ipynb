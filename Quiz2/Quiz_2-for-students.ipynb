{
 "cells": [
  {
   "cell_type": "markdown",
   "id": "92fb1555",
   "metadata": {},
   "source": [
    "# Rules"
   ]
  },
  {
   "cell_type": "markdown",
   "id": "77c630da",
   "metadata": {},
   "source": [
    " - Internet and Books are **ALLOWED**\n",
    " - Name your file as following: `StudentID_ChineseName/EnglishName_quiz#` Ex: `123456789_安瓦_quiz1` or `123456789_Anvar_quiz1`\n",
    " - Extension of your file or your file type should be `.py`. \n",
    " - If MOSS (Measure of Software Similarity) detects that any two files have more than 50% similarity, both students will get 0 for this quiz  \n",
    " - If you submit the code within an hour you will get the full score. Otherwise, you will have 24 hours to finish it and you will get 80% of your final score. \n",
    " - Follow the guidelines for functions definition.\n",
    "     - Name your function wrong and get 0\n",
    "     - Return the wrong values and get 0\n",
    " - **All of the problems are connected to each other and each subsequent problem will depend on the data you have created before, so you won't be able to skip problems this time.**"
   ]
  },
  {
   "cell_type": "markdown",
   "id": "888a2359",
   "metadata": {},
   "source": [
    "### In the beginning of your file \n",
    "### - Import pandas using its usual alias.\n",
    "### - Import matplotlib.pyplot using its usual alias."
   ]
  },
  {
   "cell_type": "code",
   "execution_count": null,
   "id": "d4f2772d",
   "metadata": {},
   "outputs": [],
   "source": [
    "# Here is the template for your functions\n",
    "# Change N according to the number of the problem\n",
    "def problem_N():\n",
    "    # your code here\n",
    "    return "
   ]
  },
  {
   "cell_type": "markdown",
   "id": "ccb97eb1",
   "metadata": {},
   "source": [
    "# Quiz 2 Pandas Data Manipulation"
   ]
  },
  {
   "cell_type": "markdown",
   "id": "af36627a",
   "metadata": {},
   "source": [
    "### Stefano asked you to investigate if the movies were getting shorter over the time. He thinks that they are and is very upset about it. This quiz is for you to determine if he is correct."
   ]
  },
  {
   "cell_type": "markdown",
   "id": "26a71d6c",
   "metadata": {},
   "source": [
    "## Problem 1. Loading data into a dictionary (10 points)"
   ]
  },
  {
   "cell_type": "markdown",
   "id": "2d8d63ad",
   "metadata": {},
   "source": [
    "### Stefano found some data on the internet, and told you to explore it."
   ]
  },
  {
   "cell_type": "markdown",
   "id": "2fcf0fed",
   "metadata": {},
   "source": [
    "Use provided data to create a dictionary.\n",
    " - Create a list of years from 2011 to 2020 and a list durations of the average movie lengths (103, 101, 99, 100, 100, 95, 95, 96, 93, and 90) in minutes.\n",
    " - Create a dictionary with the keys \"years\" and \"durations\" and the values set to your lists years and durations.\n",
    " - Return the dictionary"
   ]
  },
  {
   "cell_type": "markdown",
   "id": "6553c160",
   "metadata": {},
   "source": [
    "- Function should return a dictionary"
   ]
  },
  {
   "cell_type": "code",
   "execution_count": null,
   "id": "10c8a0fb",
   "metadata": {},
   "outputs": [],
   "source": [
    "# Example\n",
    "def problem_1():\n",
    "    # your code here\n",
    "    return # your variable here"
   ]
  },
  {
   "cell_type": "markdown",
   "id": "c398c3c0",
   "metadata": {},
   "source": [
    "## Problem 2. Creating a DataFrame from a dictionary (10 points)"
   ]
  },
  {
   "cell_type": "markdown",
   "id": "74955bfb",
   "metadata": {},
   "source": [
    " - Create a DataFrame using your dictionary you created in the problem 1.\n",
    " - Return the entire DataFrame."
   ]
  },
  {
   "cell_type": "markdown",
   "id": "d1301494",
   "metadata": {},
   "source": [
    "- Pass your dictionary from problem 1 as an argument\n",
    "- Function should return a DataFrame"
   ]
  },
  {
   "cell_type": "markdown",
   "id": "a201e11e",
   "metadata": {},
   "source": [
    "## Problem 3. Visualization of the data (10 points)"
   ]
  },
  {
   "cell_type": "markdown",
   "id": "32d27013",
   "metadata": {},
   "source": [
    "### Take a look at the data to see if Stefano's assumptions were correct."
   ]
  },
  {
   "cell_type": "markdown",
   "id": "ba2a5e4f",
   "metadata": {},
   "source": [
    " - Create a line plot of the data with the years column of your DataFrame on the x-axis, and the durations column on the y-axis.\n",
    " - Add the title \"Movie Durations 2011-2020\" to your plot.\n",
    " - Define the figure size as 12 by 9\n",
    " - Return the x-axis data and y-axis data in this order"
   ]
  },
  {
   "cell_type": "markdown",
   "id": "40581219",
   "metadata": {},
   "source": [
    "- Pass your dictionary from problem 2 as an argument\n",
    "- Function should return two Series.\n",
    "- Function should have a flag argument that will: \n",
    "    - hide the plot if set to `False` and only return the values. \n",
    "    - plot the graph if set to `True` and will return the values.  \n",
    "    \n",
    "(**DO NOT SAVE AND ATTACH YOUR PLOTS TO SUBMISSION! THIS WILL BE CHECKED AUTOMATICALLY!**)"
   ]
  },
  {
   "cell_type": "markdown",
   "id": "9bbf945f",
   "metadata": {},
   "source": [
    "## Problem 4. Loading the data from a CSV. (10 points)"
   ]
  },
  {
   "cell_type": "markdown",
   "id": "321914f4",
   "metadata": {},
   "source": [
    "### After seeing the results, it looks like there is something to the idea that movie lengths have decreased over the past ten years! But having only Stefano's aggregations, you're limited in the further explorations you can perform. There are a few questions about this trend that you are currently unable to answer, including:\n",
    "\n",
    "### - What does this trend look like over a longer period of time?\n",
    "### - Is this explainable by something like the genre of entertainment?  \n",
    " \n",
    "### You decide to ask Stefano for the original CSV he used to conduct his analysis. He says that you are stupid but gives you the data. You now have access to the CSV file."
   ]
  },
  {
   "cell_type": "markdown",
   "id": "dd59d36f",
   "metadata": {},
   "source": [
    " - Create another DataFrame, this time using the CSV file we provided for this quiz, \n",
    " - Return the DataFrame."
   ]
  },
  {
   "cell_type": "markdown",
   "id": "2490c412",
   "metadata": {},
   "source": [
    "- Pass the CSV file's filename as an argument\n",
    "- Function should return a DataFrame"
   ]
  },
  {
   "cell_type": "markdown",
   "id": "8055e8e1",
   "metadata": {},
   "source": [
    "## Problem 5. Filtering for movies! (10 points)"
   ]
  },
  {
   "cell_type": "markdown",
   "id": "24b78d28",
   "metadata": {},
   "source": [
    "### You now have the data. By exemining the first five rows of the new DataFrame, you notice a column `type`. Scanning the column, it's clear there are also **TV shows** in the dataset. You also realize that `duration` column you might have planned to use seems to represent different values depending on whether the row is a movie or a show (perhaps the number of minutes versus the number of seasons)?\n",
    "\n",
    "### It is time to put your subsetting skills to work."
   ]
  },
  {
   "cell_type": "markdown",
   "id": "3636e8d7",
   "metadata": {},
   "source": [
    " - Subset the DataFrame such that only rows where the type is a \"Movie\" are preserved.\n",
    " - Subset the freshly created DataFrame to preserve only the columns title, country, genre, release_year, and duration.\n",
    " - Return the DataFrame from the previous step"
   ]
  },
  {
   "cell_type": "markdown",
   "id": "67280b18",
   "metadata": {},
   "source": [
    "- Pass the DataFrame from Problem 4 as an argument\n",
    "- Function should return a DataFrame"
   ]
  },
  {
   "cell_type": "markdown",
   "id": "b84351a3",
   "metadata": {},
   "source": [
    "## Problem 6. Creating a scatter plot (10 points)"
   ]
  },
  {
   "cell_type": "markdown",
   "id": "33c3f25b",
   "metadata": {},
   "source": [
    "### You've read in the raw data, selected rows of movies, and have limited you DataFrame to columns of interest. Try visualizing the data again to inspect the data over a longer range of time.\n",
    "\n",
    "### This time, you are no longer working with aggregates provided by Stefano, but instead with individual movies. So, line plot is no longer a good choice for visualization. Try a scatter plot instead. "
   ]
  },
  {
   "cell_type": "markdown",
   "id": "4eec3cfd",
   "metadata": {},
   "source": [
    " - Using the DataFrame created in Problem 5, create a scatter plot, placing the release_year on the x-axis and the movie duration on the y-axis.\n",
    " - Add a title to your plot: \"Movie Duration by Year of Release\".\n",
    " - Return the x-axis data and y-axis data in this order"
   ]
  },
  {
   "cell_type": "markdown",
   "id": "d70ba2ec",
   "metadata": {},
   "source": [
    "- Pass the DataFrame as an argument to your function\n",
    "- Function should return two Series.\n",
    "- Function should have a flag argument that will: \n",
    "    - hide the plot if set to `False` and only return the values. \n",
    "    - plot the graph if set to `True` and will return the values.  \n",
    "    \n",
    "(**DO NOT SAVE AND ATTACH YOUR PLOTS TO SUBMISSION! THIS WILL BE CHECKED AUTOMATICALLY!**)"
   ]
  },
  {
   "cell_type": "markdown",
   "id": "30c03015",
   "metadata": {},
   "source": [
    "## Problem 7. Dig deeper (10 points)"
   ]
  },
  {
   "cell_type": "markdown",
   "id": "8bd5f515",
   "metadata": {},
   "source": [
    "### This is much more informative than the simple plot we created when Stefano first gave you some data. You can also see that, while newer movies are overrepresented, many short movies have been released in the past two decades.\n",
    "\n",
    "### Upon further inspection, you realize that something else is going on. Some of these films are under an hour long. Filter you DataFrame for movies with a duration under 60 minutes and look at the genres. This might give you some insight into what is dragging down the average."
   ]
  },
  {
   "cell_type": "markdown",
   "id": "b266204a",
   "metadata": {},
   "source": [
    " - Subset DataFrame created in Problem 5 to create a new DataFrame containing only movies that have a duration fewer than 60 minutes.\n",
    " - Return the first 20 rows."
   ]
  },
  {
   "cell_type": "markdown",
   "id": "c7de6f89",
   "metadata": {},
   "source": [
    "- Pass the DataFrame from Problem 5 as an argument\n",
    "- Function should return a DataFrame"
   ]
  },
  {
   "cell_type": "markdown",
   "id": "ef22ff0a",
   "metadata": {},
   "source": [
    "## Problem 8. Marking non-feature films (10 points)"
   ]
  },
  {
   "cell_type": "markdown",
   "id": "98da2bfc",
   "metadata": {},
   "source": [
    "### It looks like many of the films that are under 60 minutes fall into genres such as \"Children & Family movies\", \"Stand-Up Comedy\", and \"Documentaries\". This is a logical result, as these types of films are probably often shorter than 90 minute Hollywood blockbuster.\n",
    "\n",
    "### You could eliminate these rows from your DataFrame and plot the values again. But another interesting way to explore the effect of these genres on your data would be to plot them, but mark them with a different color."
   ]
  },
  {
   "cell_type": "markdown",
   "id": "510aa28c",
   "metadata": {},
   "source": [
    " - Initialize an empty list called colors to store different color values.\n",
    " - Use a for loop to iterate through the rows of the DataFrame created in Problem 5 and append colors to your colors list based on the following conditions:\n",
    "  - If the genre is Children related, append \"red\".\n",
    "  - If the genre is Documentaries related, append \"blue\".\n",
    "  - If the genre is Stand-Up related, append \"green\".\n",
    "  - If the genre is any other genre, append \"black\".\n",
    " - Return the values of your colors list."
   ]
  },
  {
   "cell_type": "markdown",
   "id": "be3912f4",
   "metadata": {},
   "source": [
    "- Pass the DataFrame from Problem 5 as an argument\n",
    "- Function should return a list"
   ]
  },
  {
   "cell_type": "markdown",
   "id": "ac4b0103",
   "metadata": {},
   "source": [
    "## Problem 9. Plotting with color (10 points)"
   ]
  },
  {
   "cell_type": "markdown",
   "id": "5aeec66e",
   "metadata": {},
   "source": [
    " - Using the data contained in DataFrame created in Problem 5, plot the same scatter plot as you did in Problem 6, but with a few modifications:\n",
    " - Color the points on the scatter plot using your colors list you defined in the previous step.\n",
    " - Add a title \"Movie duration by year of release\", an x-axis label \"Release year\", and a y-axis label \"Duration (min)\".\n",
    " - Return the x-axis data, y-axis data and colors in this order"
   ]
  },
  {
   "cell_type": "markdown",
   "id": "a3fb89c6",
   "metadata": {},
   "source": [
    "- Pass the DataFrame from Problem 5 and List from Problem 8 as you arguments\n",
    "- Function should return two Series and a list.\n",
    "- Function should have a flag argument that will: \n",
    "    - hide the plot if set to `False` and only return the values. \n",
    "    - plot the graph if set to `True` and will return the values.  \n",
    "    \n",
    "(**DO NOT SAVE AND ATTACH YOUR PLOTS TO SUBMISSION! THIS WILL BE CHECKED AUTOMATICALLY!**)"
   ]
  },
  {
   "cell_type": "code",
   "execution_count": null,
   "id": "b3aa3b11",
   "metadata": {},
   "outputs": [],
   "source": [
    "# Use the following snippet of code in your function for visualization purposes only.\n",
    "plt.style.use('fivethirtyeight')\n",
    "fig = plt.figure(figsize=(12,8))"
   ]
  },
  {
   "cell_type": "markdown",
   "id": "020c46e0",
   "metadata": {},
   "source": [
    "## Problem 10. Your conclusion (10 points)"
   ]
  },
  {
   "cell_type": "markdown",
   "id": "379360ba",
   "metadata": {},
   "source": [
    "### Well, as you probably suspected, non-typical genres such as children's movies and documentaries are all clustered around the bottom half of the plot. But we can't know for certain until we perform additional analyses."
   ]
  },
  {
   "cell_type": "markdown",
   "id": "e2e9aa0a",
   "metadata": {},
   "source": [
    " - Provide your answer to the question \"Are we certain that movies are getting shorter?\" in the form of a string.\n",
    " - Make it a simple \"Yes\" or \"No\""
   ]
  },
  {
   "cell_type": "markdown",
   "id": "bdc8b17d",
   "metadata": {},
   "source": [
    "- Function should return a string"
   ]
  }
 ],
 "metadata": {
  "kernelspec": {
   "display_name": "Python 3 (ipykernel)",
   "language": "python",
   "name": "python3"
  },
  "language_info": {
   "codemirror_mode": {
    "name": "ipython",
    "version": 3
   },
   "file_extension": ".py",
   "mimetype": "text/x-python",
   "name": "python",
   "nbconvert_exporter": "python",
   "pygments_lexer": "ipython3",
   "version": "3.8.13"
  }
 },
 "nbformat": 4,
 "nbformat_minor": 5
}
