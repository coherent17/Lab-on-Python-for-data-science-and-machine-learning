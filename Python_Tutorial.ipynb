{
  "cells": [
    {
      "cell_type": "markdown",
      "metadata": {
        "id": "bLuc45l5XOs3"
      },
      "source": [
        "# How to Use Jupyter:"
      ]
    },
    {
      "cell_type": "markdown",
      "metadata": {
        "id": "kQjoH15zXOs4"
      },
      "source": [
        "## Create New Cells\n",
        "\n",
        "New Cells can be created via the menu above or by many of the shortcuts presented along the presentation\n",
        "\n",
        "## Executing\n",
        "\n",
        "Once some python code is written it can be executed in side the cell by Pressing 'Run' button or by pressing `Ctrl+Enter`.\n",
        "\n",
        "## Note!\n",
        "\n",
        "For Independent cells that contain external variables to run the external variables must be declared/populated"
      ]
    },
    {
      "cell_type": "markdown",
      "metadata": {
        "id": "WJQuof76XOs4"
      },
      "source": [
        "# Basic Python \n",
        "\n",
        "Python is a dynamically typed language so there is no need for declaring types as you might have done in your programming clas. C is Statically typed. Meaning you have to compile it and you have to declare types like:\n",
        "`float x = 222.0`"
      ]
    },
    {
      "cell_type": "markdown",
      "metadata": {
        "id": "8SC7Qa-1XOs4"
      },
      "source": [
        "### Numbers"
      ]
    },
    {
      "cell_type": "code",
      "execution_count": 1,
      "metadata": {
        "colab": {
          "base_uri": "https://localhost:8080/"
        },
        "id": "v-4sVG0mXOs5",
        "outputId": "a25dfea4-82b6-433f-e01a-a509fbffa4d7"
      },
      "outputs": [
        {
          "output_type": "stream",
          "name": "stdout",
          "text": [
            "The value of  my variabel is : 3\n",
            "<class 'int'>\n"
          ]
        }
      ],
      "source": [
        "x = 3\n",
        "# x = 2.0\n",
        "print(\"The value of  my variabel is : {}\".format(x))\n",
        "print(type(x)) # Prints \"<class 'int'>\""
      ]
    },
    {
      "cell_type": "code",
      "execution_count": 2,
      "metadata": {
        "colab": {
          "base_uri": "https://localhost:8080/"
        },
        "id": "1L3O6OH9XOs6",
        "outputId": "1fa9872b-1474-4c9d-b221-91dfdaea59f5"
      },
      "outputs": [
        {
          "output_type": "stream",
          "name": "stdout",
          "text": [
            "3\n"
          ]
        }
      ],
      "source": [
        "print(x)"
      ]
    },
    {
      "cell_type": "code",
      "execution_count": 3,
      "metadata": {
        "colab": {
          "base_uri": "https://localhost:8080/"
        },
        "id": "JVKtToO0XOs6",
        "outputId": "64840144-5234-40b1-a223-59e304fadf6a"
      },
      "outputs": [
        {
          "output_type": "stream",
          "name": "stdout",
          "text": [
            "4.1\n"
          ]
        }
      ],
      "source": [
        "print(x + 1.1)"
      ]
    },
    {
      "cell_type": "code",
      "execution_count": 4,
      "metadata": {
        "colab": {
          "base_uri": "https://localhost:8080/"
        },
        "id": "iyr8EbNkXOs6",
        "outputId": "329290c9-2f37-4a18-bdd3-f7edada4d34e"
      },
      "outputs": [
        {
          "output_type": "stream",
          "name": "stdout",
          "text": [
            "6\n"
          ]
        }
      ],
      "source": [
        "print(x * 2)"
      ]
    },
    {
      "cell_type": "code",
      "execution_count": 5,
      "metadata": {
        "colab": {
          "base_uri": "https://localhost:8080/"
        },
        "id": "YBxkctBAXOs6",
        "outputId": "c4ff20a1-2df3-48bd-8a1c-52007394e769"
      },
      "outputs": [
        {
          "output_type": "stream",
          "name": "stdout",
          "text": [
            "9\n"
          ]
        }
      ],
      "source": [
        "print(x ** 2)"
      ]
    },
    {
      "cell_type": "markdown",
      "metadata": {
        "id": "1g-kHQO7XOs6"
      },
      "source": [
        "### Booleans\n",
        "\n",
        "Python implements all of the usual operators for Boolean logic, but uses English words rather than symbols (`&&`, `||`, etc.):"
      ]
    },
    {
      "cell_type": "code",
      "execution_count": 6,
      "metadata": {
        "colab": {
          "base_uri": "https://localhost:8080/"
        },
        "id": "YZRrqZraXOs6",
        "outputId": "0adeed5d-49af-4a74-9fb8-40c73642e292"
      },
      "outputs": [
        {
          "output_type": "stream",
          "name": "stdout",
          "text": [
            "<class 'bool'>\n"
          ]
        }
      ],
      "source": [
        "t = True\n",
        "f = False\n",
        "print(type(t)) # Prints \"<class 'bool'>\""
      ]
    },
    {
      "cell_type": "markdown",
      "metadata": {
        "id": "H8jhFeSrXOs7"
      },
      "source": [
        "#### Embedded Boolean Expressions\n",
        "\n",
        "As mentioned earlier, you can embed expressions as arguments to many functions, above you can see boolean expressions executed:"
      ]
    },
    {
      "cell_type": "code",
      "execution_count": 7,
      "metadata": {
        "colab": {
          "base_uri": "https://localhost:8080/"
        },
        "id": "Q2BY1g5cXOs7",
        "outputId": "4480eff3-8434-4a01-c93c-7d4b942b3120"
      },
      "outputs": [
        {
          "output_type": "stream",
          "name": "stdout",
          "text": [
            "False\n"
          ]
        }
      ],
      "source": [
        "print(t and f) # Logical AND; prints \"False\""
      ]
    },
    {
      "cell_type": "code",
      "execution_count": 8,
      "metadata": {
        "colab": {
          "base_uri": "https://localhost:8080/",
          "height": 133
        },
        "id": "-dnBW50YXOs7",
        "outputId": "69c6f939-a0de-4094-c9fc-74c0fac41d56"
      },
      "outputs": [
        {
          "output_type": "error",
          "ename": "SyntaxError",
          "evalue": "ignored",
          "traceback": [
            "\u001b[0;36m  File \u001b[0;32m\"<ipython-input-8-c5e9adae03ff>\"\u001b[0;36m, line \u001b[0;32m1\u001b[0m\n\u001b[0;31m    print(t && f) # As we mentioned earlier, not valid\u001b[0m\n\u001b[0m             ^\u001b[0m\n\u001b[0;31mSyntaxError\u001b[0m\u001b[0;31m:\u001b[0m invalid syntax\n"
          ]
        }
      ],
      "source": [
        "print(t && f) # As we mentioned earlier, not valid"
      ]
    },
    {
      "cell_type": "code",
      "execution_count": 9,
      "metadata": {
        "colab": {
          "base_uri": "https://localhost:8080/"
        },
        "id": "sargzNcAXOs7",
        "outputId": "499f5545-4882-47f1-8e6d-11b66913125a"
      },
      "outputs": [
        {
          "output_type": "stream",
          "name": "stdout",
          "text": [
            "True\n"
          ]
        }
      ],
      "source": [
        "print(t or f)  # Logical OR; prints \"True\""
      ]
    },
    {
      "cell_type": "code",
      "execution_count": 10,
      "metadata": {
        "colab": {
          "base_uri": "https://localhost:8080/"
        },
        "id": "JiOaz8NxXOs7",
        "outputId": "dd7ce364-95ed-4a52-8119-e6b44c96a584"
      },
      "outputs": [
        {
          "output_type": "stream",
          "name": "stdout",
          "text": [
            "False\n"
          ]
        }
      ],
      "source": [
        "print(not t)   # Logical NOT; prints \"False\""
      ]
    },
    {
      "cell_type": "code",
      "execution_count": 11,
      "metadata": {
        "colab": {
          "base_uri": "https://localhost:8080/"
        },
        "id": "yZ5dKfV3XOs7",
        "outputId": "35beeb2b-fb30-49d0-945c-75bb64c80028"
      },
      "outputs": [
        {
          "output_type": "stream",
          "name": "stdout",
          "text": [
            "True\n"
          ]
        }
      ],
      "source": [
        "print(t != f)  # Logical XOR; prints \"True\""
      ]
    },
    {
      "cell_type": "code",
      "execution_count": 12,
      "metadata": {
        "colab": {
          "base_uri": "https://localhost:8080/"
        },
        "id": "hA_3QpBsXOs8",
        "outputId": "4abf161e-5eca-4481-e7ad-42dabd703d9a"
      },
      "outputs": [
        {
          "output_type": "stream",
          "name": "stdout",
          "text": [
            "1\n"
          ]
        }
      ],
      "source": [
        "print(1 * t)   #You will transform your boolean to an integer"
      ]
    },
    {
      "cell_type": "markdown",
      "metadata": {
        "id": "z0qU-F02XOs8"
      },
      "source": [
        "### Strings"
      ]
    },
    {
      "cell_type": "code",
      "execution_count": 13,
      "metadata": {
        "colab": {
          "base_uri": "https://localhost:8080/"
        },
        "id": "YZ2xbWnbXOs8",
        "outputId": "4a7155e5-8b18-47e5-ce62-910d887817a9"
      },
      "outputs": [
        {
          "output_type": "stream",
          "name": "stdout",
          "text": [
            "hello\n"
          ]
        }
      ],
      "source": [
        "hello = 'hello'    # String literals can use single quotes\n",
        "world = \"world\"    # or double quotes; it does not matter.\n",
        "print(hello)       # Prints \"hello\""
      ]
    },
    {
      "cell_type": "code",
      "execution_count": 14,
      "metadata": {
        "colab": {
          "base_uri": "https://localhost:8080/"
        },
        "id": "sUgb8w02XOs8",
        "outputId": "cf4254c9-5cf5-441c-8bce-f76c0435c42c"
      },
      "outputs": [
        {
          "output_type": "stream",
          "name": "stdout",
          "text": [
            "5\n"
          ]
        }
      ],
      "source": [
        "print(len(hello))  # String length; prints \"5\""
      ]
    },
    {
      "cell_type": "code",
      "execution_count": 15,
      "metadata": {
        "colab": {
          "base_uri": "https://localhost:8080/"
        },
        "id": "NTe_4ZHUXOs8",
        "outputId": "5bf3bc51-2531-416b-ab09-7a9dc57577df"
      },
      "outputs": [
        {
          "output_type": "stream",
          "name": "stdout",
          "text": [
            "hello world\n"
          ]
        }
      ],
      "source": [
        "hw = hello + ' ' + world  # String concatenation\n",
        "print(hw)  # prints \"hello world\""
      ]
    },
    {
      "cell_type": "markdown",
      "metadata": {
        "id": "QtQQzaG9XOs8"
      },
      "source": [
        "#### Old way\n",
        "The `%` operator (modulo) was used string formatting. Given `formatted string` % `set of values`, every  `%` instance in `formatted string` is replaced with zero or more elements of values. This operation is commonly known as string interpolation. For example:"
      ]
    },
    {
      "cell_type": "code",
      "execution_count": 16,
      "metadata": {
        "colab": {
          "base_uri": "https://localhost:8080/"
        },
        "id": "U4hk729MXOs9",
        "outputId": "3b696ec9-0e7c-4aea-8d08-33779843416e"
      },
      "outputs": [
        {
          "output_type": "stream",
          "name": "stdout",
          "text": [
            "This is hello world 13\n"
          ]
        }
      ],
      "source": [
        "hw12 = 'This is %s %s %d' % (hello, world, 13)  # sprintf style string formatting\n",
        "print(hw12)  # prints \"hello world 13\""
      ]
    },
    {
      "cell_type": "markdown",
      "metadata": {
        "id": "73Hn3SpTXOs9"
      },
      "source": [
        "#### New way"
      ]
    },
    {
      "cell_type": "code",
      "execution_count": 17,
      "metadata": {
        "colab": {
          "base_uri": "https://localhost:8080/"
        },
        "id": "hDkRVjJNXOs9",
        "outputId": "aa4b5987-bcdf-4d56-85af-bd966d18cc07"
      },
      "outputs": [
        {
          "output_type": "stream",
          "name": "stdout",
          "text": [
            "2 one\n",
            "This is a string, this: 5.0 is a an expression. So is this : hello anything I want world\n"
          ]
        }
      ],
      "source": [
        "hw21 = '{} {}'.format(2, 'one')# Format Method(The one youll use the most)\n",
        "print(hw21)\n",
        "\n",
        "hello = \"hello\"\n",
        "world = \"world\"\n",
        "hw21 = f'This is a string, this: {3+4/2} is a an expression. So is this : {hello + \" anything I want \"+ world}' # Formatted String Literal\n",
        "print(hw21)"
      ]
    },
    {
      "cell_type": "markdown",
      "metadata": {
        "id": "k1--EJmRXOs9"
      },
      "source": [
        "#### Float Precisions\n",
        "Just like in C, you can also play with the decimal precision of float values."
      ]
    },
    {
      "cell_type": "code",
      "execution_count": 18,
      "metadata": {
        "colab": {
          "base_uri": "https://localhost:8080/"
        },
        "id": "1ah6s0bcXOs9",
        "outputId": "9d992c23-e0bb-45c9-d73f-299352611adf"
      },
      "outputs": [
        {
          "output_type": "stream",
          "name": "stdout",
          "text": [
            "Print Float until 2 decimal places: 3.1416\n",
            "Same result using curly braces       3.14\n"
          ]
        }
      ],
      "source": [
        "pi = 3.14159265359\n",
        "print('Print Float until 2 decimal places: %.4f' % pi) # Old Way(not recommended)\n",
        "print('Same result using curly braces {:10.2f}'.format(pi)) # New Way"
      ]
    },
    {
      "cell_type": "markdown",
      "metadata": {
        "id": "gtLScN_0XOs9"
      },
      "source": [
        "## Containers\n",
        "\n",
        "Python includes several built-in container types: `lists`, `dictionaries`, `sets`, and `tuples`. Basically a data structure that is able to hold an arbitrary number of other objects. "
      ]
    },
    {
      "cell_type": "markdown",
      "metadata": {
        "id": "Md9yMje5XOs9"
      },
      "source": [
        "### Lists\n",
        "\n",
        "This is the most common array-like data structure that you will use.\n",
        "It is:\n",
        "\n",
        "1. Ordered(indexed)\n",
        "2. Mutable\n",
        "3. Resizable\n",
        "4. Heterogeneous(can contain elements of different types)\n",
        "\n",
        "**They are contianed within a collection of square brackets `[]`:**"
      ]
    },
    {
      "cell_type": "code",
      "execution_count": 19,
      "metadata": {
        "colab": {
          "base_uri": "https://localhost:8080/"
        },
        "id": "FSDzpP1FXOs9",
        "outputId": "72a93167-ec59-4d7e-eb97-5e4c8d529666"
      },
      "outputs": [
        {
          "output_type": "stream",
          "name": "stdout",
          "text": [
            "[3, 1, 2]\n"
          ]
        }
      ],
      "source": [
        "xs = [3, 1, 2]    # Create a list\n",
        "print(xs)         # Prints \"[3, 1, 2]\""
      ]
    },
    {
      "cell_type": "code",
      "execution_count": 20,
      "metadata": {
        "colab": {
          "base_uri": "https://localhost:8080/"
        },
        "id": "yqTuLkrFXOs-",
        "outputId": "795e15b9-836e-48b2-bad3-d49d96dc69ee"
      },
      "outputs": [
        {
          "output_type": "stream",
          "name": "stdout",
          "text": [
            "3\n"
          ]
        }
      ],
      "source": [
        "print(xs[0])"
      ]
    },
    {
      "cell_type": "code",
      "execution_count": 21,
      "metadata": {
        "colab": {
          "base_uri": "https://localhost:8080/"
        },
        "id": "oHYGqhe6XOs-",
        "outputId": "f60ab1a1-2677-4c09-d4b7-d9abb8c3fdf2"
      },
      "outputs": [
        {
          "output_type": "stream",
          "name": "stdout",
          "text": [
            "1\n"
          ]
        }
      ],
      "source": [
        "print(xs[-2])     # Negative indices count from the end of the list; prints \"2\""
      ]
    },
    {
      "cell_type": "code",
      "execution_count": 22,
      "metadata": {
        "colab": {
          "base_uri": "https://localhost:8080/"
        },
        "id": "FD6S6z1aXOs-",
        "outputId": "a2ca6ec3-c3ed-42ae-823a-a5936894248a"
      },
      "outputs": [
        {
          "output_type": "stream",
          "name": "stdout",
          "text": [
            "[3, 1, 'Two']\n"
          ]
        }
      ],
      "source": [
        "xs[2] = 'Two'     # Lists can contain elements of different types\n",
        "print(xs)         # Prints \"[3, 1, 'Two']\""
      ]
    },
    {
      "cell_type": "code",
      "execution_count": 23,
      "metadata": {
        "colab": {
          "base_uri": "https://localhost:8080/",
          "height": 168
        },
        "id": "cnVKlQFkXOs-",
        "outputId": "a8bd0095-f970-4cf4-c672-de47577456ed"
      },
      "outputs": [
        {
          "output_type": "error",
          "ename": "IndexError",
          "evalue": "ignored",
          "traceback": [
            "\u001b[0;31m---------------------------------------------------------------------------\u001b[0m",
            "\u001b[0;31mIndexError\u001b[0m                                Traceback (most recent call last)",
            "\u001b[0;32m<ipython-input-23-0b807dd2b439>\u001b[0m in \u001b[0;36m<module>\u001b[0;34m\u001b[0m\n\u001b[0;32m----> 1\u001b[0;31m \u001b[0mxs\u001b[0m\u001b[0;34m[\u001b[0m\u001b[0;36m4\u001b[0m\u001b[0;34m]\u001b[0m \u001b[0;34m=\u001b[0m \u001b[0;34m'bear'\u001b[0m\u001b[0;34m\u001b[0m\u001b[0;34m\u001b[0m\u001b[0m\n\u001b[0m",
            "\u001b[0;31mIndexError\u001b[0m: list assignment index out of range"
          ]
        }
      ],
      "source": [
        "xs[4] = 'bear'"
      ]
    },
    {
      "cell_type": "code",
      "execution_count": 24,
      "metadata": {
        "colab": {
          "base_uri": "https://localhost:8080/"
        },
        "id": "sxHvDXQeXOs-",
        "outputId": "97b1f00b-3e2a-4193-f53b-85f1147a5744"
      },
      "outputs": [
        {
          "output_type": "stream",
          "name": "stdout",
          "text": [
            "[3, 1, 'Two', 'bear']\n"
          ]
        }
      ],
      "source": [
        "xs.append('bear')  # Add a new element to the end of the list(resizeable)\n",
        "print(xs)         # Prints \"[3, 1, 'Two', 'bear']\""
      ]
    },
    {
      "cell_type": "code",
      "execution_count": 25,
      "metadata": {
        "colab": {
          "base_uri": "https://localhost:8080/"
        },
        "id": "boN0AjA7XOs-",
        "outputId": "1730f278-ff2c-4e97-89b0-8db92b419b70"
      },
      "outputs": [
        {
          "output_type": "stream",
          "name": "stdout",
          "text": [
            "bear [3, 1, 'Two']\n"
          ]
        }
      ],
      "source": [
        "x = xs.pop()      # Remove and return the last element of the list\n",
        "print(x, xs)      # Prints \"bar [3, 1, 'Two']\""
      ]
    },
    {
      "cell_type": "code",
      "execution_count": 26,
      "metadata": {
        "colab": {
          "base_uri": "https://localhost:8080/"
        },
        "id": "kaQQHwnYXOs-",
        "outputId": "ba25def9-a686-4854-950a-c255f2556ff0"
      },
      "outputs": [
        {
          "output_type": "stream",
          "name": "stdout",
          "text": [
            "['Stefano', 'is', 'Amazing']\n"
          ]
        }
      ],
      "source": [
        "empty_list = []   # Create an empty list\n",
        "\n",
        "empty_list.append('Stefano') # Append(add) an element to an empty list\n",
        "empty_list.append('is')\n",
        "empty_list.append('Amazing')\n",
        "\n",
        "print(empty_list)"
      ]
    },
    {
      "cell_type": "code",
      "execution_count": 27,
      "metadata": {
        "colab": {
          "base_uri": "https://localhost:8080/"
        },
        "id": "crqUPSUeXOs-",
        "outputId": "ffe50e70-fd8a-4311-ca3c-1e9b08674cf9"
      },
      "outputs": [
        {
          "output_type": "stream",
          "name": "stdout",
          "text": [
            "['Stefano', 'Amazing']\n"
          ]
        }
      ],
      "source": [
        "empty_list.pop(1)  # Removing by index\n",
        "print(empty_list)"
      ]
    },
    {
      "cell_type": "code",
      "execution_count": 28,
      "metadata": {
        "colab": {
          "base_uri": "https://localhost:8080/"
        },
        "id": "evu-P04zXOs_",
        "outputId": "8da77abe-b482-4b05-b480-b558864bc0c7"
      },
      "outputs": [
        {
          "output_type": "stream",
          "name": "stdout",
          "text": [
            "['Stefano']\n"
          ]
        }
      ],
      "source": [
        "empty_list.remove('Amazing') # Removing by value\n",
        "print(empty_list)"
      ]
    },
    {
      "cell_type": "markdown",
      "metadata": {
        "id": "UWRIzMtyXOs_"
      },
      "source": [
        "### Sclicing\n",
        "\n",
        "In addition to accessing list elements one at a time, Python provides concise syntax(`Lst[ Initial : End : IndexJump ]`) to access sublists; this is known as **slicing**:"
      ]
    },
    {
      "cell_type": "code",
      "execution_count": 29,
      "metadata": {
        "colab": {
          "base_uri": "https://localhost:8080/"
        },
        "id": "pFcW0NAuXOs_",
        "outputId": "8ace3fd1-3e3c-4ee5-9b2e-2dfc0734950c"
      },
      "outputs": [
        {
          "output_type": "stream",
          "name": "stdout",
          "text": [
            "[0, 1, 2, 3, 4, 5]\n"
          ]
        }
      ],
      "source": [
        "# Lists Range\n",
        "nums = list(range(6))     # range is a built-in function that creates a list of integers\n",
        "print(nums)   # Prints \"[0, 1, 2, 3, 4, 5]\" (i.e. our working indices)   "
      ]
    },
    {
      "cell_type": "code",
      "execution_count": 30,
      "metadata": {
        "colab": {
          "base_uri": "https://localhost:8080/"
        },
        "id": "w2mWx9lcXOs_",
        "outputId": "cf2e0523-568d-4ce1-aab3-6ec4c99703f5"
      },
      "outputs": [
        {
          "output_type": "stream",
          "name": "stdout",
          "text": [
            "[2, 3, 4]\n"
          ]
        }
      ],
      "source": [
        "print(nums[2:5])          # Get a slice from index 2 to 4 (right end point exclusive); \n",
        "#prints \"[2, 3, 4]\""
      ]
    },
    {
      "cell_type": "code",
      "execution_count": 31,
      "metadata": {
        "colab": {
          "base_uri": "https://localhost:8080/"
        },
        "id": "TxDHlzxXXOs_",
        "outputId": "a055371a-da06-49d1-a100-b8fde552b9d4"
      },
      "outputs": [
        {
          "output_type": "stream",
          "name": "stdout",
          "text": [
            "[2, 3, 4, 5]\n"
          ]
        }
      ],
      "source": [
        "print(nums[2:])           # Get a slice from index 2 to the end; prints \"[2, 3, 4, 5]\""
      ]
    },
    {
      "cell_type": "code",
      "execution_count": 32,
      "metadata": {
        "colab": {
          "base_uri": "https://localhost:8080/"
        },
        "id": "rLgeni-7XOs_",
        "outputId": "c78a6cbd-5166-45bb-f52f-4d02c572fade"
      },
      "outputs": [
        {
          "output_type": "stream",
          "name": "stdout",
          "text": [
            "[0, 1]\n"
          ]
        }
      ],
      "source": [
        "print(nums[:2])           # Get a slice from the start to index 2 (exclusive); prints \"[0, 1]\""
      ]
    },
    {
      "cell_type": "code",
      "execution_count": 33,
      "metadata": {
        "colab": {
          "base_uri": "https://localhost:8080/"
        },
        "id": "SBs67CRBXOs_",
        "outputId": "d60e8c45-1b05-4882-929a-32c88b9a394c"
      },
      "outputs": [
        {
          "output_type": "stream",
          "name": "stdout",
          "text": [
            "[0, 1, 2, 3, 4, 5]\n"
          ]
        }
      ],
      "source": [
        "print(nums[:])            # Get a slice of the whole list; prints \"[0, 1, 2, 3, 4, 5]\""
      ]
    },
    {
      "cell_type": "code",
      "execution_count": 34,
      "metadata": {
        "colab": {
          "base_uri": "https://localhost:8080/"
        },
        "id": "-M3A23KvXOs_",
        "outputId": "6cadd784-cf3c-402e-ca73-3ed7cafab1ef"
      },
      "outputs": [
        {
          "output_type": "stream",
          "name": "stdout",
          "text": [
            "[0, 1, 2, 3]\n"
          ]
        }
      ],
      "source": [
        "print(nums[:-2])          # Slice indices can be negative; prints \"[0, 1, 2, 3]\""
      ]
    },
    {
      "cell_type": "code",
      "execution_count": 35,
      "metadata": {
        "colab": {
          "base_uri": "https://localhost:8080/"
        },
        "id": "97ydgyHKXOs_",
        "outputId": "3906389e-acb3-417d-d385-26b6a819361f"
      },
      "outputs": [
        {
          "output_type": "stream",
          "name": "stdout",
          "text": [
            "[0, 2, 4]\n"
          ]
        }
      ],
      "source": [
        "print(nums[0:5:2])        # Indexing Step specified; prints \"[0,2,4]\""
      ]
    },
    {
      "cell_type": "code",
      "execution_count": 36,
      "metadata": {
        "colab": {
          "base_uri": "https://localhost:8080/"
        },
        "id": "kYZ_fMI7XOs_",
        "outputId": "a0606b99-85c7-43d6-bf6b-8ab7a155c92c"
      },
      "outputs": [
        {
          "output_type": "stream",
          "name": "stdout",
          "text": [
            "[0, 1, 8, 9, 4, 5]\n"
          ]
        }
      ],
      "source": [
        "nums[2:4] = [8, 9]        # Assign a new sublist to a slice\n",
        "print(nums)   "
      ]
    },
    {
      "cell_type": "markdown",
      "metadata": {
        "id": "rDGGRxeiXOtA"
      },
      "source": [
        "### Loops"
      ]
    },
    {
      "cell_type": "code",
      "execution_count": 37,
      "metadata": {
        "colab": {
          "base_uri": "https://localhost:8080/"
        },
        "id": "7yXYMujLXOtA",
        "outputId": "70849f81-4876-483c-cc5f-0febd59c57b8"
      },
      "outputs": [
        {
          "output_type": "stream",
          "name": "stdout",
          "text": [
            "cat\n",
            "dog\n",
            "monkey\n"
          ]
        }
      ],
      "source": [
        "animals = ['cat', 'dog', 'monkey']\n",
        "for animal in animals:\n",
        "    print(animal)\n",
        "# Prints \"cat\", \"dog\", \"monkey\", each on its own line."
      ]
    },
    {
      "cell_type": "markdown",
      "metadata": {
        "id": "DuPToWx3XOtA"
      },
      "source": [
        "If you want access to the index of each element within the body of a loop, use the built-in `enumerate` function:"
      ]
    },
    {
      "cell_type": "code",
      "execution_count": 38,
      "metadata": {
        "colab": {
          "base_uri": "https://localhost:8080/"
        },
        "id": "rmwQo_CyXOtA",
        "outputId": "c71df2ec-e59c-4552-d574-ecc22f2aedfb"
      },
      "outputs": [
        {
          "output_type": "stream",
          "name": "stdout",
          "text": [
            "#0: cat\n",
            "#1: dog\n",
            "#2: monkey\n"
          ]
        }
      ],
      "source": [
        "animals = ['cat', 'dog', 'monkey']\n",
        "for idx, animal in enumerate(animals):\n",
        "    print('#%d: %s' % (idx , animal))\n",
        "# Prints \"#0: cat\", \"#1: dog\", \"#2: monkey\", each on its own line"
      ]
    },
    {
      "cell_type": "markdown",
      "metadata": {
        "id": "RZoL0aLOXOtA"
      },
      "source": [
        "### List comprehension \n",
        "\n",
        "When programming, frequently we want to transform one type of data into another. \n",
        "As a simple example, consider the following code that computes square numbers:"
      ]
    },
    {
      "cell_type": "code",
      "execution_count": 39,
      "metadata": {
        "colab": {
          "base_uri": "https://localhost:8080/"
        },
        "id": "QNwWF6yQXOtA",
        "outputId": "f8c31cfc-097e-4f24-abb8-db8cbde1ee9e"
      },
      "outputs": [
        {
          "output_type": "stream",
          "name": "stdout",
          "text": [
            "[0, 1, 4, 9, 16]\n"
          ]
        }
      ],
      "source": [
        "nums = [0, 1, 2, 3, 4]\n",
        "squares = []\n",
        "for x in nums:\n",
        "    squares.append(x ** 2)\n",
        "print(squares)   # Prints [0, 1, 4, 9, 16]"
      ]
    },
    {
      "cell_type": "markdown",
      "metadata": {
        "id": "sSj5ozfmXOtA"
      },
      "source": [
        "You can make this code simpler using a **list comprehension**. Its syntax is :\n",
        " `newlist = [expression for item in iterable if condition == True]` and you can see it below:"
      ]
    },
    {
      "cell_type": "code",
      "execution_count": 40,
      "metadata": {
        "colab": {
          "base_uri": "https://localhost:8080/"
        },
        "id": "kFLyy17yXOtA",
        "outputId": "0bbf65c8-c7e2-4862-acc1-db118641d6c6"
      },
      "outputs": [
        {
          "output_type": "stream",
          "name": "stdout",
          "text": [
            "[0, 1, 4, 9, 16]\n"
          ]
        }
      ],
      "source": [
        "nums = [0, 1, 2, 3, 4]\n",
        "squares = [x ** 2 for x in nums]\n",
        "print(squares)   # Prints [0, 1, 4, 9, 16]"
      ]
    },
    {
      "cell_type": "markdown",
      "metadata": {
        "id": "aEQcXOVcXOtA"
      },
      "source": [
        "List comprehensions can also contain conditions:"
      ]
    },
    {
      "cell_type": "code",
      "execution_count": 41,
      "metadata": {
        "colab": {
          "base_uri": "https://localhost:8080/"
        },
        "id": "4JZoe-opXOtA",
        "outputId": "d262d14f-d365-40c3-8e6b-8e8dd54efa64"
      },
      "outputs": [
        {
          "output_type": "stream",
          "name": "stdout",
          "text": [
            "[0, 4, 16]\n"
          ]
        }
      ],
      "source": [
        "nums = [0, 1, 2, 3, 4]\n",
        "even_squares = [x ** 2 for x in nums if x % 2 == 0]\n",
        "print(even_squares)  # Prints \"[0, 4, 16]\""
      ]
    },
    {
      "cell_type": "markdown",
      "metadata": {
        "id": "vo5L0ZIqXOtB"
      },
      "source": [
        "### Dictionaries\n",
        "\n",
        "A dictionary stores (key, value) pairs, similar to a `Map` in Java or an `object` in Javascript. They are enclosed in curly brackets(`{}`) You can use it like this:"
      ]
    },
    {
      "cell_type": "code",
      "execution_count": 42,
      "metadata": {
        "colab": {
          "base_uri": "https://localhost:8080/"
        },
        "id": "TQMdRC_3XOtB",
        "outputId": "ac817fe2-8f84-4606-ae9b-5560eec90b51"
      },
      "outputs": [
        {
          "output_type": "stream",
          "name": "stdout",
          "text": [
            "furry\n"
          ]
        }
      ],
      "source": [
        "d = {'cat': 'cute', 'dog': 'furry'}  # Create a new dictionary with some data\n",
        "print(d['dog'])       # Get an entry from a dictionary; prints \"furry\""
      ]
    },
    {
      "cell_type": "code",
      "execution_count": 43,
      "metadata": {
        "colab": {
          "base_uri": "https://localhost:8080/"
        },
        "id": "7QYdPbSeXOtB",
        "outputId": "6d831436-5b15-40a6-8c53-988d00581651"
      },
      "outputs": [
        {
          "output_type": "stream",
          "name": "stdout",
          "text": [
            "True\n"
          ]
        }
      ],
      "source": [
        "print('cat' in d)     # Check if a dictionary has a given key; prints \"True\""
      ]
    },
    {
      "cell_type": "code",
      "execution_count": 44,
      "metadata": {
        "colab": {
          "base_uri": "https://localhost:8080/"
        },
        "id": "bsxrY0cGXOtB",
        "outputId": "a191270f-950b-42bd-fdef-6a6ddac80b12"
      },
      "outputs": [
        {
          "output_type": "stream",
          "name": "stdout",
          "text": [
            "wet\n"
          ]
        }
      ],
      "source": [
        "d['fish'] = 'wet'     # Set an entry in a dictionary\n",
        "print(d['fish'])      # Prints \"wet\""
      ]
    },
    {
      "cell_type": "code",
      "execution_count": 45,
      "metadata": {
        "colab": {
          "base_uri": "https://localhost:8080/",
          "height": 168
        },
        "id": "iYlF-XFHXOtB",
        "outputId": "fad78f59-a409-4b5e-da9f-c3c2b5626738"
      },
      "outputs": [
        {
          "output_type": "error",
          "ename": "KeyError",
          "evalue": "ignored",
          "traceback": [
            "\u001b[0;31m---------------------------------------------------------------------------\u001b[0m",
            "\u001b[0;31mKeyError\u001b[0m                                  Traceback (most recent call last)",
            "\u001b[0;32m<ipython-input-45-78fc9745d9cf>\u001b[0m in \u001b[0;36m<module>\u001b[0;34m\u001b[0m\n\u001b[0;32m----> 1\u001b[0;31m \u001b[0mprint\u001b[0m\u001b[0;34m(\u001b[0m\u001b[0md\u001b[0m\u001b[0;34m[\u001b[0m\u001b[0;34m'monkey'\u001b[0m\u001b[0;34m]\u001b[0m\u001b[0;34m)\u001b[0m  \u001b[0;31m# KeyError: 'monkey' not a key of d\u001b[0m\u001b[0;34m\u001b[0m\u001b[0;34m\u001b[0m\u001b[0m\n\u001b[0m",
            "\u001b[0;31mKeyError\u001b[0m: 'monkey'"
          ]
        }
      ],
      "source": [
        "print(d['monkey'])  # KeyError: 'monkey' not a key of d"
      ]
    },
    {
      "cell_type": "code",
      "execution_count": 46,
      "metadata": {
        "colab": {
          "base_uri": "https://localhost:8080/"
        },
        "id": "fH6RhOIKXOtB",
        "outputId": "b21938bd-5276-4e2c-a720-e3e818c3e230"
      },
      "outputs": [
        {
          "output_type": "stream",
          "name": "stdout",
          "text": [
            "N/A\n"
          ]
        }
      ],
      "source": [
        "print(d.get('monkey', 'N/A'))  # Get an element with a default; prints \"N/A\""
      ]
    },
    {
      "cell_type": "code",
      "execution_count": 47,
      "metadata": {
        "colab": {
          "base_uri": "https://localhost:8080/"
        },
        "id": "Ps6xpDjPXOtB",
        "outputId": "b39c31dc-de41-4c74-96dd-b4822ee57098"
      },
      "outputs": [
        {
          "output_type": "stream",
          "name": "stdout",
          "text": [
            "wet\n"
          ]
        }
      ],
      "source": [
        "print(d.get('fish', 'N/A'))    # Get an element with a default; prints \"wet\""
      ]
    },
    {
      "cell_type": "code",
      "execution_count": 48,
      "metadata": {
        "colab": {
          "base_uri": "https://localhost:8080/"
        },
        "id": "8oOgLnJEXOtB",
        "outputId": "cb3e3965-170a-43e6-a85b-68b801965f56"
      },
      "outputs": [
        {
          "output_type": "stream",
          "name": "stdout",
          "text": [
            "N/A\n"
          ]
        }
      ],
      "source": [
        "del d['fish']         # Remove an element from a dictionary\n",
        "print(d.get('fish', 'N/A')) # \"fish\" is no longer a key; prints \"N/A\""
      ]
    },
    {
      "cell_type": "markdown",
      "metadata": {
        "id": "1mo9nHYdXOtB"
      },
      "source": [
        "### Loops for dictionaries"
      ]
    },
    {
      "cell_type": "code",
      "execution_count": 49,
      "metadata": {
        "colab": {
          "base_uri": "https://localhost:8080/"
        },
        "id": "oOC_XQ_aXOtB",
        "outputId": "67572539-65b4-4cb3-b60f-330fa4894db2"
      },
      "outputs": [
        {
          "output_type": "stream",
          "name": "stdout",
          "text": [
            "A person has 2 legs\n",
            "A cat has 4 legs\n",
            "A spider has 8 legs\n"
          ]
        }
      ],
      "source": [
        "d = {'person': 2, 'cat': 4, 'spider': 8}\n",
        "for animal in d:\n",
        "    legs = d[animal]\n",
        "    print('A %s has %d legs' % (animal, legs))\n",
        "# Prints \"A person has 2 legs\", \"A cat has 4 legs\", \"A spider has 8 legs\""
      ]
    },
    {
      "cell_type": "markdown",
      "metadata": {
        "id": "WsFXEKR0XOtB"
      },
      "source": [
        "If you want access to keys and their corresponding values, use the `items` method:"
      ]
    },
    {
      "cell_type": "code",
      "execution_count": 50,
      "metadata": {
        "colab": {
          "base_uri": "https://localhost:8080/"
        },
        "id": "IuDPF60FXOtB",
        "outputId": "2ca806d6-4baa-430e-8667-b8a5e29a9375"
      },
      "outputs": [
        {
          "output_type": "stream",
          "name": "stdout",
          "text": [
            "A person has 2 legs\n",
            "A cat has 4 legs\n",
            "A spider has 8 legs\n"
          ]
        }
      ],
      "source": [
        "d = {'person': 2, 'cat': 4, 'spider': 8}\n",
        "for animal, legs in d.items():\n",
        "    print('A %s has %d legs' % (animal, legs))\n",
        "# Prints \"A person has 2 legs\", \"A cat has 4 legs\", \"A spider has 8 legs\""
      ]
    },
    {
      "cell_type": "markdown",
      "metadata": {
        "id": "RVaCGT8ZXOtC"
      },
      "source": [
        "One can check if certain value is inside dictionary keys using `keys` method"
      ]
    },
    {
      "cell_type": "code",
      "execution_count": 51,
      "metadata": {
        "colab": {
          "base_uri": "https://localhost:8080/"
        },
        "id": "BBphqy1SXOtC",
        "outputId": "037a5f89-4354-45a5-a49e-c3af8ab44253"
      },
      "outputs": [
        {
          "output_type": "stream",
          "name": "stdout",
          "text": [
            "True\n"
          ]
        }
      ],
      "source": [
        "print('cat' in d.keys())  #Prints True"
      ]
    },
    {
      "cell_type": "code",
      "execution_count": 52,
      "metadata": {
        "colab": {
          "base_uri": "https://localhost:8080/"
        },
        "id": "UDUBDPo1XOtC",
        "outputId": "f1abc835-1814-4820-813e-b6fe1c9b67fc"
      },
      "outputs": [
        {
          "output_type": "stream",
          "name": "stdout",
          "text": [
            "False\n"
          ]
        }
      ],
      "source": [
        "print('monkey' in d.keys())  #Prints False"
      ]
    },
    {
      "cell_type": "code",
      "execution_count": 53,
      "metadata": {
        "colab": {
          "base_uri": "https://localhost:8080/"
        },
        "id": "sVeh_uTSXOtC",
        "outputId": "00cf307a-7659-4d3b-bfa0-81651cba3f76"
      },
      "outputs": [
        {
          "output_type": "stream",
          "name": "stdout",
          "text": [
            "False\n"
          ]
        }
      ],
      "source": [
        "# Similarly for Values\n",
        "print('furry' in d.values())"
      ]
    },
    {
      "cell_type": "code",
      "execution_count": 54,
      "metadata": {
        "colab": {
          "base_uri": "https://localhost:8080/"
        },
        "id": "dwfMALdHXOtC",
        "outputId": "df750905-0ba2-47c9-8016-1199f9a7f85d"
      },
      "outputs": [
        {
          "output_type": "execute_result",
          "data": {
            "text/plain": [
              "True"
            ]
          },
          "metadata": {},
          "execution_count": 54
        }
      ],
      "source": [
        "'cat' in d #This will also work"
      ]
    },
    {
      "cell_type": "markdown",
      "metadata": {
        "id": "TmjFiupxXOtC"
      },
      "source": [
        "### Dictionary comprehensions:\n",
        "\n",
        "These are similar to list comprehensions, but allow you to easily construct dictionaries. For example:"
      ]
    },
    {
      "cell_type": "code",
      "execution_count": 55,
      "metadata": {
        "colab": {
          "base_uri": "https://localhost:8080/"
        },
        "id": "mlGedE_AXOtC",
        "outputId": "8e8016c4-76e6-4201-d08a-b9b92b8cd235"
      },
      "outputs": [
        {
          "output_type": "stream",
          "name": "stdout",
          "text": [
            "{0: 0, 2: 4, 4: 16}\n"
          ]
        }
      ],
      "source": [
        "nums = [0, 1, 2, 3, 4]\n",
        "even_num_to_square = {x: x ** 2 for x in nums if x % 2 == 0}\n",
        "print(even_num_to_square)  # Prints \"{0: 0, 2: 4, 4: 16}\""
      ]
    },
    {
      "cell_type": "markdown",
      "metadata": {
        "id": "6bQpZQUKXOtC"
      },
      "source": [
        "### Sets(You dont have to worry about them much)\n",
        "\n",
        "A set is an **unordered** collection of distinct elements. As a simple example, consider the following:"
      ]
    },
    {
      "cell_type": "code",
      "execution_count": 56,
      "metadata": {
        "colab": {
          "base_uri": "https://localhost:8080/"
        },
        "id": "FpAXNPTTXOtC",
        "outputId": "54a592ec-c779-42d3-82a4-00eaaff9d2e5"
      },
      "outputs": [
        {
          "output_type": "stream",
          "name": "stdout",
          "text": [
            "True\n"
          ]
        }
      ],
      "source": [
        "animals = {'cat', 'dog'}\n",
        "print('cat' in animals)   # Check if an element is in a set; prints \"True\""
      ]
    },
    {
      "cell_type": "code",
      "execution_count": 57,
      "metadata": {
        "colab": {
          "base_uri": "https://localhost:8080/"
        },
        "id": "XomKB5UNXOtC",
        "outputId": "8a30d465-0dfa-4b5e-c7ca-217fb08de4fc"
      },
      "outputs": [
        {
          "output_type": "stream",
          "name": "stdout",
          "text": [
            "False\n"
          ]
        }
      ],
      "source": [
        "print('fish' in animals)  # prints \"False\""
      ]
    },
    {
      "cell_type": "code",
      "execution_count": 58,
      "metadata": {
        "colab": {
          "base_uri": "https://localhost:8080/"
        },
        "id": "sPkPaPwwXOtC",
        "outputId": "ae4ac088-e7b9-417f-ac44-94ddcb7fa0f1"
      },
      "outputs": [
        {
          "output_type": "stream",
          "name": "stdout",
          "text": [
            "True\n"
          ]
        }
      ],
      "source": [
        "animals.add('fish')       # Add an element to a set\n",
        "print('fish' in animals)  # Prints \"True\""
      ]
    },
    {
      "cell_type": "code",
      "execution_count": 59,
      "metadata": {
        "colab": {
          "base_uri": "https://localhost:8080/"
        },
        "id": "Dh9BnXLlXOtC",
        "outputId": "e4cb17c4-5ba7-48a5-bafd-b455d608f51d"
      },
      "outputs": [
        {
          "output_type": "stream",
          "name": "stdout",
          "text": [
            "3\n"
          ]
        }
      ],
      "source": [
        "print(len(animals))       # Number of elements in a set; prints \"3\""
      ]
    },
    {
      "cell_type": "code",
      "execution_count": 60,
      "metadata": {
        "colab": {
          "base_uri": "https://localhost:8080/"
        },
        "id": "UcyYYH84XOtD",
        "outputId": "8919540b-8e98-434e-b94a-f64c8ad63402"
      },
      "outputs": [
        {
          "output_type": "stream",
          "name": "stdout",
          "text": [
            "3\n"
          ]
        }
      ],
      "source": [
        "animals.add('cat')        # Adding an element that is already in the set does nothing\n",
        "print(len(animals))       # Prints \"3\""
      ]
    },
    {
      "cell_type": "code",
      "execution_count": 61,
      "metadata": {
        "colab": {
          "base_uri": "https://localhost:8080/"
        },
        "id": "-DAt3Ng7XOtD",
        "outputId": "e5529ae1-5310-49f0-d98d-25119d73f975"
      },
      "outputs": [
        {
          "output_type": "stream",
          "name": "stdout",
          "text": [
            "2\n"
          ]
        }
      ],
      "source": [
        "animals.remove('cat')     # Remove an element from a set\n",
        "print(len(animals))       # Prints \"2\""
      ]
    },
    {
      "cell_type": "markdown",
      "metadata": {
        "id": "m3acdjn1XOtD"
      },
      "source": [
        "### Loops: \n",
        "\n",
        "Iterating over a `set` has the same syntax as iterating over a `list`; however since sets are **unordered**, you cannot make assumptions about the order in which you visit the elements of the set:"
      ]
    },
    {
      "cell_type": "code",
      "execution_count": 62,
      "metadata": {
        "colab": {
          "base_uri": "https://localhost:8080/"
        },
        "id": "xaEK3z_PXOtD",
        "outputId": "51307279-c400-491f-d102-b10f541b7f17"
      },
      "outputs": [
        {
          "output_type": "stream",
          "name": "stdout",
          "text": [
            "#1: dog\n",
            "#2: fish\n",
            "#3: cat\n"
          ]
        }
      ],
      "source": [
        "animals = {'cat', 'dog', 'fish'}\n",
        "for idx, animal in enumerate(animals):\n",
        "    print('#%d: %s' % (idx + 1, animal))\n",
        "# Prints \"#1: fish\", \"#2: dog\", \"#3: cat\""
      ]
    },
    {
      "cell_type": "markdown",
      "metadata": {
        "id": "QOD2ZDscXOtD"
      },
      "source": [
        "### Set comprehensions:\n",
        "\n",
        "Like lists and dictionaries, we can easily construct sets using set comprehensions:"
      ]
    },
    {
      "cell_type": "code",
      "execution_count": 63,
      "metadata": {
        "colab": {
          "base_uri": "https://localhost:8080/"
        },
        "id": "VbunPwTCXOtD",
        "outputId": "f179c8a3-970d-42b1-94d7-0e4c386a9bec"
      },
      "outputs": [
        {
          "output_type": "stream",
          "name": "stdout",
          "text": [
            "{0, 1, 2, 3, 4, 5}\n"
          ]
        }
      ],
      "source": [
        "from math import sqrt\n",
        "nums = {int(sqrt(x)) for x in range(30)}\n",
        "print(nums)  # Prints \"{0, 1, 2, 3, 4, 5}\""
      ]
    },
    {
      "cell_type": "markdown",
      "metadata": {
        "id": "Tp3beNjQXOtD"
      },
      "source": [
        "### Tuples(Dont worry much about them)\n",
        "\n",
        "A tuple is an **(immutable) ordered list** of values. A tuple is in many ways similar to a list; one of the most important differences is that tuples can be used as keys in dictionaries and as elements of sets, while lists cannot. Here is a trivial example:"
      ]
    },
    {
      "cell_type": "code",
      "execution_count": 64,
      "metadata": {
        "colab": {
          "base_uri": "https://localhost:8080/"
        },
        "id": "vERcU05yXOtD",
        "outputId": "37f7e780-3de5-45e0-85d9-652f9fbfd860"
      },
      "outputs": [
        {
          "output_type": "stream",
          "name": "stdout",
          "text": [
            "{(0, 1): 0, (1, 2): 1, (2, 3): 2, (3, 4): 3, (4, 5): 4, (5, 6): 5, (6, 7): 6, (7, 8): 7, (8, 9): 8, (9, 10): 9}\n"
          ]
        }
      ],
      "source": [
        "d = {(x, x + 1): x for x in range(10)}  # Create a dictionary with tuple keys\n",
        "print(d)"
      ]
    },
    {
      "cell_type": "code",
      "execution_count": 65,
      "metadata": {
        "colab": {
          "base_uri": "https://localhost:8080/"
        },
        "id": "tRLE4kffXOtD",
        "outputId": "93327b24-dc98-49c3-a913-1a56fccbcf0d"
      },
      "outputs": [
        {
          "output_type": "stream",
          "name": "stdout",
          "text": [
            "(5, 6)\n"
          ]
        }
      ],
      "source": [
        "t = (5, 6)        # Create a tuple\n",
        "print(t)"
      ]
    },
    {
      "cell_type": "code",
      "execution_count": 66,
      "metadata": {
        "colab": {
          "base_uri": "https://localhost:8080/"
        },
        "id": "nxX9-x0EXOtD",
        "outputId": "7f18e428-1977-4bb1-9a2d-502721134da2"
      },
      "outputs": [
        {
          "output_type": "stream",
          "name": "stdout",
          "text": [
            "<class 'tuple'>\n"
          ]
        }
      ],
      "source": [
        "print(type(t))    # Prints \"<class 'tuple'>\""
      ]
    },
    {
      "cell_type": "code",
      "execution_count": 67,
      "metadata": {
        "colab": {
          "base_uri": "https://localhost:8080/"
        },
        "id": "67MbP5nlXOtD",
        "outputId": "1ab7937d-73b7-4761-ad04-282def9e39de"
      },
      "outputs": [
        {
          "output_type": "stream",
          "name": "stdout",
          "text": [
            "5\n"
          ]
        }
      ],
      "source": [
        "print(d[t])       # Prints \"5\""
      ]
    },
    {
      "cell_type": "code",
      "execution_count": 68,
      "metadata": {
        "colab": {
          "base_uri": "https://localhost:8080/"
        },
        "id": "rTYsTNGhXOtE",
        "outputId": "f52395c4-4a07-4c89-b7f8-3addfbcd4859"
      },
      "outputs": [
        {
          "output_type": "stream",
          "name": "stdout",
          "text": [
            "1\n"
          ]
        }
      ],
      "source": [
        "print(d[(1, 2)])  # Prints \"1\""
      ]
    },
    {
      "cell_type": "markdown",
      "metadata": {
        "id": "gz5sDIcfXOtE"
      },
      "source": [
        "## Functions\n",
        "\n",
        "Python functions are defined using the `def` keyword. For example:"
      ]
    },
    {
      "cell_type": "code",
      "execution_count": 69,
      "metadata": {
        "colab": {
          "base_uri": "https://localhost:8080/"
        },
        "id": "iZbmjFXFXOtE",
        "outputId": "6d9ae6b3-801b-4d82-9d46-11148e087e57"
      },
      "outputs": [
        {
          "output_type": "stream",
          "name": "stdout",
          "text": [
            "negative\n",
            "zero\n",
            "positive\n"
          ]
        }
      ],
      "source": [
        "def sign(x):\n",
        "    if x > 0:\n",
        "        return 'positive'\n",
        "    elif x < 0:\n",
        "        return 'negative'\n",
        "    else:\n",
        "        return 'zero'\n",
        "\n",
        "for x in [-1, 0, 1]:\n",
        "    print(sign(x))\n",
        "# Prints \"negative\", \"zero\", \"positive\""
      ]
    },
    {
      "cell_type": "code",
      "execution_count": 70,
      "metadata": {
        "colab": {
          "base_uri": "https://localhost:8080/",
          "height": 36
        },
        "id": "nIUcFS6yXOtE",
        "outputId": "4aea9af1-c1a1-4dc5-8a07-4ec2582977ac"
      },
      "outputs": [
        {
          "output_type": "execute_result",
          "data": {
            "text/plain": [
              "'positive'"
            ],
            "application/vnd.google.colaboratory.intrinsic+json": {
              "type": "string"
            }
          },
          "metadata": {},
          "execution_count": 70
        }
      ],
      "source": [
        "sign(x)"
      ]
    },
    {
      "cell_type": "markdown",
      "metadata": {
        "id": "FlIbFuz_XOtE"
      },
      "source": [
        "We will often define functions to take `optional` keyword arguments, like this:"
      ]
    },
    {
      "cell_type": "code",
      "execution_count": 71,
      "metadata": {
        "id": "6rvrGCIbXOtE"
      },
      "outputs": [],
      "source": [
        "def hello(name, loud=False):\n",
        "    if loud:\n",
        "        print('HELLO, %s!' % name.upper())\n",
        "    else:\n",
        "        print('Hello, %s' % name)\n"
      ]
    },
    {
      "cell_type": "code",
      "execution_count": 72,
      "metadata": {
        "colab": {
          "base_uri": "https://localhost:8080/"
        },
        "id": "FUw3_CrBXOtE",
        "outputId": "2041a891-cb12-4620-99c5-51d5a80d5f59"
      },
      "outputs": [
        {
          "output_type": "stream",
          "name": "stdout",
          "text": [
            "Hello, Bob\n"
          ]
        }
      ],
      "source": [
        "hello('Bob') # Prints \"Hello, Bob\""
      ]
    },
    {
      "cell_type": "code",
      "execution_count": 73,
      "metadata": {
        "colab": {
          "base_uri": "https://localhost:8080/"
        },
        "id": "vh9K_4qmXOtE",
        "outputId": "5c24cbcc-30eb-4335-b8e8-b463cd3ba85c"
      },
      "outputs": [
        {
          "output_type": "stream",
          "name": "stdout",
          "text": [
            "HELLO, FRED!\n"
          ]
        }
      ],
      "source": [
        "hello('Fred', loud=True)  # Prints \"HELLO, FRED!\""
      ]
    },
    {
      "cell_type": "markdown",
      "metadata": {
        "id": "nOGavQRcXOtE"
      },
      "source": [
        "# NumPy (Numerical Python)\n",
        "\n",
        "Numpy is the core library for scientific computing in Python. It provides a high-performance multidimensional array object, and tools for working with these arrays. If you are already familiar with MATLAB, you might find this tutorial useful to get started with Numpy."
      ]
    },
    {
      "cell_type": "code",
      "execution_count": 74,
      "metadata": {
        "id": "sQBwg1BvXOtE"
      },
      "outputs": [],
      "source": [
        "import numpy as np"
      ]
    },
    {
      "cell_type": "markdown",
      "metadata": {
        "id": "NlV5_DT_XOtF"
      },
      "source": [
        "## Basics"
      ]
    },
    {
      "cell_type": "code",
      "execution_count": 75,
      "metadata": {
        "colab": {
          "base_uri": "https://localhost:8080/"
        },
        "id": "4HX9wTYkXOtF",
        "outputId": "afa8e196-27a6-41ec-ac57-2121a1711489"
      },
      "outputs": [
        {
          "output_type": "stream",
          "name": "stdout",
          "text": [
            "[1 2 3]\n"
          ]
        }
      ],
      "source": [
        "# Create an array of integers\n",
        "#int32 is type of integer\n",
        "a = np.array([1,2,3])\n",
        "print(a)"
      ]
    },
    {
      "cell_type": "code",
      "execution_count": 76,
      "metadata": {
        "colab": {
          "base_uri": "https://localhost:8080/"
        },
        "id": "IC5Bo67ZXOtF",
        "outputId": "cf6e73b4-5ec2-42f0-cc3b-96ec6b4b54e7"
      },
      "outputs": [
        {
          "output_type": "stream",
          "name": "stdout",
          "text": [
            "[[9. 8. 7.]\n",
            " [6. 5. 4.]]\n"
          ]
        }
      ],
      "source": [
        "#Create an array of array (Matrix)\n",
        "b = np.array([[9.0,8.0,7.0],[6.0,5.0,4.0]])\n",
        "print(b)"
      ]
    },
    {
      "cell_type": "code",
      "execution_count": 77,
      "metadata": {
        "colab": {
          "base_uri": "https://localhost:8080/"
        },
        "id": "wGvknIdaXOtF",
        "outputId": "48906e98-96cd-49d6-fe4d-1a0526939b15"
      },
      "outputs": [
        {
          "output_type": "stream",
          "name": "stdout",
          "text": [
            "1\n",
            "2\n"
          ]
        }
      ],
      "source": [
        "# Get Dimensions of Array\n",
        "print(a.ndim)\n",
        "print(b.ndim)"
      ]
    },
    {
      "cell_type": "code",
      "execution_count": 78,
      "metadata": {
        "colab": {
          "base_uri": "https://localhost:8080/"
        },
        "id": "rlbodVvhXOtF",
        "outputId": "04ffea52-21e4-40d7-83a6-e9451081f06c"
      },
      "outputs": [
        {
          "output_type": "stream",
          "name": "stdout",
          "text": [
            "(3,)\n",
            "(2, 3)\n"
          ]
        }
      ],
      "source": [
        "# Get Shape\n",
        "# Return a tuple\n",
        "print(a.shape)\n",
        "print(b.shape)"
      ]
    },
    {
      "cell_type": "code",
      "execution_count": 79,
      "metadata": {
        "colab": {
          "base_uri": "https://localhost:8080/"
        },
        "id": "_QhTntWhXOtF",
        "outputId": "bbf5a7b0-f036-4a97-d22a-8dfa96407b11"
      },
      "outputs": [
        {
          "output_type": "stream",
          "name": "stdout",
          "text": [
            "int64\n",
            "float64\n"
          ]
        }
      ],
      "source": [
        "# Get Type \n",
        "print(a.dtype)\n",
        "print(b.dtype)"
      ]
    },
    {
      "cell_type": "code",
      "execution_count": 80,
      "metadata": {
        "colab": {
          "base_uri": "https://localhost:8080/"
        },
        "id": "OaX7WvX3XOtF",
        "outputId": "caff1598-26b5-4699-8d57-598158be6813"
      },
      "outputs": [
        {
          "output_type": "stream",
          "name": "stdout",
          "text": [
            "3\n",
            "6\n"
          ]
        }
      ],
      "source": [
        "# Get number of elements\n",
        "print(a.size)\n",
        "print(b.size)"
      ]
    },
    {
      "cell_type": "markdown",
      "metadata": {
        "id": "gKe3GQm-XOtF"
      },
      "source": [
        "### Accessing/Changing specific elements, rows, columns, etc"
      ]
    },
    {
      "cell_type": "code",
      "execution_count": 81,
      "metadata": {
        "colab": {
          "base_uri": "https://localhost:8080/"
        },
        "id": "DvJRQxGqXOtF",
        "outputId": "a223daa2-7e00-4749-98d9-b14497dfb683"
      },
      "outputs": [
        {
          "output_type": "stream",
          "name": "stdout",
          "text": [
            "[[ 1  2  3  4  5  6  7]\n",
            " [ 8  9 10 11 12 13 14]]\n"
          ]
        }
      ],
      "source": [
        "a = np.array([[1,2,3,4,5,6,7],[8,9,10,11,12,13,14]])\n",
        "print(a)"
      ]
    },
    {
      "cell_type": "code",
      "execution_count": 82,
      "metadata": {
        "colab": {
          "base_uri": "https://localhost:8080/"
        },
        "id": "UyEoh0MDXOtG",
        "outputId": "cb4ce4b8-c589-454e-920d-c0e6923590f7"
      },
      "outputs": [
        {
          "output_type": "execute_result",
          "data": {
            "text/plain": [
              "13"
            ]
          },
          "metadata": {},
          "execution_count": 82
        }
      ],
      "source": [
        "# Get a specific element [r, c]\n",
        "a[1, 5]"
      ]
    },
    {
      "cell_type": "code",
      "execution_count": 83,
      "metadata": {
        "colab": {
          "base_uri": "https://localhost:8080/"
        },
        "id": "uxH84DANXOtG",
        "outputId": "113067bc-f597-4e3c-80c9-1e6acd90671d"
      },
      "outputs": [
        {
          "output_type": "execute_result",
          "data": {
            "text/plain": [
              "array([1, 2, 3, 4, 5, 6, 7])"
            ]
          },
          "metadata": {},
          "execution_count": 83
        }
      ],
      "source": [
        "# Get a specific row \n",
        "a[0, :]"
      ]
    },
    {
      "cell_type": "code",
      "execution_count": 84,
      "metadata": {
        "colab": {
          "base_uri": "https://localhost:8080/"
        },
        "id": "H6Yss61tXOtG",
        "outputId": "b0433bbb-93a4-421d-d6a4-beff9b24b527"
      },
      "outputs": [
        {
          "output_type": "execute_result",
          "data": {
            "text/plain": [
              "array([ 3, 10])"
            ]
          },
          "metadata": {},
          "execution_count": 84
        }
      ],
      "source": [
        "# Get a specific column\n",
        "a[:, 2]"
      ]
    },
    {
      "cell_type": "code",
      "execution_count": 85,
      "metadata": {
        "scrolled": true,
        "colab": {
          "base_uri": "https://localhost:8080/"
        },
        "id": "2VVATyetXOtG",
        "outputId": "4324bc6f-13c0-426c-bf3f-6a193af54088"
      },
      "outputs": [
        {
          "output_type": "execute_result",
          "data": {
            "text/plain": [
              "array([2, 4, 6])"
            ]
          },
          "metadata": {},
          "execution_count": 85
        }
      ],
      "source": [
        "# [startindex:endindex:stepsize]\n",
        "a[0, 1:-1:2]"
      ]
    },
    {
      "cell_type": "code",
      "execution_count": 86,
      "metadata": {
        "colab": {
          "base_uri": "https://localhost:8080/"
        },
        "id": "KTpFoXy5XOtG",
        "outputId": "cb42015b-8561-4735-85f1-ff12d3fdc922"
      },
      "outputs": [
        {
          "output_type": "stream",
          "name": "stdout",
          "text": [
            "[1 3 5 7]\n",
            "[2 4 6]\n",
            "[7 6 5 4 3 2 1]\n"
          ]
        }
      ],
      "source": [
        "print(a[0,0::2])\n",
        "print(a[0, 1::2])\n",
        "print(a[0, -1::-1])"
      ]
    },
    {
      "cell_type": "code",
      "execution_count": 87,
      "metadata": {
        "colab": {
          "base_uri": "https://localhost:8080/"
        },
        "id": "CKwfNp3kXOtG",
        "outputId": "720f19d4-7b28-4c42-932b-caf81e8f5a71"
      },
      "outputs": [
        {
          "output_type": "stream",
          "name": "stdout",
          "text": [
            "[[ 1  2  1  4  5  6  7]\n",
            " [ 8  9  2 11 12 20 14]]\n"
          ]
        }
      ],
      "source": [
        "a[1,5] = 20\n",
        "\n",
        "a[:,2] = [1,2]\n",
        "print(a)"
      ]
    },
    {
      "cell_type": "markdown",
      "metadata": {
        "id": "riyeOyhRXOtG"
      },
      "source": [
        "*3-d example"
      ]
    },
    {
      "cell_type": "code",
      "execution_count": 88,
      "metadata": {
        "colab": {
          "base_uri": "https://localhost:8080/"
        },
        "id": "ihu3XrLVXOtG",
        "outputId": "978d9358-40ab-4be4-abf7-43b4d9131ca4"
      },
      "outputs": [
        {
          "output_type": "stream",
          "name": "stdout",
          "text": [
            "[[[1 2]\n",
            "  [3 4]]\n",
            "\n",
            " [[5 6]\n",
            "  [7 8]]]\n"
          ]
        }
      ],
      "source": [
        "b = np.array([[[1,2],[3,4]],[[5,6],[7,8]]])\n",
        "print(b)"
      ]
    },
    {
      "cell_type": "code",
      "execution_count": 89,
      "metadata": {
        "colab": {
          "base_uri": "https://localhost:8080/"
        },
        "id": "2bP0xpxlXOtG",
        "outputId": "7893803f-3745-417b-d712-92e3f13891b2"
      },
      "outputs": [
        {
          "output_type": "execute_result",
          "data": {
            "text/plain": [
              "4"
            ]
          },
          "metadata": {},
          "execution_count": 89
        }
      ],
      "source": [
        "# Get specific element (work outside in)\n",
        "b[0,1,1]"
      ]
    },
    {
      "cell_type": "code",
      "execution_count": 90,
      "metadata": {
        "id": "nExZW04iXOtG"
      },
      "outputs": [],
      "source": [
        "# replace \n",
        "b[:,1,:] = [[9,9],[8,8]]"
      ]
    },
    {
      "cell_type": "code",
      "execution_count": 91,
      "metadata": {
        "colab": {
          "base_uri": "https://localhost:8080/"
        },
        "id": "JuHAhEaYXOtG",
        "outputId": "5171ce8d-be98-4285-8701-335e506b56cf"
      },
      "outputs": [
        {
          "output_type": "execute_result",
          "data": {
            "text/plain": [
              "array([[[1, 2],\n",
              "        [9, 9]],\n",
              "\n",
              "       [[5, 6],\n",
              "        [8, 8]]])"
            ]
          },
          "metadata": {},
          "execution_count": 91
        }
      ],
      "source": [
        "b"
      ]
    },
    {
      "cell_type": "markdown",
      "metadata": {
        "id": "G3-711j8XOtG"
      },
      "source": [
        "### Initializing Different Types of Arrays"
      ]
    },
    {
      "cell_type": "code",
      "execution_count": 92,
      "metadata": {
        "colab": {
          "base_uri": "https://localhost:8080/"
        },
        "id": "LE7e9_9xXOtH",
        "outputId": "e1b81741-5ebf-48f8-e61d-170f869e7ab4"
      },
      "outputs": [
        {
          "output_type": "execute_result",
          "data": {
            "text/plain": [
              "array([[0., 0., 0.],\n",
              "       [0., 0., 0.]])"
            ]
          },
          "metadata": {},
          "execution_count": 92
        }
      ],
      "source": [
        "# All 0s matrix\n",
        "np.zeros((2,3))"
      ]
    },
    {
      "cell_type": "code",
      "execution_count": 93,
      "metadata": {
        "colab": {
          "base_uri": "https://localhost:8080/"
        },
        "id": "CZ96ex4BXOtH",
        "outputId": "65a62bf6-322f-4cc1-ef5f-d5f8ce36e500"
      },
      "outputs": [
        {
          "output_type": "execute_result",
          "data": {
            "text/plain": [
              "array([[[1, 1],\n",
              "        [1, 1]],\n",
              "\n",
              "       [[1, 1],\n",
              "        [1, 1]],\n",
              "\n",
              "       [[1, 1],\n",
              "        [1, 1]],\n",
              "\n",
              "       [[1, 1],\n",
              "        [1, 1]]], dtype=int32)"
            ]
          },
          "metadata": {},
          "execution_count": 93
        }
      ],
      "source": [
        "# All 1s matrix\n",
        "np.ones((4,2,2), dtype='int32')"
      ]
    },
    {
      "cell_type": "code",
      "execution_count": 94,
      "metadata": {
        "colab": {
          "base_uri": "https://localhost:8080/"
        },
        "id": "7ac-jgG7XOtH",
        "outputId": "82529eb5-9bda-4132-b2a6-0a552a1b4781"
      },
      "outputs": [
        {
          "output_type": "execute_result",
          "data": {
            "text/plain": [
              "array([[99, 99],\n",
              "       [99, 99]])"
            ]
          },
          "metadata": {},
          "execution_count": 94
        }
      ],
      "source": [
        "# Any other number\n",
        "np.full((2,2), 99)"
      ]
    },
    {
      "cell_type": "code",
      "execution_count": 95,
      "metadata": {
        "colab": {
          "base_uri": "https://localhost:8080/"
        },
        "id": "ArfdfqMgXOtH",
        "outputId": "9cd7d415-f537-470b-e1a7-cb6d931e26da"
      },
      "outputs": [
        {
          "output_type": "execute_result",
          "data": {
            "text/plain": [
              "array([[99, 99, 99, 99, 99, 99, 99],\n",
              "       [99, 99, 99, 99, 99, 99, 99]])"
            ]
          },
          "metadata": {},
          "execution_count": 95
        }
      ],
      "source": [
        "a.shape\n",
        "np.full(a.shape,99)"
      ]
    },
    {
      "cell_type": "code",
      "execution_count": 96,
      "metadata": {
        "colab": {
          "base_uri": "https://localhost:8080/"
        },
        "id": "q9dOy_OGXOtH",
        "outputId": "4ac0f9d3-0318-4160-82ca-3bf44ef7d614"
      },
      "outputs": [
        {
          "output_type": "execute_result",
          "data": {
            "text/plain": [
              "array([[99, 99, 99, 99, 99, 99, 99],\n",
              "       [99, 99, 99, 99, 99, 99, 99]])"
            ]
          },
          "metadata": {},
          "execution_count": 96
        }
      ],
      "source": [
        "# Any other number with full_like (using previous 'a' array)\n",
        "np.full_like(a, 99)"
      ]
    },
    {
      "cell_type": "code",
      "execution_count": 97,
      "metadata": {
        "colab": {
          "base_uri": "https://localhost:8080/"
        },
        "id": "uZ9XzxwkXOtH",
        "outputId": "527edaa2-e5a4-4248-8e93-5a626ddccd94"
      },
      "outputs": [
        {
          "output_type": "stream",
          "name": "stdout",
          "text": [
            "[[0.96803336 0.39379516]\n",
            " [0.12018845 0.49519242]\n",
            " [0.98463078 0.72871192]\n",
            " [0.99199819 0.86439559]]\n",
            "[[ 0.93606672 -0.21240968]\n",
            " [-0.75962309 -0.00961516]\n",
            " [ 0.96926157  0.45742385]\n",
            " [ 0.98399639  0.72879118]]\n"
          ]
        }
      ],
      "source": [
        "# Random decimal numbers\n",
        "np.random.seed(14500)\n",
        "matrixa = np.random.rand(4,2)# PLEASE DO REMEMBER THIS\n",
        "print(matrixa)\n",
        "print(matrixa*2-1) # REMEMBER THIS"
      ]
    },
    {
      "cell_type": "code",
      "execution_count": 98,
      "metadata": {
        "colab": {
          "base_uri": "https://localhost:8080/"
        },
        "id": "J4xiqc82XOtH",
        "outputId": "5bbe37ea-3ea7-4305-a26d-5604cf6f0490"
      },
      "outputs": [
        {
          "output_type": "execute_result",
          "data": {
            "text/plain": [
              "array([[ 7, -4,  0],\n",
              "       [ 5, -3, -3],\n",
              "       [ 6,  1,  0]])"
            ]
          },
          "metadata": {},
          "execution_count": 98
        }
      ],
      "source": [
        "# Random Integer values\n",
        "np.random.randint(-4,8, size=(3,3))"
      ]
    },
    {
      "cell_type": "code",
      "execution_count": 99,
      "metadata": {
        "colab": {
          "base_uri": "https://localhost:8080/"
        },
        "id": "7hN-kC1JXOtH",
        "outputId": "e169b021-520d-417b-f24d-49a4e2c1d98c"
      },
      "outputs": [
        {
          "output_type": "stream",
          "name": "stdout",
          "text": [
            "[[1. 0. 0. 0. 0.]\n",
            " [0. 1. 0. 0. 0.]\n",
            " [0. 0. 1. 0. 0.]\n",
            " [0. 0. 0. 1. 0.]\n",
            " [0. 0. 0. 0. 1.]]\n",
            "[[1. 0. 0. 0. 0.]\n",
            " [0. 1. 0. 0. 0.]\n",
            " [0. 0. 1. 0. 0.]\n",
            " [0. 0. 0. 1. 0.]\n",
            " [0. 0. 0. 0. 1.]]\n"
          ]
        }
      ],
      "source": [
        "# The identity matrix\n",
        "print(np.eye(5))\n",
        "print(np.identity(5))\n",
        "# Theire relationship is : \n",
        "def identity(n, dtype=None):\n",
        "    from numpy import eye\n",
        "    return eye(n, dtype=dtype)"
      ]
    },
    {
      "cell_type": "code",
      "execution_count": 100,
      "metadata": {
        "colab": {
          "base_uri": "https://localhost:8080/"
        },
        "id": "wV2OSPtGXOtH",
        "outputId": "bcce2aeb-b672-4a88-d817-f256a904d44c"
      },
      "outputs": [
        {
          "output_type": "stream",
          "name": "stdout",
          "text": [
            "[[1 1 1 2 2 2 3 3 3]]\n"
          ]
        }
      ],
      "source": [
        "# Repeat an array\n",
        "arr = np.array([[1,2,3]])\n",
        "r1 = np.repeat(arr,3, axis=1)\n",
        "print(r1)"
      ]
    },
    {
      "cell_type": "code",
      "execution_count": 101,
      "metadata": {
        "colab": {
          "base_uri": "https://localhost:8080/"
        },
        "id": "myyAKXAYXOtI",
        "outputId": "12eb4538-9f6e-43e7-e079-3e78f0c87768"
      },
      "outputs": [
        {
          "output_type": "stream",
          "name": "stdout",
          "text": [
            "[[1. 1. 1. 1. 1.]\n",
            " [1. 1. 1. 1. 1.]\n",
            " [1. 1. 1. 1. 1.]\n",
            " [1. 1. 1. 1. 1.]\n",
            " [1. 1. 1. 1. 1.]]\n",
            "[[0. 0. 0.]\n",
            " [0. 9. 0.]\n",
            " [0. 0. 0.]]\n",
            "[[1. 1. 1. 1. 1.]\n",
            " [1. 0. 0. 0. 1.]\n",
            " [1. 0. 9. 0. 1.]\n",
            " [1. 0. 0. 0. 1.]\n",
            " [1. 1. 1. 1. 1.]]\n"
          ]
        }
      ],
      "source": [
        "output = np.ones((5,5))\n",
        "print(output)\n",
        "\n",
        "z = np.zeros((3,3))\n",
        "z[1,1] = 9\n",
        "print(z)\n",
        "\n",
        "output[1:-1,1:-1] = z\n",
        "print(output)"
      ]
    },
    {
      "cell_type": "markdown",
      "metadata": {
        "id": "Y0acarG2XOtI"
      },
      "source": [
        "##### Be careful when copying arrays!!!"
      ]
    },
    {
      "cell_type": "markdown",
      "metadata": {
        "id": "UBOtb5-WXOtI"
      },
      "source": [
        "#### Good way"
      ]
    },
    {
      "cell_type": "code",
      "execution_count": 102,
      "metadata": {
        "colab": {
          "base_uri": "https://localhost:8080/"
        },
        "id": "R-m6FezoXOtI",
        "outputId": "5679d7d6-e6e6-4326-ef9f-861933b40891"
      },
      "outputs": [
        {
          "output_type": "stream",
          "name": "stdout",
          "text": [
            "[1 2 3]\n"
          ]
        }
      ],
      "source": [
        "a = np.array([1,2,3])\n",
        "b = a.copy()\n",
        "b[0] = 100\n",
        "\n",
        "print(a)"
      ]
    },
    {
      "cell_type": "markdown",
      "metadata": {
        "id": "zlCBKIgqXOtI"
      },
      "source": [
        "#### Not a good way"
      ]
    },
    {
      "cell_type": "code",
      "execution_count": 103,
      "metadata": {
        "colab": {
          "base_uri": "https://localhost:8080/"
        },
        "id": "yHUdU1uQXOtI",
        "outputId": "ddc835ed-8a68-49ad-cb34-5872bb23ba98"
      },
      "outputs": [
        {
          "output_type": "stream",
          "name": "stdout",
          "text": [
            "[100   2   3]\n"
          ]
        }
      ],
      "source": [
        "a = np.array([1,2,3])\n",
        "b = a\n",
        "b[0] = 100\n",
        "\n",
        "print(a)"
      ]
    },
    {
      "cell_type": "markdown",
      "metadata": {
        "id": "-4Wkb8qYXOtI"
      },
      "source": [
        "### Mathematics"
      ]
    },
    {
      "cell_type": "code",
      "execution_count": 104,
      "metadata": {
        "colab": {
          "base_uri": "https://localhost:8080/"
        },
        "id": "c2GRosslXOtI",
        "outputId": "9a48e0c7-05f5-451a-f4e5-bb63cf16203c"
      },
      "outputs": [
        {
          "output_type": "stream",
          "name": "stdout",
          "text": [
            "[1 2 3 4]\n"
          ]
        }
      ],
      "source": [
        "a = np.array([1,2,3,4])\n",
        "print(a)"
      ]
    },
    {
      "cell_type": "code",
      "execution_count": 105,
      "metadata": {
        "colab": {
          "base_uri": "https://localhost:8080/"
        },
        "id": "Rt_Ifx-RXOtI",
        "outputId": "5edaf6f1-6c4d-4db7-abc6-7206216d1cbd"
      },
      "outputs": [
        {
          "output_type": "execute_result",
          "data": {
            "text/plain": [
              "array([3, 4, 5, 6])"
            ]
          },
          "metadata": {},
          "execution_count": 105
        }
      ],
      "source": [
        "a + 2 # Foreshadowing broadcasting"
      ]
    },
    {
      "cell_type": "code",
      "execution_count": 106,
      "metadata": {
        "colab": {
          "base_uri": "https://localhost:8080/"
        },
        "id": "BGj3i0YiXOtJ",
        "outputId": "7c0a2ed3-fab7-482f-b227-07e1f5fb0705"
      },
      "outputs": [
        {
          "output_type": "execute_result",
          "data": {
            "text/plain": [
              "array([-1,  0,  1,  2])"
            ]
          },
          "metadata": {},
          "execution_count": 106
        }
      ],
      "source": [
        "a - 2"
      ]
    },
    {
      "cell_type": "code",
      "execution_count": 107,
      "metadata": {
        "colab": {
          "base_uri": "https://localhost:8080/"
        },
        "id": "Xd2KO7l3XOtJ",
        "outputId": "ededb2da-ea52-4950-d80b-7c40dd9be984"
      },
      "outputs": [
        {
          "output_type": "execute_result",
          "data": {
            "text/plain": [
              "array([2, 4, 6, 8])"
            ]
          },
          "metadata": {},
          "execution_count": 107
        }
      ],
      "source": [
        "a * 2"
      ]
    },
    {
      "cell_type": "code",
      "execution_count": 108,
      "metadata": {
        "colab": {
          "base_uri": "https://localhost:8080/"
        },
        "id": "xse4cNRrXOtJ",
        "outputId": "04fe8b36-5566-47f8-ec16-8be736cf7380"
      },
      "outputs": [
        {
          "output_type": "execute_result",
          "data": {
            "text/plain": [
              "array([0.5, 1. , 1.5, 2. ])"
            ]
          },
          "metadata": {},
          "execution_count": 108
        }
      ],
      "source": [
        "a / 2"
      ]
    },
    {
      "cell_type": "code",
      "execution_count": 109,
      "metadata": {
        "colab": {
          "base_uri": "https://localhost:8080/"
        },
        "id": "fGl-SambXOtJ",
        "outputId": "771e21e2-ad2d-4d0d-e178-03050a0f64a0"
      },
      "outputs": [
        {
          "output_type": "execute_result",
          "data": {
            "text/plain": [
              "array([2, 2, 4, 4])"
            ]
          },
          "metadata": {},
          "execution_count": 109
        }
      ],
      "source": [
        "b = np.array([1,0,1,0])\n",
        "a + b"
      ]
    },
    {
      "cell_type": "code",
      "execution_count": 110,
      "metadata": {
        "colab": {
          "base_uri": "https://localhost:8080/"
        },
        "id": "R_MemIBlXOtJ",
        "outputId": "a5308626-72a3-4b80-b147-2f3fbaff0a94"
      },
      "outputs": [
        {
          "output_type": "execute_result",
          "data": {
            "text/plain": [
              "array([ 1,  4,  9, 16])"
            ]
          },
          "metadata": {},
          "execution_count": 110
        }
      ],
      "source": [
        "a ** 2"
      ]
    },
    {
      "cell_type": "code",
      "execution_count": 111,
      "metadata": {
        "colab": {
          "base_uri": "https://localhost:8080/"
        },
        "id": "EhY2cL7LXOtJ",
        "outputId": "e3d9c493-6c07-442f-cb4b-21b4bf578738"
      },
      "outputs": [
        {
          "output_type": "execute_result",
          "data": {
            "text/plain": [
              "array([ 0.54030231, -0.41614684, -0.9899925 , -0.65364362])"
            ]
          },
          "metadata": {},
          "execution_count": 111
        }
      ],
      "source": [
        "# Take the sin\n",
        "np.cos(a)"
      ]
    },
    {
      "cell_type": "markdown",
      "metadata": {
        "id": "Xg7NgXPfXOtJ"
      },
      "source": [
        "For a lot more see [this](https://docs.scipy.org/doc/numpy/reference/routines.math.html)"
      ]
    },
    {
      "cell_type": "markdown",
      "metadata": {
        "id": "BHYU2lsdXOtJ"
      },
      "source": [
        "### Linear Algebra"
      ]
    },
    {
      "cell_type": "code",
      "execution_count": 112,
      "metadata": {
        "colab": {
          "base_uri": "https://localhost:8080/"
        },
        "id": "mXQ4oJ14XOtJ",
        "outputId": "327050d9-5107-4ecd-ebb0-45e272831141"
      },
      "outputs": [
        {
          "output_type": "stream",
          "name": "stdout",
          "text": [
            "[[1. 1. 1.]\n",
            " [1. 1. 1.]]\n",
            "[[2 2]\n",
            " [2 2]\n",
            " [2 2]]\n",
            "[[6. 6.]\n",
            " [6. 6.]]\n"
          ]
        }
      ],
      "source": [
        "a = np.ones((2,3))\n",
        "print(a)\n",
        "\n",
        "b = np.full((3,2), 2)\n",
        "print(b)\n",
        "\n",
        "result = np.matmul(a,b)\n",
        "print(result)"
      ]
    },
    {
      "cell_type": "code",
      "execution_count": 113,
      "metadata": {
        "colab": {
          "base_uri": "https://localhost:8080/"
        },
        "id": "NmYEsutJXOtJ",
        "outputId": "c008808d-feba-4dc5-bc83-eb551498ed4b"
      },
      "outputs": [
        {
          "output_type": "execute_result",
          "data": {
            "text/plain": [
              "array([[6., 6.],\n",
              "       [6., 6.]])"
            ]
          },
          "metadata": {},
          "execution_count": 113
        }
      ],
      "source": [
        "a.dot(b)"
      ]
    },
    {
      "cell_type": "code",
      "execution_count": 114,
      "metadata": {
        "colab": {
          "base_uri": "https://localhost:8080/"
        },
        "id": "jPjIOcXeXOtJ",
        "outputId": "235f8724-ae8d-4b88-cb6c-021c36a6b863"
      },
      "outputs": [
        {
          "output_type": "execute_result",
          "data": {
            "text/plain": [
              "array([[6., 6.],\n",
              "       [6., 6.]])"
            ]
          },
          "metadata": {},
          "execution_count": 114
        }
      ],
      "source": [
        "a @ b"
      ]
    },
    {
      "cell_type": "markdown",
      "metadata": {
        "id": "dNNKd9IZXOtJ"
      },
      "source": [
        "What is the difference ?\n",
        "`.dot()` checks the condition for matrix multiplaction, that is that the number of columns of first matrix is equal to the number of rows of the seconds. `@` instead uses the `matmul()` function which broadcasts the array like a stack of matrices as elements residing in the last two indexes."
      ]
    },
    {
      "cell_type": "code",
      "execution_count": 115,
      "metadata": {
        "colab": {
          "base_uri": "https://localhost:8080/"
        },
        "id": "jyMV6iLFXOtK",
        "outputId": "1eed1e45-2c6b-4775-810c-007bd527326e"
      },
      "outputs": [
        {
          "output_type": "stream",
          "name": "stdout",
          "text": [
            "[[[0.80655281 1.20559014 0.98949409]\n",
            "  [0.4012761  1.0125255  0.76589038]\n",
            "  [1.2917051  1.82296492 1.44892508]]\n",
            "\n",
            " [[0.61080278 0.84105709 0.93881278]\n",
            "  [0.35601831 0.57098118 0.57165479]\n",
            "  [0.8227686  1.02620769 1.26909634]]] (2, 3, 3)\n",
            "[[[[0.80655281 1.20559014 0.98949409]\n",
            "   [0.50366317 0.67250984 0.78271687]]\n",
            "\n",
            "  [[0.4012761  1.0125255  0.76589038]\n",
            "   [0.33347101 0.72843432 0.54024596]]\n",
            "\n",
            "  [[1.2917051  1.82296492 1.44892508]\n",
            "   [0.79265278 0.9262833  1.23896265]]]\n",
            "\n",
            "\n",
            " [[[0.99430676 1.46311734 1.25024803]\n",
            "   [0.61080278 0.84105709 0.93881278]]\n",
            "\n",
            "  [[0.50042661 0.94065281 0.70119709]\n",
            "   [0.35601831 0.57098118 0.57165479]]\n",
            "\n",
            "  [[1.36034295 1.90889834 1.60077861]\n",
            "   [0.8227686  1.02620769 1.26909634]]]] (2, 3, 2, 3)\n"
          ]
        }
      ],
      "source": [
        "a = np.random.rand(2,3,3)\n",
        "b = np.random.rand(2,3,3)\n",
        "c = (a@b)\n",
        "d = np.dot(a,b)\n",
        "print(c,c.shape)\n",
        "print(d,d.shape)"
      ]
    },
    {
      "cell_type": "code",
      "execution_count": 116,
      "metadata": {
        "colab": {
          "base_uri": "https://localhost:8080/"
        },
        "id": "XWX9_nrNXOtK",
        "outputId": "1c6add3b-3caa-45d5-d32c-835277ff43c4"
      },
      "outputs": [
        {
          "output_type": "execute_result",
          "data": {
            "text/plain": [
              "1.0"
            ]
          },
          "metadata": {},
          "execution_count": 116
        }
      ],
      "source": [
        "# Find the determinant\n",
        "c = np.identity(3)\n",
        "np.linalg.det(c)"
      ]
    },
    {
      "cell_type": "markdown",
      "metadata": {
        "id": "dWBIVttuXOtK"
      },
      "source": [
        "## Reference docs (https://docs.scipy.org/doc/numpy/reference/routines.linalg.html)\n",
        "\n",
        "1. Determinant\n",
        "2. Trace\n",
        "3. Singular Vector Decomposition\n",
        "4. Eigenvalues\n",
        "5. Matrix Norm\n",
        "6. Inverse\n",
        "7. Etc..."
      ]
    },
    {
      "cell_type": "markdown",
      "metadata": {
        "id": "voEiiZuuXOtK"
      },
      "source": [
        "### Transpose"
      ]
    },
    {
      "cell_type": "code",
      "execution_count": 117,
      "metadata": {
        "colab": {
          "base_uri": "https://localhost:8080/"
        },
        "id": "Wg9QNYnAXOtK",
        "outputId": "b9733c04-c48c-4191-e09b-3a04287cc9e1"
      },
      "outputs": [
        {
          "output_type": "stream",
          "name": "stdout",
          "text": [
            "This is x : \n",
            "[[ 1  2  3]\n",
            " [ 4  5  6]\n",
            " [ 7  8  9]\n",
            " [10 11 12]]\n",
            "This is v : [1 0 1]\n"
          ]
        }
      ],
      "source": [
        "x = np.array([[1,2,3], [4,5,6], [7,8,9], [10, 11, 12]])\n",
        "v = np.array([1, 0, 1])\n",
        "print(\"This is x : \\n{}\".format(x))\n",
        "print(\"This is v : {}\".format(v))"
      ]
    },
    {
      "cell_type": "code",
      "execution_count": 118,
      "metadata": {
        "colab": {
          "base_uri": "https://localhost:8080/"
        },
        "id": "3yFh0sSjXOtK",
        "outputId": "59a698c6-873f-4c6f-da7a-7889ce475525"
      },
      "outputs": [
        {
          "output_type": "stream",
          "name": "stdout",
          "text": [
            "[[ 1  4  7 10]\n",
            " [ 2  5  8 11]\n",
            " [ 3  6  9 12]]\n"
          ]
        }
      ],
      "source": [
        "print(x.T)"
      ]
    },
    {
      "cell_type": "code",
      "execution_count": 119,
      "metadata": {
        "colab": {
          "base_uri": "https://localhost:8080/"
        },
        "id": "3uvs6isqXOtK",
        "outputId": "97734f81-6fd3-41aa-8fcb-31c02602b5c4"
      },
      "outputs": [
        {
          "output_type": "stream",
          "name": "stdout",
          "text": [
            "[1 0 1]\n"
          ]
        }
      ],
      "source": [
        "print(v.T)    # Note that taking the transpose of a rank 1 array does nothing"
      ]
    },
    {
      "cell_type": "markdown",
      "metadata": {
        "id": "FNlcz3EfXOtL"
      },
      "source": [
        "##### Statistics"
      ]
    },
    {
      "cell_type": "code",
      "execution_count": 120,
      "metadata": {
        "colab": {
          "base_uri": "https://localhost:8080/"
        },
        "id": "GP-t7cvCXOtL",
        "outputId": "28fc9765-c40b-4f14-a1df-08e09c3086b6"
      },
      "outputs": [
        {
          "output_type": "execute_result",
          "data": {
            "text/plain": [
              "array([[1, 2, 3],\n",
              "       [4, 5, 6]])"
            ]
          },
          "metadata": {},
          "execution_count": 120
        }
      ],
      "source": [
        "stats = np.array([[1,2,3],[4,5,6]])\n",
        "stats"
      ]
    },
    {
      "cell_type": "code",
      "execution_count": 121,
      "metadata": {
        "colab": {
          "base_uri": "https://localhost:8080/"
        },
        "id": "mkXk5i1AXOtL",
        "outputId": "dfbdf9ba-8c11-42bb-bb17-40d79122397b"
      },
      "outputs": [
        {
          "output_type": "execute_result",
          "data": {
            "text/plain": [
              "6"
            ]
          },
          "metadata": {},
          "execution_count": 121
        }
      ],
      "source": [
        "np.max(stats)"
      ]
    },
    {
      "cell_type": "code",
      "execution_count": 122,
      "metadata": {
        "colab": {
          "base_uri": "https://localhost:8080/"
        },
        "id": "uNaRJ4hXXOtL",
        "outputId": "b671d4b3-f654-4780-96fe-863f0cc6b7fe"
      },
      "outputs": [
        {
          "output_type": "execute_result",
          "data": {
            "text/plain": [
              "array([3, 6])"
            ]
          },
          "metadata": {},
          "execution_count": 122
        }
      ],
      "source": [
        "np.max(stats, axis=1)"
      ]
    },
    {
      "cell_type": "code",
      "execution_count": 123,
      "metadata": {
        "colab": {
          "base_uri": "https://localhost:8080/"
        },
        "id": "y1QU6iVJXOtL",
        "outputId": "44618e92-8477-4fec-da64-5e2ca213c602"
      },
      "outputs": [
        {
          "output_type": "execute_result",
          "data": {
            "text/plain": [
              "array([ 6, 15])"
            ]
          },
          "metadata": {},
          "execution_count": 123
        }
      ],
      "source": [
        "np.sum(stats, axis=1)# REMEMBER"
      ]
    },
    {
      "cell_type": "markdown",
      "metadata": {
        "id": "Yppe0kApXOtL"
      },
      "source": [
        "### Reorganizing Arrays"
      ]
    },
    {
      "cell_type": "code",
      "execution_count": 124,
      "metadata": {
        "colab": {
          "base_uri": "https://localhost:8080/"
        },
        "id": "OAHK-IPNXOtL",
        "outputId": "6ee9f968-e146-455b-d0de-3c9138226a5e"
      },
      "outputs": [
        {
          "output_type": "stream",
          "name": "stdout",
          "text": [
            "[[1 2 3 4]\n",
            " [5 6 7 8]]\n",
            "[[1 2]\n",
            " [3 4]\n",
            " [5 6]\n",
            " [7 8]]\n"
          ]
        }
      ],
      "source": [
        "before = np.array([[1,2,3,4],[5,6,7,8]])\n",
        "print(before)\n",
        "\n",
        "after = before.reshape((4,2),order='C') #make sure it's the same size\n",
        "print(after)"
      ]
    },
    {
      "cell_type": "markdown",
      "metadata": {
        "id": "gKEKe-KyXOtL"
      },
      "source": [
        "#### What is happening here?\n",
        "\n",
        "We are changing the overal shape of our matrix **without changing its data**. \n",
        "There are three options for order or reading the original array:\n",
        "\n",
        "1. 'C': reads/writes arrays just like C language does.(Last index changing slowest)(**default, if not specified**)\n",
        "2. 'F': reads/writes arrays just like Fortran language. (First index changing fastest)\n",
        "3. 'A': dependent on memory layout. We ignore for the moment\n",
        "\n",
        "Lets see an example:"
      ]
    },
    {
      "cell_type": "code",
      "execution_count": 125,
      "metadata": {
        "colab": {
          "base_uri": "https://localhost:8080/"
        },
        "id": "vn4W4XceXOtL",
        "outputId": "c416a29d-d293-4c80-9aeb-41de220d8b91"
      },
      "outputs": [
        {
          "output_type": "execute_result",
          "data": {
            "text/plain": [
              "array([[1, 2, 3, 4],\n",
              "       [5, 6, 7, 8],\n",
              "       [1, 2, 3, 4],\n",
              "       [5, 6, 7, 8]])"
            ]
          },
          "metadata": {},
          "execution_count": 125
        }
      ],
      "source": [
        "# Vertically stacking vectors\n",
        "v1 = np.array([1,2,3,4])\n",
        "v2 = np.array([5,6,7,8])\n",
        "\n",
        "np.vstack([v1,v2,v1,v2])"
      ]
    },
    {
      "cell_type": "code",
      "execution_count": 126,
      "metadata": {
        "colab": {
          "base_uri": "https://localhost:8080/"
        },
        "id": "iH6eXxFTXOtL",
        "outputId": "bab9afc4-527a-4476-b625-8a4c567fc52e"
      },
      "outputs": [
        {
          "output_type": "stream",
          "name": "stdout",
          "text": [
            "[[1. 1. 1. 1.]\n",
            " [1. 1. 1. 1.]]\n",
            "[[0. 0.]\n",
            " [0. 0.]]\n"
          ]
        },
        {
          "output_type": "execute_result",
          "data": {
            "text/plain": [
              "array([[1., 1., 1., 1., 0., 0.],\n",
              "       [1., 1., 1., 1., 0., 0.]])"
            ]
          },
          "metadata": {},
          "execution_count": 126
        }
      ],
      "source": [
        "# Horizontal  stack\n",
        "h1 = np.ones((2,4))\n",
        "h2 = np.zeros((2,2))\n",
        "print(h1)\n",
        "print(h2)\n",
        "np.hstack((h1,h2))"
      ]
    },
    {
      "cell_type": "markdown",
      "metadata": {
        "id": "-1hioV3rXOtM"
      },
      "source": [
        "### Broadcasting(Important)\n",
        "\n",
        "Broadcasting is a powerful mechanism that allows numpy to work with arrays of different shapes when performing arithmetic operations. Frequently we have a smaller array and a larger array, and we want to use the smaller array multiple times to perform some operation on the larger array.\n"
      ]
    },
    {
      "cell_type": "markdown",
      "metadata": {
        "id": "bg5AkvjhXOtM"
      },
      "source": [
        "Simplest Example: "
      ]
    },
    {
      "cell_type": "code",
      "execution_count": 127,
      "metadata": {
        "colab": {
          "base_uri": "https://localhost:8080/"
        },
        "id": "7h80ncWHXOtM",
        "outputId": "d37b4c87-802a-4884-c2c6-3f9116352d1c"
      },
      "outputs": [
        {
          "output_type": "stream",
          "name": "stdout",
          "text": [
            "[3 4 5]\n"
          ]
        }
      ],
      "source": [
        "x = np.array([1,2,3])\n",
        "b = 2\n",
        "print(x+b) # Basically our scalar 2 is stretched into a vector"
      ]
    },
    {
      "cell_type": "markdown",
      "metadata": {
        "id": "X21WM0dmXOtM"
      },
      "source": [
        "\n",
        "For example, suppose that we want to add a constant vector to each row of a matrix. We could do it like this(**Attempt #1**):"
      ]
    },
    {
      "cell_type": "code",
      "execution_count": 128,
      "metadata": {
        "colab": {
          "base_uri": "https://localhost:8080/"
        },
        "id": "ffyluRu4XOtM",
        "outputId": "e89d5a80-87b1-4190-8d8e-2f9b1286b854"
      },
      "outputs": [
        {
          "output_type": "stream",
          "name": "stdout",
          "text": [
            "(4, 3)\n",
            "(3,)\n",
            "[[ 2  2  4]\n",
            " [ 5  5  7]\n",
            " [ 8  8 10]\n",
            " [11 11 13]]\n"
          ]
        }
      ],
      "source": [
        "# We will add the vector v to each row of the matrix x,\n",
        "# storing the result in the matrix y\n",
        "x = np.array([[1,2,3], [4,5,6], [7,8,9], [10, 11, 12]])\n",
        "print(x.shape)\n",
        "v = np.array([1, 0, 1])\n",
        "print(v.shape)\n",
        "y = np.empty_like(x)   # Create an empty matrix with the same shape as x\n",
        "\n",
        "# Add the vector v to each row of the matrix x with an explicit loop\n",
        "for i in range(4):\n",
        "    y[i, :] = x[i, :] + v\n",
        "\n",
        "# Now y is the following\n",
        "# [[ 2  2  4]\n",
        "#  [ 5  5  7]\n",
        "#  [ 8  8 10]\n",
        "#  [11 11 13]]\n",
        "print(y)"
      ]
    },
    {
      "cell_type": "markdown",
      "metadata": {
        "id": "ZaDhVDVeXOtM"
      },
      "source": [
        "This works; however when the matrix `x` is **very large**, computing an explicit loop in Python could be slow. Note that adding the vector `v` to each row of the matrix `x` is equivalent to forming a matrix `vv` by stacking multiple copies of `v` vertically, then performing elementwise summation of `x` and `vv`. We could implement this approach like this(**Attempt #2**):"
      ]
    },
    {
      "cell_type": "code",
      "execution_count": 129,
      "metadata": {
        "colab": {
          "base_uri": "https://localhost:8080/"
        },
        "id": "fF0z0Q9EXOtM",
        "outputId": "b6c0de17-8c40-4da2-c091-46d29980b72d"
      },
      "outputs": [
        {
          "output_type": "stream",
          "name": "stdout",
          "text": [
            "[[1 0 1]\n",
            " [1 0 1]\n",
            " [1 0 1]\n",
            " [1 0 1]]\n",
            "[[ 2  2  4]\n",
            " [ 5  5  7]\n",
            " [ 8  8 10]\n",
            " [11 11 13]]\n"
          ]
        }
      ],
      "source": [
        "# We will add the vector v to each row of the matrix x,\n",
        "# storing the result in the matrix y\n",
        "x = np.array([[1,2,3], [4,5,6], [7,8,9], [10, 11, 12]])\n",
        "v = np.array([1, 0, 1])\n",
        "vv = np.tile(v, (4, 1))   # Stack 4 copies of v on top of each other\n",
        "print(vv)                 # Prints \"[[1 0 1]\n",
        "                          #          [1 0 1]\n",
        "                          #          [1 0 1]\n",
        "                          #          [1 0 1]]\"\n",
        "y = x + vv  # Add x and vv elementwise\n",
        "print(y)  # Prints \"[[ 2  2  4\n",
        "          #          [ 5  5  7]\n",
        "          #          [ 8  8 10]\n",
        "          #          [11 11 13]]\""
      ]
    },
    {
      "cell_type": "markdown",
      "metadata": {
        "id": "urJdtXD0XOtM"
      },
      "source": [
        "Numpy broadcasting allows us to perform this computation without actually creating multiple copies of `v`. Consider this version, using broadcasting(**Attempt #3**):"
      ]
    },
    {
      "cell_type": "code",
      "execution_count": 130,
      "metadata": {
        "colab": {
          "base_uri": "https://localhost:8080/"
        },
        "id": "jmtKfQ-hXOtM",
        "outputId": "446e4fc1-1f72-473b-9670-d869496998db"
      },
      "outputs": [
        {
          "output_type": "stream",
          "name": "stdout",
          "text": [
            "[[ 2  2  4]\n",
            " [ 5  5  7]\n",
            " [ 8  8 10]\n",
            " [11 11 13]]\n"
          ]
        }
      ],
      "source": [
        "# We will add the vector v to each row of the matrix x,\n",
        "# storing the result in the matrix y\n",
        "x = np.array([[1,2,3], [4,5,6], [7,8,9], [10, 11, 12]])\n",
        "v = np.array([1, 0, 1])\n",
        "y = x + v  # Add v to each row of x using broadcasting\n",
        "print(y)  # Prints \"[[ 2  2  4]\n",
        "          #          [ 5  5  7]\n",
        "          #          [ 8  8 10]\n",
        "          #          [11 11 13]]\""
      ]
    },
    {
      "cell_type": "markdown",
      "metadata": {
        "id": "GjayW5hQXOtM"
      },
      "source": [
        "The line `y = x + v` works even though `x` has shape `(4, 3)` and `v` has shape `(3,)` due to broadcasting; this line works as if `v` actually had shape `(4, 3)`, where **each row** was a copy of `v`, and the sum was performed **elementwise**."
      ]
    },
    {
      "cell_type": "markdown",
      "metadata": {
        "id": "mGz7xYUgXOtN"
      },
      "source": [
        "Broadcasting two arrays together follows these rules:\n",
        "\n",
        "1. If the arrays do not have the same rank, prepend the shape of the lower rank array with 1s until both shapes have the same length(**Stretching**).\n",
        "\n",
        "    ```\n",
        "    Image  (3d array): 256 x 256 x 3\n",
        "    Scale  (1d array):             3\n",
        "    Result (3d array): 256 x 256 x 3\n",
        "    ```\n",
        "2. The two arrays are said to be compatible in a dimension if:\n",
        "    1. They have the same size in the dimension\n",
        "    2. Or if one of the arrays has size 1 in that dimension.\n",
        "    \n",
        "    If they are not compatible than you get a `ValueError: operands could not be broadcast together`\n",
        "3. The arrays can be broadcast together if they are compatible in all dimensions.\n",
        "4. After broadcasting, each array behaves as if it had shape equal to the elementwise maximum of shapes of the two input arrays.\n",
        "    \n",
        "    ```\n",
        "    A      (4d array):  8 x 1 x 6 x 1\n",
        "    B      (3d array):      7 x 1 x 5\n",
        "    Result (4d array):  8 x 7 x 6 x 5\n",
        "    ```\n",
        "5. In any dimension where one array had size 1 and the other array had size greater than 1, the first array behaves as if it were copied along that dimension"
      ]
    },
    {
      "cell_type": "markdown",
      "metadata": {
        "id": "CB4dpkWJXOtN"
      },
      "source": [
        "### Miscellaneous\n",
        "##### Load Data from File"
      ]
    },
    {
      "cell_type": "code",
      "execution_count": 131,
      "metadata": {
        "colab": {
          "base_uri": "https://localhost:8080/",
          "height": 348
        },
        "id": "E1HrSJsTXOtN",
        "outputId": "3e4fb956-ab10-4b90-a057-4133a6a0b69c"
      },
      "outputs": [
        {
          "output_type": "error",
          "ename": "OSError",
          "evalue": "ignored",
          "traceback": [
            "\u001b[0;31m---------------------------------------------------------------------------\u001b[0m",
            "\u001b[0;31mOSError\u001b[0m                                   Traceback (most recent call last)",
            "\u001b[0;32m<ipython-input-131-7084bddee6ac>\u001b[0m in \u001b[0;36m<module>\u001b[0;34m\u001b[0m\n\u001b[0;32m----> 1\u001b[0;31m \u001b[0mfiledata\u001b[0m \u001b[0;34m=\u001b[0m \u001b[0mnp\u001b[0m\u001b[0;34m.\u001b[0m\u001b[0mgenfromtxt\u001b[0m\u001b[0;34m(\u001b[0m\u001b[0;34m'data.txt'\u001b[0m\u001b[0;34m,\u001b[0m \u001b[0mdelimiter\u001b[0m\u001b[0;34m=\u001b[0m\u001b[0;34m','\u001b[0m\u001b[0;34m)\u001b[0m\u001b[0;34m\u001b[0m\u001b[0;34m\u001b[0m\u001b[0m\n\u001b[0m\u001b[1;32m      2\u001b[0m \u001b[0mfiledata\u001b[0m \u001b[0;34m=\u001b[0m \u001b[0mfiledata\u001b[0m\u001b[0;34m.\u001b[0m\u001b[0mastype\u001b[0m\u001b[0;34m(\u001b[0m\u001b[0;34m'int32'\u001b[0m\u001b[0;34m)\u001b[0m\u001b[0;34m\u001b[0m\u001b[0;34m\u001b[0m\u001b[0m\n\u001b[1;32m      3\u001b[0m \u001b[0mprint\u001b[0m\u001b[0;34m(\u001b[0m\u001b[0mfiledata\u001b[0m\u001b[0;34m)\u001b[0m\u001b[0;34m\u001b[0m\u001b[0;34m\u001b[0m\u001b[0m\n",
            "\u001b[0;32m/usr/local/lib/python3.7/dist-packages/numpy/lib/npyio.py\u001b[0m in \u001b[0;36mgenfromtxt\u001b[0;34m(fname, dtype, comments, delimiter, skip_header, skip_footer, converters, missing_values, filling_values, usecols, names, excludelist, deletechars, replace_space, autostrip, case_sensitive, defaultfmt, unpack, usemask, loose, invalid_raise, max_rows, encoding, like)\u001b[0m\n\u001b[1;32m   1791\u001b[0m             \u001b[0mfname\u001b[0m \u001b[0;34m=\u001b[0m \u001b[0mos_fspath\u001b[0m\u001b[0;34m(\u001b[0m\u001b[0mfname\u001b[0m\u001b[0;34m)\u001b[0m\u001b[0;34m\u001b[0m\u001b[0;34m\u001b[0m\u001b[0m\n\u001b[1;32m   1792\u001b[0m         \u001b[0;32mif\u001b[0m \u001b[0misinstance\u001b[0m\u001b[0;34m(\u001b[0m\u001b[0mfname\u001b[0m\u001b[0;34m,\u001b[0m \u001b[0mstr\u001b[0m\u001b[0;34m)\u001b[0m\u001b[0;34m:\u001b[0m\u001b[0;34m\u001b[0m\u001b[0;34m\u001b[0m\u001b[0m\n\u001b[0;32m-> 1793\u001b[0;31m             \u001b[0mfid\u001b[0m \u001b[0;34m=\u001b[0m \u001b[0mnp\u001b[0m\u001b[0;34m.\u001b[0m\u001b[0mlib\u001b[0m\u001b[0;34m.\u001b[0m\u001b[0m_datasource\u001b[0m\u001b[0;34m.\u001b[0m\u001b[0mopen\u001b[0m\u001b[0;34m(\u001b[0m\u001b[0mfname\u001b[0m\u001b[0;34m,\u001b[0m \u001b[0;34m'rt'\u001b[0m\u001b[0;34m,\u001b[0m \u001b[0mencoding\u001b[0m\u001b[0;34m=\u001b[0m\u001b[0mencoding\u001b[0m\u001b[0;34m)\u001b[0m\u001b[0;34m\u001b[0m\u001b[0;34m\u001b[0m\u001b[0m\n\u001b[0m\u001b[1;32m   1794\u001b[0m             \u001b[0mfid_ctx\u001b[0m \u001b[0;34m=\u001b[0m \u001b[0mcontextlib\u001b[0m\u001b[0;34m.\u001b[0m\u001b[0mclosing\u001b[0m\u001b[0;34m(\u001b[0m\u001b[0mfid\u001b[0m\u001b[0;34m)\u001b[0m\u001b[0;34m\u001b[0m\u001b[0;34m\u001b[0m\u001b[0m\n\u001b[1;32m   1795\u001b[0m         \u001b[0;32melse\u001b[0m\u001b[0;34m:\u001b[0m\u001b[0;34m\u001b[0m\u001b[0;34m\u001b[0m\u001b[0m\n",
            "\u001b[0;32m/usr/local/lib/python3.7/dist-packages/numpy/lib/_datasource.py\u001b[0m in \u001b[0;36mopen\u001b[0;34m(path, mode, destpath, encoding, newline)\u001b[0m\n\u001b[1;32m    191\u001b[0m \u001b[0;34m\u001b[0m\u001b[0m\n\u001b[1;32m    192\u001b[0m     \u001b[0mds\u001b[0m \u001b[0;34m=\u001b[0m \u001b[0mDataSource\u001b[0m\u001b[0;34m(\u001b[0m\u001b[0mdestpath\u001b[0m\u001b[0;34m)\u001b[0m\u001b[0;34m\u001b[0m\u001b[0;34m\u001b[0m\u001b[0m\n\u001b[0;32m--> 193\u001b[0;31m     \u001b[0;32mreturn\u001b[0m \u001b[0mds\u001b[0m\u001b[0;34m.\u001b[0m\u001b[0mopen\u001b[0m\u001b[0;34m(\u001b[0m\u001b[0mpath\u001b[0m\u001b[0;34m,\u001b[0m \u001b[0mmode\u001b[0m\u001b[0;34m,\u001b[0m \u001b[0mencoding\u001b[0m\u001b[0;34m=\u001b[0m\u001b[0mencoding\u001b[0m\u001b[0;34m,\u001b[0m \u001b[0mnewline\u001b[0m\u001b[0;34m=\u001b[0m\u001b[0mnewline\u001b[0m\u001b[0;34m)\u001b[0m\u001b[0;34m\u001b[0m\u001b[0;34m\u001b[0m\u001b[0m\n\u001b[0m\u001b[1;32m    194\u001b[0m \u001b[0;34m\u001b[0m\u001b[0m\n\u001b[1;32m    195\u001b[0m \u001b[0;34m\u001b[0m\u001b[0m\n",
            "\u001b[0;32m/usr/local/lib/python3.7/dist-packages/numpy/lib/_datasource.py\u001b[0m in \u001b[0;36mopen\u001b[0;34m(self, path, mode, encoding, newline)\u001b[0m\n\u001b[1;32m    531\u001b[0m                                       encoding=encoding, newline=newline)\n\u001b[1;32m    532\u001b[0m         \u001b[0;32melse\u001b[0m\u001b[0;34m:\u001b[0m\u001b[0;34m\u001b[0m\u001b[0;34m\u001b[0m\u001b[0m\n\u001b[0;32m--> 533\u001b[0;31m             \u001b[0;32mraise\u001b[0m \u001b[0mIOError\u001b[0m\u001b[0;34m(\u001b[0m\u001b[0;34m\"%s not found.\"\u001b[0m \u001b[0;34m%\u001b[0m \u001b[0mpath\u001b[0m\u001b[0;34m)\u001b[0m\u001b[0;34m\u001b[0m\u001b[0;34m\u001b[0m\u001b[0m\n\u001b[0m\u001b[1;32m    534\u001b[0m \u001b[0;34m\u001b[0m\u001b[0m\n\u001b[1;32m    535\u001b[0m \u001b[0;34m\u001b[0m\u001b[0m\n",
            "\u001b[0;31mOSError\u001b[0m: data.txt not found."
          ]
        }
      ],
      "source": [
        "filedata = np.genfromtxt('data.txt', delimiter=',')\n",
        "filedata = filedata.astype('int32')\n",
        "print(filedata)"
      ]
    },
    {
      "cell_type": "markdown",
      "metadata": {
        "id": "ZwximwlOXOtN"
      },
      "source": [
        "##### Boolean Masking and Advanced Indexing"
      ]
    },
    {
      "cell_type": "code",
      "execution_count": null,
      "metadata": {
        "id": "FjWqIn_qXOtN"
      },
      "outputs": [],
      "source": [
        "print(filedata > 50)\n",
        "print((~((filedata > 50) & (filedata < 100))))\n",
        "print(filedata[filedata > 50])"
      ]
    },
    {
      "cell_type": "markdown",
      "metadata": {
        "id": "JDHvlA2tXOtN"
      },
      "source": [
        "# Matplotlib "
      ]
    },
    {
      "cell_type": "markdown",
      "metadata": {
        "id": "ob9f3ADSXOtN"
      },
      "source": [
        "## Import neccessary libraries "
      ]
    },
    {
      "cell_type": "code",
      "execution_count": 132,
      "metadata": {
        "id": "exo06cvjXOtN"
      },
      "outputs": [],
      "source": [
        "import matplotlib.pyplot as plt"
      ]
    },
    {
      "cell_type": "markdown",
      "metadata": {
        "id": "1ejukVx-XOtN"
      },
      "source": [
        "### Basic graph"
      ]
    },
    {
      "cell_type": "code",
      "execution_count": 133,
      "metadata": {
        "colab": {
          "base_uri": "https://localhost:8080/",
          "height": 0
        },
        "id": "U9eLNeIhXOtN",
        "outputId": "ab69c357-80ba-4605-adfc-cdeeeca3c4a0"
      },
      "outputs": [
        {
          "output_type": "display_data",
          "data": {
            "text/plain": [
              "<Figure size 432x288 with 1 Axes>"
            ],
            "image/png": "[encoded data removed]"
          },
          "metadata": {
            "needs_background": "light"
          }
        }
      ],
      "source": [
        "plt.plot([1, 2, 3, 4])\n",
        "plt.ylabel('some numbers')\n",
        "plt.show()"
      ]
    },
    {
      "cell_type": "markdown",
      "metadata": {
        "id": "hJxF52qHXOtN"
      },
      "source": [
        "`plot` is a versatile function, and will take an arbitrary number of arguments. For example, to plot x versus y, you can write:"
      ]
    },
    {
      "cell_type": "code",
      "execution_count": 134,
      "metadata": {
        "colab": {
          "base_uri": "https://localhost:8080/",
          "height": 0
        },
        "id": "z0AtFDWwXOtN",
        "outputId": "ff4e7a4d-1f2f-48c9-c858-99a8f192f4ee"
      },
      "outputs": [
        {
          "output_type": "display_data",
          "data": {
            "text/plain": [
              "<Figure size 432x288 with 1 Axes>"
            ],
            "image/png": "[encoded data removed]"
          },
          "metadata": {
            "needs_background": "light"
          }
        }
      ],
      "source": [
        "plt.plot([1, 2, 3, 4], [1, 4, 9, 16])\n",
        "plt.show()"
      ]
    },
    {
      "cell_type": "markdown",
      "metadata": {
        "id": "K_qW55_oXOtO"
      },
      "source": [
        "### Histogram"
      ]
    },
    {
      "cell_type": "markdown",
      "metadata": {
        "id": "yTKMqZM9XOtO"
      },
      "source": [
        "Matplotlib can also be used to create histograms. \n",
        "\n",
        "Usually it has bins, where every bin has a **minimum and maximum** value. \n",
        "Each **bin** also has a frequency between x and infinite."
      ]
    },
    {
      "cell_type": "code",
      "execution_count": 135,
      "metadata": {
        "colab": {
          "base_uri": "https://localhost:8080/",
          "height": 0
        },
        "id": "Thjfu1LxXOtO",
        "outputId": "1fa78108-d2c8-4f2e-ad6e-30aa410a995b"
      },
      "outputs": [
        {
          "output_type": "display_data",
          "data": {
            "text/plain": [
              "<Figure size 432x288 with 1 Axes>"
            ],
            "image/png": "[encoded data removed]"
          },
          "metadata": {
            "needs_background": "light"
          }
        }
      ],
      "source": [
        "x = [21,22,23,4,5,6,77,8,9,10,31,32,33,34,35,36,37,18,49,50,100]\n",
        "num_bins = 5\n",
        "plt.hist(x, num_bins, facecolor='red', alpha=0.5)\n",
        "plt.show()"
      ]
    },
    {
      "cell_type": "markdown",
      "metadata": {
        "id": "lPju02bqXOtO"
      },
      "source": [
        "### Stem"
      ]
    },
    {
      "cell_type": "markdown",
      "metadata": {
        "id": "STt3POm8XOtO"
      },
      "source": [
        "A stem plot plots **vertical lines at each x** location from the baseline to y, and places a marker there.\n",
        "\n",
        "For more details, [here](https://matplotlib.org/3.3.1/api/_as_gen/matplotlib.pyplot.stem.html)."
      ]
    },
    {
      "cell_type": "code",
      "execution_count": 136,
      "metadata": {
        "colab": {
          "base_uri": "https://localhost:8080/",
          "height": 0
        },
        "id": "WxvFU7UYXOtO",
        "outputId": "2bd29795-88e4-4de3-8837-bd31357945d4"
      },
      "outputs": [
        {
          "output_type": "execute_result",
          "data": {
            "text/plain": [
              "<StemContainer object of 3 artists>"
            ]
          },
          "metadata": {},
          "execution_count": 136
        },
        {
          "output_type": "display_data",
          "data": {
            "text/plain": [
              "<Figure size 432x288 with 1 Axes>"
            ],
            "image/png": "[encoded data removed]"
          },
          "metadata": {
            "needs_background": "light"
          }
        }
      ],
      "source": [
        "#Using the previous example\n",
        "\n",
        "plt.stem([1, 2, 3, 4], [1, 4, 9, 16],use_line_collection = True)"
      ]
    },
    {
      "cell_type": "markdown",
      "metadata": {
        "id": "MYvfDc0uXOtO"
      },
      "source": [
        "P.S.\n",
        "\n",
        "For convenience of plotting, **numpy.linpspace** provides of interval range for the horizontal axis. Take above as example.\n",
        "[1,2,3,4] with the four elements can be changed into **np.linspace(0,5,4).**\n",
        "\n",
        "**https://numpy.org/doc/stable/reference/generated/numpy.linspace.html**\n",
        "Where first parameter start is the first index\n",
        "Second parameter stop is the last index(not counting the number)\n",
        "Third parameter num is the number of elements that we want to have."
      ]
    },
    {
      "cell_type": "code",
      "execution_count": 137,
      "metadata": {
        "colab": {
          "base_uri": "https://localhost:8080/",
          "height": 0
        },
        "id": "mwH5TeOeXOtO",
        "outputId": "04943a82-2853-4e7c-e7d7-1c8d190a4bd6"
      },
      "outputs": [
        {
          "output_type": "execute_result",
          "data": {
            "text/plain": [
              "<StemContainer object of 3 artists>"
            ]
          },
          "metadata": {},
          "execution_count": 137
        },
        {
          "output_type": "display_data",
          "data": {
            "text/plain": [
              "<Figure size 432x288 with 1 Axes>"
            ],
            "image/png": "[encoded data removed]"
          },
          "metadata": {
            "needs_background": "light"
          }
        }
      ],
      "source": [
        "x=np.linspace(0,5,4)\n",
        "plt.stem(x, [1, 4, 9, 16],use_line_collection = True)"
      ]
    },
    {
      "cell_type": "markdown",
      "metadata": {
        "id": "r7jfsYVfXOtO"
      },
      "source": [
        "### Formatting the style of your plot\n",
        "\n",
        "For every `x, y` pair of arguments, there is an optional third argument which is the format string that indicates the color and line type of the plot. The letters and symbols of the format string are from **MATLAB**, and you concatenate a color string with a line style string. The default format string is `'b-'`, which is a **solid blue line.** For example, to plot the above with *red circles*, you would issue"
      ]
    },
    {
      "cell_type": "code",
      "execution_count": 138,
      "metadata": {
        "colab": {
          "base_uri": "https://localhost:8080/",
          "height": 0
        },
        "id": "-4aztQWvXOtO",
        "outputId": "76161c31-0092-4503-852f-55656edf51fc"
      },
      "outputs": [
        {
          "output_type": "display_data",
          "data": {
            "text/plain": [
              "<Figure size 432x288 with 1 Axes>"
            ],
            "image/png": "[encoded data removed]"
          },
          "metadata": {
            "needs_background": "light"
          }
        }
      ],
      "source": [
        "plt.plot([1, 2, 3, 4], [1, 4, 9, 16], 'g+')\n",
        "plt.axis([0, 6, 0, 20])\n",
        "plt.show()"
      ]
    },
    {
      "cell_type": "markdown",
      "metadata": {
        "id": "MyKk2nFXXOtO"
      },
      "source": [
        "See the `plot` documentation for a complete list of line styles and format strings. The `axis` function in the example above takes a list of `[xmin, xmax, ymin, ymax]` and specifies the viewport of the axes."
      ]
    },
    {
      "cell_type": "markdown",
      "metadata": {
        "id": "MrM0X_FNXOtO"
      },
      "source": [
        "### Connection to NumPy\n",
        "\n",
        "If `matplotlib` were limited to working with `lists`, it would be fairly useless for numeric processing. Generally, you will use `numpy arrays`. In fact, **all sequences are converted to numpy arrays internally**. The example below illustrates plotting several lines with different format styles in one function call using arrays"
      ]
    },
    {
      "cell_type": "code",
      "execution_count": 139,
      "metadata": {
        "colab": {
          "base_uri": "https://localhost:8080/",
          "height": 0
        },
        "id": "HUZVtjKbXOtO",
        "outputId": "2333d647-b921-43f9-b8da-52ef5f8ccc51"
      },
      "outputs": [
        {
          "output_type": "stream",
          "name": "stdout",
          "text": [
            "[0.  0.2 0.4 0.6 0.8 1.  1.2 1.4 1.6 1.8 2.  2.2 2.4 2.6 2.8 3.  3.2 3.4\n",
            " 3.6 3.8 4.  4.2 4.4 4.6 4.8]\n"
          ]
        },
        {
          "output_type": "display_data",
          "data": {
            "text/plain": [
              "<Figure size 432x288 with 1 Axes>"
            ],
            "image/png": "[encoded data removed]"
          },
          "metadata": {
            "needs_background": "light"
          }
        }
      ],
      "source": [
        "import numpy as np\n",
        "\n",
        "# evenly sampled time at 200ms intervals\n",
        "t = np.arange(0., 5., 0.2)\n",
        "print(t)\n",
        "\n",
        "# red dashes, blue squares and green triangles\n",
        "plt.plot(t, t, 'r--', t, t**2, 'bs', t, t**3, 'g^')\n",
        "plt.show()"
      ]
    },
    {
      "cell_type": "markdown",
      "metadata": {
        "id": "RgQt-jmlXOtP"
      },
      "source": [
        "### Plotting with keyword strings\n",
        "\n",
        "There are some instances where you have data in a format that lets you access particular variables with **strings**. For example, with `numpy.recarray` or `pandas.DataFrame`.\n",
        "\n",
        "Matplotlib allows you provide such an object with the `data` keyword argument. If provided, then you may generate plots with the strings corresponding to these variables."
      ]
    },
    {
      "cell_type": "code",
      "execution_count": 140,
      "metadata": {
        "colab": {
          "base_uri": "https://localhost:8080/",
          "height": 0
        },
        "id": "HFLhko-8XOtP",
        "outputId": "6f81116d-cd9b-4134-9d5b-d456047ed296"
      },
      "outputs": [
        {
          "output_type": "display_data",
          "data": {
            "text/plain": [
              "<Figure size 432x288 with 1 Axes>"
            ],
            "image/png": "[encoded data removed]"
          },
          "metadata": {
            "needs_background": "light"
          }
        }
      ],
      "source": [
        "data = {'a': np.arange(50),\n",
        "        'c': np.random.randint(0, 50, 50),\n",
        "        'd': np.random.randn(50)}\n",
        "data['b'] = data['a'] + 10 * np.random.randn(50)\n",
        "data['d'] = np.abs(data['d']) * 100\n",
        "\n",
        "plt.scatter('a', 'b', c='c', s='d', data=data)\n",
        "plt.xlabel('entry a')\n",
        "plt.ylabel('entry b')\n",
        "plt.show()"
      ]
    },
    {
      "cell_type": "markdown",
      "metadata": {
        "id": "B7YCMMazXOtP"
      },
      "source": [
        "### Plotting with categorical variables\n",
        "\n",
        "It is also possible to create a plot using categorical variables. Matplotlib allows you to pass categorical variables directly to many plotting functions. For example:"
      ]
    },
    {
      "cell_type": "code",
      "execution_count": 141,
      "metadata": {
        "colab": {
          "base_uri": "https://localhost:8080/",
          "height": 0
        },
        "id": "MdsrTuALXOtP",
        "outputId": "aa703c62-7591-40c8-ae64-b592e6c6aa66"
      },
      "outputs": [
        {
          "output_type": "display_data",
          "data": {
            "text/plain": [
              "<Figure size 648x216 with 6 Axes>"
            ],
            "image/png": "[encoded data removed]"
          },
          "metadata": {
            "needs_background": "light"
          }
        }
      ],
      "source": [
        "names = ['group_a', 'group_b', 'group_c']\n",
        "values = [1, 10, 100]\n",
        "\n",
        "plt.figure(figsize=(9, 3))\n",
        "\n",
        "plt.subplot(231)# First two numbers specifiy dimensio\n",
        "plt.bar(names, values)\n",
        "plt.subplot(232)\n",
        "plt.scatter(names, values)\n",
        "plt.subplot(233)\n",
        "plt.plot(names, values)\n",
        "plt.subplot(234)# First two numbers specifiy dimensio\n",
        "plt.bar(names, values)\n",
        "plt.subplot(235)\n",
        "plt.scatter(names, values)\n",
        "plt.subplot(236)\n",
        "plt.plot(names, values)\n",
        "plt.suptitle('Categorical Plotting')\n",
        "plt.show()"
      ]
    },
    {
      "cell_type": "markdown",
      "metadata": {
        "id": "FBrn3_FFXOtP"
      },
      "source": [
        "### Controlling line properties\n",
        "\n",
        "Lines have many attributes that you can set: `linewidth`, `dash style`, `antialiased`, etc; see `matplotlib.lines.Line2D`. There are several ways to set line properties"
      ]
    },
    {
      "cell_type": "markdown",
      "metadata": {
        "id": "5IcTPg2IXOtP"
      },
      "source": [
        "##### Use keywords args:"
      ]
    },
    {
      "cell_type": "code",
      "execution_count": 142,
      "metadata": {
        "colab": {
          "base_uri": "https://localhost:8080/",
          "height": 317
        },
        "id": "XgfoatWoXOtP",
        "outputId": "b00d3b46-b9eb-48fc-caef-6adea6ed7d76"
      },
      "outputs": [
        {
          "output_type": "execute_result",
          "data": {
            "text/plain": [
              "[<matplotlib.lines.Line2D at 0x7fdedbc634d0>,\n",
              " <matplotlib.lines.Line2D at 0x7fdedbc63710>,\n",
              " <matplotlib.lines.Line2D at 0x7fdedbc638d0>]"
            ]
          },
          "metadata": {},
          "execution_count": 142
        },
        {
          "output_type": "display_data",
          "data": {
            "text/plain": [
              "<Figure size 432x288 with 1 Axes>"
            ],
            "image/png": "[encoded data removed]"
          },
          "metadata": {
            "needs_background": "light"
          }
        }
      ],
      "source": [
        "plt.plot(x, y, linewidth=2.0)"
      ]
    },
    {
      "cell_type": "markdown",
      "metadata": {
        "id": "_v-DRyKrXOtP"
      },
      "source": [
        "##### Use `setp`. \n",
        "\n",
        "The example below uses a **MATLAB-style** function to set multiple properties on a list of lines. `setp` works transparently with a list of objects or a single object. You can either use **python keyword arguments** or **MATLAB-style string/value pairs**:"
      ]
    },
    {
      "cell_type": "code",
      "execution_count": 143,
      "metadata": {
        "colab": {
          "base_uri": "https://localhost:8080/",
          "height": 237
        },
        "id": "2lJ_Kpd6XOtP",
        "outputId": "eff8ede8-6e10-4e31-b6e9-1cbb9d7e3c79"
      },
      "outputs": [
        {
          "output_type": "error",
          "ename": "NameError",
          "evalue": "ignored",
          "traceback": [
            "\u001b[0;31m---------------------------------------------------------------------------\u001b[0m",
            "\u001b[0;31mNameError\u001b[0m                                 Traceback (most recent call last)",
            "\u001b[0;32m<ipython-input-143-9ef1f096dff6>\u001b[0m in \u001b[0;36m<module>\u001b[0;34m\u001b[0m\n\u001b[0;32m----> 1\u001b[0;31m \u001b[0mlines\u001b[0m \u001b[0;34m=\u001b[0m \u001b[0mplt\u001b[0m\u001b[0;34m.\u001b[0m\u001b[0mplot\u001b[0m\u001b[0;34m(\u001b[0m\u001b[0mx1\u001b[0m\u001b[0;34m,\u001b[0m \u001b[0my1\u001b[0m\u001b[0;34m,\u001b[0m \u001b[0mx2\u001b[0m\u001b[0;34m,\u001b[0m \u001b[0my2\u001b[0m\u001b[0;34m)\u001b[0m\u001b[0;34m\u001b[0m\u001b[0;34m\u001b[0m\u001b[0m\n\u001b[0m\u001b[1;32m      2\u001b[0m \u001b[0;31m# use keyword args\u001b[0m\u001b[0;34m\u001b[0m\u001b[0;34m\u001b[0m\u001b[0;34m\u001b[0m\u001b[0m\n\u001b[1;32m      3\u001b[0m \u001b[0mplt\u001b[0m\u001b[0;34m.\u001b[0m\u001b[0msetp\u001b[0m\u001b[0;34m(\u001b[0m\u001b[0mlines\u001b[0m\u001b[0;34m,\u001b[0m \u001b[0mcolor\u001b[0m\u001b[0;34m=\u001b[0m\u001b[0;34m'r'\u001b[0m\u001b[0;34m,\u001b[0m \u001b[0mlinewidth\u001b[0m\u001b[0;34m=\u001b[0m\u001b[0;36m2.0\u001b[0m\u001b[0;34m)\u001b[0m\u001b[0;34m\u001b[0m\u001b[0;34m\u001b[0m\u001b[0m\n\u001b[1;32m      4\u001b[0m \u001b[0;31m# or MATLAB style string value pairs\u001b[0m\u001b[0;34m\u001b[0m\u001b[0;34m\u001b[0m\u001b[0;34m\u001b[0m\u001b[0m\n\u001b[1;32m      5\u001b[0m \u001b[0mplt\u001b[0m\u001b[0;34m.\u001b[0m\u001b[0msetp\u001b[0m\u001b[0;34m(\u001b[0m\u001b[0mlines\u001b[0m\u001b[0;34m,\u001b[0m \u001b[0;34m'color'\u001b[0m\u001b[0;34m,\u001b[0m \u001b[0;34m'r'\u001b[0m\u001b[0;34m,\u001b[0m \u001b[0;34m'linewidth'\u001b[0m\u001b[0;34m,\u001b[0m \u001b[0;36m2.0\u001b[0m\u001b[0;34m)\u001b[0m\u001b[0;34m\u001b[0m\u001b[0;34m\u001b[0m\u001b[0m\n",
            "\u001b[0;31mNameError\u001b[0m: name 'x1' is not defined"
          ]
        }
      ],
      "source": [
        "lines = plt.plot(x1, y1, x2, y2)\n",
        "# use keyword args\n",
        "plt.setp(lines, color='r', linewidth=2.0)\n",
        "# or MATLAB style string value pairs\n",
        "plt.setp(lines, 'color', 'r', 'linewidth', 2.0)"
      ]
    },
    {
      "cell_type": "markdown",
      "metadata": {
        "id": "qI6If0sZXOtP"
      },
      "source": [
        "### Working with multiple figures and axes:\n",
        "\n",
        "**MATLAB**, and **pyplot**, have the concept of the current figure and the current axes. All plotting functions apply to the current axes. The function `gca` returns the **current axes** (a `matplotlib.axes.Axes` instance), and `gcf` returns the **current figure** (a `matplotlib.figure.Figure` instance). Normally, you don't have to worry about this, because it is all taken care of behind the scenes. Below is a script to create two subplots."
      ]
    },
    {
      "cell_type": "code",
      "execution_count": 144,
      "metadata": {
        "colab": {
          "base_uri": "https://localhost:8080/",
          "height": 265
        },
        "id": "Vos_VlJEXOtP",
        "outputId": "510662f7-f4ec-4096-f61a-c152bd99d89e"
      },
      "outputs": [
        {
          "output_type": "display_data",
          "data": {
            "text/plain": [
              "<Figure size 432x288 with 2 Axes>"
            ],
            "image/png": "[encoded data removed]"
          },
          "metadata": {
            "needs_background": "light"
          }
        }
      ],
      "source": [
        "def f(t):\n",
        "    return np.exp(-t) * np.cos(2*np.pi*t)\n",
        "\n",
        "t1 = np.arange(0.0, 5.0, 0.1)\n",
        "t2 = np.arange(0.0, 5.0, 0.02)\n",
        "\n",
        "plt.figure()\n",
        "plt.subplot(211)\n",
        "plt.plot(t1, f(t1), 'bo', t2, f(t2), 'k')\n",
        "\n",
        "plt.subplot(212)\n",
        "plt.plot(t2, np.cos(2*np.pi*t2), 'r--')\n",
        "plt.show()"
      ]
    },
    {
      "cell_type": "markdown",
      "metadata": {
        "id": "2LlrS0ucXOtQ"
      },
      "source": [
        "The `figure` call here is optional because `figure(1)` will be **created by default**, just as a `subplot(111)` will be created by default if you don't manually specify any axes. The `subplot` call specifies `numrows`, `numcols`, `plot_number` where `plot_number` ranges from 1 to `numrows*numcols`. The *commas* in the `subplot` call are **optional if `numrows*numcols<10`**. **So subplot(211) is identical to subplot(2, 1, 1).**\n",
        "\n",
        "You can create an arbitrary number of subplots and axes. If you want to place an axes manually, i.e., not on a rectangular grid, use axes, which allows you to specify the location as axes(`[left, bottom, width, height]`) where all values are in fractional (0 to 1) coordinates. See **[Axes Demo](https://matplotlib.org/gallery/subplots_axes_and_figures/axes_demo.html)** for an example of placing axes manually and **[Basic Subplot Demo](https://matplotlib.org/gallery/subplots_axes_and_figures/subplot_demo.html)** for an example with lots of subplots.\n",
        "\n",
        "You can create **multiple figures** by using multiple figure calls with an increasing figure number. Of course, each figure can contain as many axes and subplots as your heart desires:"
      ]
    },
    {
      "cell_type": "code",
      "execution_count": 145,
      "metadata": {
        "colab": {
          "base_uri": "https://localhost:8080/",
          "height": 601
        },
        "id": "I0p7r6qEXOtQ",
        "outputId": "83c2c115-c98b-49b0-f923-0456025869df"
      },
      "outputs": [
        {
          "output_type": "stream",
          "name": "stderr",
          "text": [
            "/usr/local/lib/python3.7/dist-packages/ipykernel_launcher.py:13: MatplotlibDeprecationWarning: Adding an axes using the same arguments as a previous axes currently reuses the earlier instance.  In a future version, a new instance will always be created and returned.  Meanwhile, this warning can be suppressed, and the future behavior ensured, by passing a unique label to each axes instance.\n",
            "  del sys.path[0]\n"
          ]
        },
        {
          "output_type": "execute_result",
          "data": {
            "text/plain": [
              "Text(0.5, 1.0, 'Easy as 1, 2, 3')"
            ]
          },
          "metadata": {},
          "execution_count": 145
        },
        {
          "output_type": "display_data",
          "data": {
            "text/plain": [
              "<Figure size 432x288 with 2 Axes>"
            ],
            "image/png": "[encoded data removed]"
          },
          "metadata": {
            "needs_background": "light"
          }
        },
        {
          "output_type": "display_data",
          "data": {
            "text/plain": [
              "<Figure size 432x288 with 1 Axes>"
            ],
            "image/png": "[encoded data removed]"
          },
          "metadata": {
            "needs_background": "light"
          }
        }
      ],
      "source": [
        "# import matplotlib.pyplot as plt\n",
        "plt.figure(1)                # the first figure\n",
        "plt.subplot(211)             # the first subplot in the first figure\n",
        "plt.plot([1, 2, 3])\n",
        "plt.subplot(212)             # the second subplot in the first figure\n",
        "plt.plot([4, 5, 6])\n",
        "\n",
        "\n",
        "plt.figure(2)                # a second figure\n",
        "plt.plot([4, 5, 6])          # creates a subplot(111) by default\n",
        "\n",
        "plt.figure(1)                # figure 1 current; subplot(212) still current\n",
        "plt.subplot(211)             # make subplot(211) in figure1 current\n",
        "plt.title('Easy as 1, 2, 3') # subplot 211 title"
      ]
    },
    {
      "cell_type": "markdown",
      "metadata": {
        "id": "NM7OqoK0XOtQ"
      },
      "source": [
        "### Working with text\n",
        "\n",
        "`text` can be used to add text in an arbitrary location, and `xlabel`, `ylabel` and title are used to add text in the indicated locations (see [Text in Matplotlib Plots](https://matplotlib.org/tutorials/text/text_intro.html) for a more detailed example)"
      ]
    },
    {
      "cell_type": "code",
      "execution_count": 146,
      "metadata": {
        "colab": {
          "base_uri": "https://localhost:8080/",
          "height": 0
        },
        "id": "7CqENtSVXOtQ",
        "outputId": "44d55bd8-4887-4c20-ae76-c69e1d27b412"
      },
      "outputs": [
        {
          "output_type": "display_data",
          "data": {
            "text/plain": [
              "<Figure size 432x288 with 1 Axes>"
            ],
            "image/png": "[encoded data removed]"
          },
          "metadata": {
            "needs_background": "light"
          }
        }
      ],
      "source": [
        "mu, sigma = 100, 15\n",
        "x = mu + sigma * np.random.randn(10000)\n",
        "\n",
        "# the histogram of the data\n",
        "n, bins, patches = plt.hist(x, 50, density=1, facecolor='g', alpha=0.75)\n",
        "\n",
        "\n",
        "plt.xlabel('Smarts')\n",
        "plt.ylabel('Probability')\n",
        "plt.title('Histogram of IQ')\n",
        "plt.text(60, .025, r'$\\mu=100,\\ \\sigma=15$')\n",
        "plt.axis([40, 160, 0, 0.03])\n",
        "plt.grid(True)\n",
        "plt.show()"
      ]
    },
    {
      "cell_type": "markdown",
      "metadata": {
        "id": "1KQn4oKtXOtS"
      },
      "source": [
        "### Logarithmic and other nonlinear axes\n",
        "\n",
        "`matplotlib.pyplot` supports not only **linear** axis scales, but also **logarithmic** and **logit** scales. This is commonly used if data spans many orders of magnitude. Changing the scale of an axis is easy:\n",
        "\n",
        "`plt.xscale('log')`\n",
        "An example of four plots with the same data and different scales for the y axis is shown below."
      ]
    },
    {
      "cell_type": "code",
      "execution_count": 147,
      "metadata": {
        "colab": {
          "base_uri": "https://localhost:8080/",
          "height": 0
        },
        "id": "ULHsQJFYXOtS",
        "outputId": "4ce6be37-5b88-46de-a0f5-b501740e83e0"
      },
      "outputs": [
        {
          "output_type": "stream",
          "name": "stderr",
          "text": [
            "/usr/local/lib/python3.7/dist-packages/ipykernel_launcher.py:30: MatplotlibDeprecationWarning: SymmetricalLogScale got an unexpected keyword argument 'linthresh'. In the future this will raise TypeError\n"
          ]
        },
        {
          "output_type": "display_data",
          "data": {
            "text/plain": [
              "<Figure size 432x288 with 4 Axes>"
            ],
            "image/png": "[encoded data removed]"
          },
          "metadata": {
            "needs_background": "light"
          }
        }
      ],
      "source": [
        "# Fixing random state for reproducibility\n",
        "np.random.seed(19680801)\n",
        "\n",
        "# make up some data in the open interval (0, 1)\n",
        "y = np.random.normal(loc=0.5, scale=0.4, size=1000)\n",
        "y = y[(y > 0) & (y < 1)]\n",
        "y.sort()\n",
        "x = np.arange(len(y))\n",
        "\n",
        "# plot with various axes scales\n",
        "plt.figure()\n",
        "\n",
        "# linear\n",
        "plt.subplot(221)\n",
        "plt.plot(x, y)\n",
        "plt.yscale('linear')\n",
        "plt.title('linear')\n",
        "plt.grid(True)\n",
        "\n",
        "# log\n",
        "plt.subplot(222)\n",
        "plt.plot(x, y)\n",
        "plt.yscale('log')\n",
        "plt.title('log')\n",
        "plt.grid(True)\n",
        "\n",
        "# symmetric log\n",
        "plt.subplot(223)\n",
        "plt.plot(x, y - y.mean())\n",
        "plt.yscale('symlog', linthresh=0.01)\n",
        "plt.title('symlog')\n",
        "plt.grid(True)\n",
        "\n",
        "# logit\n",
        "plt.subplot(224)\n",
        "plt.plot(x, y)\n",
        "plt.yscale('logit')\n",
        "plt.title('logit')\n",
        "plt.grid(True)\n",
        "# Adjust the subplot layout, because the logit one may take more space\n",
        "# than usual, due to y-tick labels like \"1 - 10^{-3}\"\n",
        "plt.subplots_adjust(top=0.92, bottom=0.08, left=0.10, right=0.95, hspace=0.25,\n",
        "                    wspace=0.35)\n",
        "\n",
        "plt.show()"
      ]
    },
    {
      "cell_type": "markdown",
      "metadata": {
        "id": "NkYvYndKXOtS"
      },
      "source": [
        "# Review\n",
        "\n",
        "We have just covered the following topics:\n",
        "    \n",
        "1. Markdown in Jupyter Notebook\n",
        "2. Basics(integers, strings, vars)\n",
        "3. Container:\n",
        "    1. How to slice them\n",
        "    2. How to build them\n",
        "    3. How to loop over their elements\n",
        "4. Functions and their optional arguments\n",
        "5. Numpy\n",
        "    1. Basics\n",
        "    2. Accessing\n",
        "    3. Different ways of initializing\n",
        "    4. Operations\n",
        "    5. Linear Algebra\n",
        "    6. Reorganizing/Reshaping\n",
        "    7. Broadcasting\n",
        "6. Matplotlib"
      ]
    }
  ],
  "metadata": {
    "kernelspec": {
      "display_name": "Python 3 (ipykernel)",
      "language": "python",
      "name": "python3"
    },
    "language_info": {
      "codemirror_mode": {
        "name": "ipython",
        "version": 3
      },
      "file_extension": ".py",
      "mimetype": "text/x-python",
      "name": "python",
      "nbconvert_exporter": "python",
      "pygments_lexer": "ipython3",
      "version": "3.8.13"
    },
    "colab": {
      "provenance": []
    }
  },
  "nbformat": 4,
  "nbformat_minor": 0
}