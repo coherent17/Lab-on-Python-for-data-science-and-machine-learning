{
  "cells": [
    {
      "cell_type": "markdown",
      "metadata": {
        "id": "94UGNQe65_C4"
      },
      "source": [
        "# Rules\n",
        "\n",
        "- Internet and Books are ALLOWED\n",
        "- Name your file as following: StudentID_ChineseName/EnglishName_quiz# \n",
        "- Extension of your file or your file type should be .py \n",
        "- If you submit the code within an hour you will get the full score. Otherwise, you will have 24 hours to finish it and you will get 80% of your final score."
      ]
    },
    {
      "cell_type": "markdown",
      "metadata": {
        "id": "PldmrKqDBva6"
      },
      "source": [
        "# Probability"
      ]
    },
    {
      "cell_type": "markdown",
      "metadata": {
        "id": "jYa1niFElDDO"
      },
      "source": [
        "In the last quiz we described some important properties of probability and also came up with the way to compute conditional probability. We now extend that knowledge to derive Bayes's Theorem:\n",
        "\n",
        "$$P(A|B) = \\frac{P(A) P(B|A)}{P(B)}$$\n",
        "\n",
        "As an example, we used data from the General Social Survey and Bayes's Theorem  to compute conditional probabilities.\n",
        "But since we had the complete dataset, we didn't really need Bayes's Theorem.\n",
        "It was easy enough to compute the left side of the equation directly, and no easier to compute the right side.\n",
        "\n",
        "But often we don't have a complete dataset, and in that case Bayes's Theorem is more useful.   In this exercise, you'll use it to solve several more challenging problems related to conditional probability."
      ]
    },
    {
      "cell_type": "markdown",
      "metadata": {
        "id": "R02joJ8FmNir"
      },
      "source": [
        "## Diachronic Bayes\n",
        "\n",
        "There is another way to think of Bayes's theorem: it gives us a way to\n",
        "update the probability of a hypothesis, $H$, given some body of data, $D$.\n",
        "\n",
        "This interpretation is \"diachronic\", which means \"related to change over time\"; in this case, the probability of the hypotheses changes as we see new data.\n",
        "\n",
        "Rewriting Bayes's theorem with $H$ and $D$ yields:\n",
        "\n",
        "$$P(H|D) = \\frac{P(H)~P(D|H)}{P(D)}$$\n",
        "\n",
        "In this interpretation, each term has a name:\n",
        "\n",
        "-  $P(H)$ is the probability of the hypothesis before we see the data, called the prior probability, or just **prior**.\n",
        "\n",
        "-  $P(H|D)$ is the probability of the hypothesis after we see the data, called the **posterior**.\n",
        "\n",
        "-  $P(D|H)$ is the probability of the data under the hypothesis, called the **likelihood**.\n",
        "\n",
        "-  $P(D)$ is the **total probability of the data**, under any hypothesis.\n",
        "\n",
        "Sometimes we can compute the prior based on background information. In other cases the prior is subjective; that is, reasonable people might disagree, either because they use different background information or because they interpret the same information differently.\n",
        "\n",
        "The likelihood is usually the easiest part to compute."
      ]
    },
    {
      "cell_type": "markdown",
      "metadata": {
        "id": "1caU6ZiYmWMT"
      },
      "source": [
        "Computing the total probability of the data can be tricky. \n",
        "It is supposed to be the probability of seeing the data under any hypothesis at all, but it can be hard to nail down what that means.\n",
        "\n",
        "Most often we simplify things by specifying a set of hypotheses that\n",
        "are:\n",
        "\n",
        "* Mutually exclusive, which means that only one of them can be true, and\n",
        "\n",
        "* Collectively exhaustive, which means one of them must be true.\n",
        "\n",
        "When these conditions apply, we can compute $P(D)$ using the law of total probability.  For example, with two hypotheses, $H_1$ and $H_2$:\n",
        "\n",
        "$$P(D) = P(H_1)~P(D|H_1) + P(H_2)~P(D|H_2)$$\n",
        "\n",
        "And more generally, with any number of hypotheses:\n",
        "\n",
        "$$P(D) = \\sum_i P(H_i)~P(D|H_i)$$\n",
        "\n",
        "The process in this section, using data and a prior probability to compute a posterior probability, is called a **Bayesian update**."
      ]
    },
    {
      "cell_type": "markdown",
      "metadata": {
        "id": "H4d7TOZWnpKf"
      },
      "source": [
        "### We want you to complete the function that will compute the unnormalized and normalized posterior probabilities"
      ]
    },
    {
      "cell_type": "code",
      "execution_count": 43,
      "metadata": {
        "id": "A8c-H-H5mpga"
      },
      "outputs": [],
      "source": [
        "def update(table):\n",
        "    \"\"\"Compute the posterior probabilities.\"\"\"\n",
        "    table['unnorm'] = table['prior'] * table['likelihood'] # call the result `unnorm` because these values are the \"unnormalized posteriors\"\n",
        "    prob_data = table['unnorm']/(table['unnorm'].sum())\n",
        "    table['posterior'] = prob_data # Caclulate the normalized posterior probability\n",
        "    return prob_data"
      ]
    },
    {
      "cell_type": "markdown",
      "metadata": {
        "id": "qZmm-a_igSY4"
      },
      "source": [
        "## The Monty Hall Problem\n",
        "\n",
        "Next we'll use a Bayes table to solve one of the most contentious problems in probability.\n",
        "\n",
        "The Monty Hall problem is based on a game show called *Let's Make a Deal*. If you are a contestant on the show, here's how the game works:\n",
        "\n",
        "* The host, Monty Hall, shows you three closed doors -- numbered 1, 2, and 3 -- and tells you that there is a prize behind each door.\n",
        "\n",
        "* One prize is valuable (traditionally a car), the other two are less valuable (traditionally goats).\n",
        "\n",
        "* The object of the game is to guess which door has the car. If you guess right, you get to keep the car.\n",
        "\n",
        "Suppose you pick Door 1. Before opening the door you chose, Monty opens Door 3 and reveals a goat. Then Monty offers you the option to stick with your original choice or switch to the remaining unopened door."
      ]
    },
    {
      "cell_type": "markdown",
      "metadata": {
        "id": "clzQIZ6lhgrP"
      },
      "source": [
        "To maximize your chance of winning the car, should you stick with Door 1 or switch to Door 2?\n",
        "\n",
        "To answer this question, we have to make some assumptions about the behavior of the host:\n",
        "\n",
        "1.  Monty always opens a door and offers you the option to switch.\n",
        "\n",
        "2.  He never opens the door you picked or the door with the car.\n",
        "\n",
        "3.  If you choose the door with the car, he chooses one of the other\n",
        "    doors at random.\n",
        "\n",
        "Under these assumptions, you are better off switching. \n",
        "If you stick, you win $1/3$ of the time. If you switch, you win $2/3$ of the time.\n",
        "\n",
        "If you have not encountered this problem before, you might find that\n",
        "answer surprising. You would not be alone; many people have the strong\n",
        "intuition that it doesn't matter if you stick or switch. There are two\n",
        "doors left, they reason, so the chance that the car is behind Door A is 50%. But that is wrong.\n",
        "\n",
        "To see why, it can help to use a Bayes table. We start with three\n",
        "hypotheses: the car might be behind Door 1, 2, or 3. According to the\n",
        "statement of the problem, the prior probability for each door is 1/3."
      ]
    },
    {
      "cell_type": "code",
      "execution_count": 44,
      "metadata": {
        "id": "rEqvSx1chiEF"
      },
      "outputs": [],
      "source": [
        "import pandas as pd\n",
        "from fractions import Fraction"
      ]
    },
    {
      "cell_type": "code",
      "execution_count": 45,
      "metadata": {
        "colab": {
          "base_uri": "https://localhost:8080/",
          "height": 143
        },
        "id": "HPNzU6q-hhK1",
        "outputId": "f5bbe096-9c70-4053-ac9d-0f68eef18328"
      },
      "outputs": [
        {
          "output_type": "execute_result",
          "data": {
            "text/plain": [
              "       prior\n",
              "Door 1   1/3\n",
              "Door 2   1/3\n",
              "Door 3   1/3"
            ],
            "text/html": [
              "\n",
              "  <div id=\"df-d6f568c1-4216-4f15-8efc-d062b79d7d22\">\n",
              "    <div class=\"colab-df-container\">\n",
              "      <div>\n",
              "<style scoped>\n",
              "    .dataframe tbody tr th:only-of-type {\n",
              "        vertical-align: middle;\n",
              "    }\n",
              "\n",
              "    .dataframe tbody tr th {\n",
              "        vertical-align: top;\n",
              "    }\n",
              "\n",
              "    .dataframe thead th {\n",
              "        text-align: right;\n",
              "    }\n",
              "</style>\n",
              "<table border=\"1\" class=\"dataframe\">\n",
              "  <thead>\n",
              "    <tr style=\"text-align: right;\">\n",
              "      <th></th>\n",
              "      <th>prior</th>\n",
              "    </tr>\n",
              "  </thead>\n",
              "  <tbody>\n",
              "    <tr>\n",
              "      <th>Door 1</th>\n",
              "      <td>1/3</td>\n",
              "    </tr>\n",
              "    <tr>\n",
              "      <th>Door 2</th>\n",
              "      <td>1/3</td>\n",
              "    </tr>\n",
              "    <tr>\n",
              "      <th>Door 3</th>\n",
              "      <td>1/3</td>\n",
              "    </tr>\n",
              "  </tbody>\n",
              "</table>\n",
              "</div>\n",
              "      <button class=\"colab-df-convert\" onclick=\"convertToInteractive('df-d6f568c1-4216-4f15-8efc-d062b79d7d22')\"\n",
              "              title=\"Convert this dataframe to an interactive table.\"\n",
              "              style=\"display:none;\">\n",
              "        \n",
              "  <svg xmlns=\"http://www.w3.org/2000/svg\" height=\"24px\"viewBox=\"0 0 24 24\"\n",
              "       width=\"24px\">\n",
              "    <path d=\"M0 0h24v24H0V0z\" fill=\"none\"/>\n",
              "    <path d=\"M18.56 5.44l.94 2.06.94-2.06 2.06-.94-2.06-.94-.94-2.06-.94 2.06-2.06.94zm-11 1L8.5 8.5l.94-2.06 2.06-.94-2.06-.94L8.5 2.5l-.94 2.06-2.06.94zm10 10l.94 2.06.94-2.06 2.06-.94-2.06-.94-.94-2.06-.94 2.06-2.06.94z\"/><path d=\"M17.41 7.96l-1.37-1.37c-.4-.4-.92-.59-1.43-.59-.52 0-1.04.2-1.43.59L10.3 9.45l-7.72 7.72c-.78.78-.78 2.05 0 2.83L4 21.41c.39.39.9.59 1.41.59.51 0 1.02-.2 1.41-.59l7.78-7.78 2.81-2.81c.8-.78.8-2.07 0-2.86zM5.41 20L4 18.59l7.72-7.72 1.47 1.35L5.41 20z\"/>\n",
              "  </svg>\n",
              "      </button>\n",
              "      \n",
              "  <style>\n",
              "    .colab-df-container {\n",
              "      display:flex;\n",
              "      flex-wrap:wrap;\n",
              "      gap: 12px;\n",
              "    }\n",
              "\n",
              "    .colab-df-convert {\n",
              "      background-color: #E8F0FE;\n",
              "      border: none;\n",
              "      border-radius: 50%;\n",
              "      cursor: pointer;\n",
              "      display: none;\n",
              "      fill: #1967D2;\n",
              "      height: 32px;\n",
              "      padding: 0 0 0 0;\n",
              "      width: 32px;\n",
              "    }\n",
              "\n",
              "    .colab-df-convert:hover {\n",
              "      background-color: #E2EBFA;\n",
              "      box-shadow: 0px 1px 2px rgba(60, 64, 67, 0.3), 0px 1px 3px 1px rgba(60, 64, 67, 0.15);\n",
              "      fill: #174EA6;\n",
              "    }\n",
              "\n",
              "    [theme=dark] .colab-df-convert {\n",
              "      background-color: #3B4455;\n",
              "      fill: #D2E3FC;\n",
              "    }\n",
              "\n",
              "    [theme=dark] .colab-df-convert:hover {\n",
              "      background-color: #434B5C;\n",
              "      box-shadow: 0px 1px 3px 1px rgba(0, 0, 0, 0.15);\n",
              "      filter: drop-shadow(0px 1px 2px rgba(0, 0, 0, 0.3));\n",
              "      fill: #FFFFFF;\n",
              "    }\n",
              "  </style>\n",
              "\n",
              "      <script>\n",
              "        const buttonEl =\n",
              "          document.querySelector('#df-d6f568c1-4216-4f15-8efc-d062b79d7d22 button.colab-df-convert');\n",
              "        buttonEl.style.display =\n",
              "          google.colab.kernel.accessAllowed ? 'block' : 'none';\n",
              "\n",
              "        async function convertToInteractive(key) {\n",
              "          const element = document.querySelector('#df-d6f568c1-4216-4f15-8efc-d062b79d7d22');\n",
              "          const dataTable =\n",
              "            await google.colab.kernel.invokeFunction('convertToInteractive',\n",
              "                                                     [key], {});\n",
              "          if (!dataTable) return;\n",
              "\n",
              "          const docLinkHtml = 'Like what you see? Visit the ' +\n",
              "            '<a target=\"_blank\" href=https://colab.research.google.com/notebooks/data_table.ipynb>data table notebook</a>'\n",
              "            + ' to learn more about interactive tables.';\n",
              "          element.innerHTML = '';\n",
              "          dataTable['output_type'] = 'display_data';\n",
              "          await google.colab.output.renderOutput(dataTable, element);\n",
              "          const docLink = document.createElement('div');\n",
              "          docLink.innerHTML = docLinkHtml;\n",
              "          element.appendChild(docLink);\n",
              "        }\n",
              "      </script>\n",
              "    </div>\n",
              "  </div>\n",
              "  "
            ]
          },
          "metadata": {},
          "execution_count": 45
        }
      ],
      "source": [
        "table3 = pd.DataFrame(index=['Door 1', 'Door 2', 'Door 3'])\n",
        "table3['prior'] = Fraction(1, 3)\n",
        "table3"
      ]
    },
    {
      "cell_type": "markdown",
      "metadata": {
        "id": "rNd-UDaYiSkJ"
      },
      "source": [
        "The data is that Monty opened Door 3 and revealed a goat. So let's\n",
        "consider the probability of the data under each hypothesis:\n",
        "\n",
        "* If the car is behind Door 1, Monty chooses Door 2 or 3 at random, so the probability he opens Door 3 is $1/2$.\n",
        "\n",
        "* If the car is behind Door 2, Monty has to open Door 3, so the probability of the data under this hypothesis is 1.\n",
        "\n",
        "* If the car is behind Door 3, Monty does not open it, so the probability of the data under this hypothesis is 0.\n",
        "\n",
        "Here are the likelihoods. "
      ]
    },
    {
      "cell_type": "code",
      "execution_count": 46,
      "metadata": {
        "colab": {
          "base_uri": "https://localhost:8080/",
          "height": 143
        },
        "id": "7BFXKbk5iSNu",
        "outputId": "ce432894-a9cc-4403-b708-4db64f99a110"
      },
      "outputs": [
        {
          "output_type": "execute_result",
          "data": {
            "text/plain": [
              "       prior likelihood\n",
              "Door 1   1/3        1/2\n",
              "Door 2   1/3          1\n",
              "Door 3   1/3          0"
            ],
            "text/html": [
              "\n",
              "  <div id=\"df-b24bdfd9-a590-4c67-abd9-6f6e893c2605\">\n",
              "    <div class=\"colab-df-container\">\n",
              "      <div>\n",
              "<style scoped>\n",
              "    .dataframe tbody tr th:only-of-type {\n",
              "        vertical-align: middle;\n",
              "    }\n",
              "\n",
              "    .dataframe tbody tr th {\n",
              "        vertical-align: top;\n",
              "    }\n",
              "\n",
              "    .dataframe thead th {\n",
              "        text-align: right;\n",
              "    }\n",
              "</style>\n",
              "<table border=\"1\" class=\"dataframe\">\n",
              "  <thead>\n",
              "    <tr style=\"text-align: right;\">\n",
              "      <th></th>\n",
              "      <th>prior</th>\n",
              "      <th>likelihood</th>\n",
              "    </tr>\n",
              "  </thead>\n",
              "  <tbody>\n",
              "    <tr>\n",
              "      <th>Door 1</th>\n",
              "      <td>1/3</td>\n",
              "      <td>1/2</td>\n",
              "    </tr>\n",
              "    <tr>\n",
              "      <th>Door 2</th>\n",
              "      <td>1/3</td>\n",
              "      <td>1</td>\n",
              "    </tr>\n",
              "    <tr>\n",
              "      <th>Door 3</th>\n",
              "      <td>1/3</td>\n",
              "      <td>0</td>\n",
              "    </tr>\n",
              "  </tbody>\n",
              "</table>\n",
              "</div>\n",
              "      <button class=\"colab-df-convert\" onclick=\"convertToInteractive('df-b24bdfd9-a590-4c67-abd9-6f6e893c2605')\"\n",
              "              title=\"Convert this dataframe to an interactive table.\"\n",
              "              style=\"display:none;\">\n",
              "        \n",
              "  <svg xmlns=\"http://www.w3.org/2000/svg\" height=\"24px\"viewBox=\"0 0 24 24\"\n",
              "       width=\"24px\">\n",
              "    <path d=\"M0 0h24v24H0V0z\" fill=\"none\"/>\n",
              "    <path d=\"M18.56 5.44l.94 2.06.94-2.06 2.06-.94-2.06-.94-.94-2.06-.94 2.06-2.06.94zm-11 1L8.5 8.5l.94-2.06 2.06-.94-2.06-.94L8.5 2.5l-.94 2.06-2.06.94zm10 10l.94 2.06.94-2.06 2.06-.94-2.06-.94-.94-2.06-.94 2.06-2.06.94z\"/><path d=\"M17.41 7.96l-1.37-1.37c-.4-.4-.92-.59-1.43-.59-.52 0-1.04.2-1.43.59L10.3 9.45l-7.72 7.72c-.78.78-.78 2.05 0 2.83L4 21.41c.39.39.9.59 1.41.59.51 0 1.02-.2 1.41-.59l7.78-7.78 2.81-2.81c.8-.78.8-2.07 0-2.86zM5.41 20L4 18.59l7.72-7.72 1.47 1.35L5.41 20z\"/>\n",
              "  </svg>\n",
              "      </button>\n",
              "      \n",
              "  <style>\n",
              "    .colab-df-container {\n",
              "      display:flex;\n",
              "      flex-wrap:wrap;\n",
              "      gap: 12px;\n",
              "    }\n",
              "\n",
              "    .colab-df-convert {\n",
              "      background-color: #E8F0FE;\n",
              "      border: none;\n",
              "      border-radius: 50%;\n",
              "      cursor: pointer;\n",
              "      display: none;\n",
              "      fill: #1967D2;\n",
              "      height: 32px;\n",
              "      padding: 0 0 0 0;\n",
              "      width: 32px;\n",
              "    }\n",
              "\n",
              "    .colab-df-convert:hover {\n",
              "      background-color: #E2EBFA;\n",
              "      box-shadow: 0px 1px 2px rgba(60, 64, 67, 0.3), 0px 1px 3px 1px rgba(60, 64, 67, 0.15);\n",
              "      fill: #174EA6;\n",
              "    }\n",
              "\n",
              "    [theme=dark] .colab-df-convert {\n",
              "      background-color: #3B4455;\n",
              "      fill: #D2E3FC;\n",
              "    }\n",
              "\n",
              "    [theme=dark] .colab-df-convert:hover {\n",
              "      background-color: #434B5C;\n",
              "      box-shadow: 0px 1px 3px 1px rgba(0, 0, 0, 0.15);\n",
              "      filter: drop-shadow(0px 1px 2px rgba(0, 0, 0, 0.3));\n",
              "      fill: #FFFFFF;\n",
              "    }\n",
              "  </style>\n",
              "\n",
              "      <script>\n",
              "        const buttonEl =\n",
              "          document.querySelector('#df-b24bdfd9-a590-4c67-abd9-6f6e893c2605 button.colab-df-convert');\n",
              "        buttonEl.style.display =\n",
              "          google.colab.kernel.accessAllowed ? 'block' : 'none';\n",
              "\n",
              "        async function convertToInteractive(key) {\n",
              "          const element = document.querySelector('#df-b24bdfd9-a590-4c67-abd9-6f6e893c2605');\n",
              "          const dataTable =\n",
              "            await google.colab.kernel.invokeFunction('convertToInteractive',\n",
              "                                                     [key], {});\n",
              "          if (!dataTable) return;\n",
              "\n",
              "          const docLinkHtml = 'Like what you see? Visit the ' +\n",
              "            '<a target=\"_blank\" href=https://colab.research.google.com/notebooks/data_table.ipynb>data table notebook</a>'\n",
              "            + ' to learn more about interactive tables.';\n",
              "          element.innerHTML = '';\n",
              "          dataTable['output_type'] = 'display_data';\n",
              "          await google.colab.output.renderOutput(dataTable, element);\n",
              "          const docLink = document.createElement('div');\n",
              "          docLink.innerHTML = docLinkHtml;\n",
              "          element.appendChild(docLink);\n",
              "        }\n",
              "      </script>\n",
              "    </div>\n",
              "  </div>\n",
              "  "
            ]
          },
          "metadata": {},
          "execution_count": 46
        }
      ],
      "source": [
        "table3['likelihood'] = Fraction(1, 2), 1, 0\n",
        "table3"
      ]
    },
    {
      "cell_type": "markdown",
      "metadata": {
        "id": "k_c55o_Mi4B4"
      },
      "source": [
        "Now that we have priors and likelihoods, we can use `update` to compute the posterior probabilities. If your update function is correct then your Monty Hall table should look like the one below."
      ]
    },
    {
      "cell_type": "code",
      "execution_count": 47,
      "metadata": {
        "colab": {
          "base_uri": "https://localhost:8080/",
          "height": 143
        },
        "id": "Ilukk24ti8ca",
        "outputId": "bd7de599-debd-4005-9541-ab2d7820e9ec"
      },
      "outputs": [
        {
          "output_type": "execute_result",
          "data": {
            "text/plain": [
              "       prior likelihood unnorm posterior\n",
              "Door 1   1/3        1/2    1/6       1/3\n",
              "Door 2   1/3          1    1/3       2/3\n",
              "Door 3   1/3          0      0         0"
            ],
            "text/html": [
              "\n",
              "  <div id=\"df-4d23afc1-05a5-4683-b07c-7a05f9c3f811\">\n",
              "    <div class=\"colab-df-container\">\n",
              "      <div>\n",
              "<style scoped>\n",
              "    .dataframe tbody tr th:only-of-type {\n",
              "        vertical-align: middle;\n",
              "    }\n",
              "\n",
              "    .dataframe tbody tr th {\n",
              "        vertical-align: top;\n",
              "    }\n",
              "\n",
              "    .dataframe thead th {\n",
              "        text-align: right;\n",
              "    }\n",
              "</style>\n",
              "<table border=\"1\" class=\"dataframe\">\n",
              "  <thead>\n",
              "    <tr style=\"text-align: right;\">\n",
              "      <th></th>\n",
              "      <th>prior</th>\n",
              "      <th>likelihood</th>\n",
              "      <th>unnorm</th>\n",
              "      <th>posterior</th>\n",
              "    </tr>\n",
              "  </thead>\n",
              "  <tbody>\n",
              "    <tr>\n",
              "      <th>Door 1</th>\n",
              "      <td>1/3</td>\n",
              "      <td>1/2</td>\n",
              "      <td>1/6</td>\n",
              "      <td>1/3</td>\n",
              "    </tr>\n",
              "    <tr>\n",
              "      <th>Door 2</th>\n",
              "      <td>1/3</td>\n",
              "      <td>1</td>\n",
              "      <td>1/3</td>\n",
              "      <td>2/3</td>\n",
              "    </tr>\n",
              "    <tr>\n",
              "      <th>Door 3</th>\n",
              "      <td>1/3</td>\n",
              "      <td>0</td>\n",
              "      <td>0</td>\n",
              "      <td>0</td>\n",
              "    </tr>\n",
              "  </tbody>\n",
              "</table>\n",
              "</div>\n",
              "      <button class=\"colab-df-convert\" onclick=\"convertToInteractive('df-4d23afc1-05a5-4683-b07c-7a05f9c3f811')\"\n",
              "              title=\"Convert this dataframe to an interactive table.\"\n",
              "              style=\"display:none;\">\n",
              "        \n",
              "  <svg xmlns=\"http://www.w3.org/2000/svg\" height=\"24px\"viewBox=\"0 0 24 24\"\n",
              "       width=\"24px\">\n",
              "    <path d=\"M0 0h24v24H0V0z\" fill=\"none\"/>\n",
              "    <path d=\"M18.56 5.44l.94 2.06.94-2.06 2.06-.94-2.06-.94-.94-2.06-.94 2.06-2.06.94zm-11 1L8.5 8.5l.94-2.06 2.06-.94-2.06-.94L8.5 2.5l-.94 2.06-2.06.94zm10 10l.94 2.06.94-2.06 2.06-.94-2.06-.94-.94-2.06-.94 2.06-2.06.94z\"/><path d=\"M17.41 7.96l-1.37-1.37c-.4-.4-.92-.59-1.43-.59-.52 0-1.04.2-1.43.59L10.3 9.45l-7.72 7.72c-.78.78-.78 2.05 0 2.83L4 21.41c.39.39.9.59 1.41.59.51 0 1.02-.2 1.41-.59l7.78-7.78 2.81-2.81c.8-.78.8-2.07 0-2.86zM5.41 20L4 18.59l7.72-7.72 1.47 1.35L5.41 20z\"/>\n",
              "  </svg>\n",
              "      </button>\n",
              "      \n",
              "  <style>\n",
              "    .colab-df-container {\n",
              "      display:flex;\n",
              "      flex-wrap:wrap;\n",
              "      gap: 12px;\n",
              "    }\n",
              "\n",
              "    .colab-df-convert {\n",
              "      background-color: #E8F0FE;\n",
              "      border: none;\n",
              "      border-radius: 50%;\n",
              "      cursor: pointer;\n",
              "      display: none;\n",
              "      fill: #1967D2;\n",
              "      height: 32px;\n",
              "      padding: 0 0 0 0;\n",
              "      width: 32px;\n",
              "    }\n",
              "\n",
              "    .colab-df-convert:hover {\n",
              "      background-color: #E2EBFA;\n",
              "      box-shadow: 0px 1px 2px rgba(60, 64, 67, 0.3), 0px 1px 3px 1px rgba(60, 64, 67, 0.15);\n",
              "      fill: #174EA6;\n",
              "    }\n",
              "\n",
              "    [theme=dark] .colab-df-convert {\n",
              "      background-color: #3B4455;\n",
              "      fill: #D2E3FC;\n",
              "    }\n",
              "\n",
              "    [theme=dark] .colab-df-convert:hover {\n",
              "      background-color: #434B5C;\n",
              "      box-shadow: 0px 1px 3px 1px rgba(0, 0, 0, 0.15);\n",
              "      filter: drop-shadow(0px 1px 2px rgba(0, 0, 0, 0.3));\n",
              "      fill: #FFFFFF;\n",
              "    }\n",
              "  </style>\n",
              "\n",
              "      <script>\n",
              "        const buttonEl =\n",
              "          document.querySelector('#df-4d23afc1-05a5-4683-b07c-7a05f9c3f811 button.colab-df-convert');\n",
              "        buttonEl.style.display =\n",
              "          google.colab.kernel.accessAllowed ? 'block' : 'none';\n",
              "\n",
              "        async function convertToInteractive(key) {\n",
              "          const element = document.querySelector('#df-4d23afc1-05a5-4683-b07c-7a05f9c3f811');\n",
              "          const dataTable =\n",
              "            await google.colab.kernel.invokeFunction('convertToInteractive',\n",
              "                                                     [key], {});\n",
              "          if (!dataTable) return;\n",
              "\n",
              "          const docLinkHtml = 'Like what you see? Visit the ' +\n",
              "            '<a target=\"_blank\" href=https://colab.research.google.com/notebooks/data_table.ipynb>data table notebook</a>'\n",
              "            + ' to learn more about interactive tables.';\n",
              "          element.innerHTML = '';\n",
              "          dataTable['output_type'] = 'display_data';\n",
              "          await google.colab.output.renderOutput(dataTable, element);\n",
              "          const docLink = document.createElement('div');\n",
              "          docLink.innerHTML = docLinkHtml;\n",
              "          element.appendChild(docLink);\n",
              "        }\n",
              "      </script>\n",
              "    </div>\n",
              "  </div>\n",
              "  "
            ]
          },
          "metadata": {},
          "execution_count": 47
        }
      ],
      "source": [
        "update(table3)\n",
        "table3"
      ]
    },
    {
      "cell_type": "markdown",
      "metadata": {
        "id": "V3lZKwIvkR3o"
      },
      "source": [
        "After Monty opens Door 3, the posterior probability of Door 1 is $1/3$;\n",
        "the posterior probability of Door 2 is $2/3$.\n",
        "So you are better off switching from Door 1 to Door 2."
      ]
    },
    {
      "cell_type": "markdown",
      "metadata": {
        "id": "NKP4TgGSkTUA"
      },
      "source": [
        "As this example shows, our intuition for probability is not always\n",
        "reliable. \n",
        "Bayes's Theorem can help by providing a divide-and-conquer strategy:\n",
        "\n",
        "1.  First, write down the hypotheses and the data.\n",
        "\n",
        "2.  Next, figure out the prior probabilities.\n",
        "\n",
        "3.  Finally, compute the likelihood of the data under each hypothesis.\n",
        "\n",
        "The Bayes table does the rest."
      ]
    },
    {
      "cell_type": "markdown",
      "metadata": {
        "id": "1iDnYmWZkhaU"
      },
      "source": [
        "### You might hope to never see Monty Hall problem again...\n",
        "\n",
        "If the Monty Hall problem makes your head hurt, you are not alone.  But we think it demonstrates the power of Bayes's Theorem as a divide-and-conquer strategy for solving tricky problems.  And we hope it provides some insight into *why* the answer is what it is.\n",
        "\n",
        "When Monty opens a door, he provides information we can use to update our belief about the location of the car.  Part of the information is obvious.  If he opens Door 3, we know the car is not behind Door 3.  But part of the information is more subtle.  Opening Door 3 is more likely if the car is behind Door 2, and less likely if it is behind Door 1.  So the data is evidence in favor of Door 2."
      ]
    },
    {
      "cell_type": "markdown",
      "metadata": {
        "id": "iHrVw6__bvmg"
      },
      "source": [
        "# Gaussian Distribution\n",
        "Plot the PDF of Gaussian distribution with mean of 50 and standard deviation of 10, 50, and 100. Plot the three distributions on the same figure. \n",
        "\n",
        "* Use np.random.normal.\n",
        "* Set your three distributions to three different variables.\n",
        "* For your histograms, use density = True, bins = 100, and histtype='step'. Plot them in one figure.\n",
        "\n",
        "# Bernoulli trials\n",
        "Bernoulli trial (or binomial trial) is a random experiment with exactly yields two possible outcomes. An example of this would be flipping coins where you would only have 2 outcomes.\n",
        "\n",
        "* Seed the random number generator to **50**. \n",
        "\n",
        "* Initialize n_defaults, an empty array, using np.empty(). It should contain 1000 entries, since we are doing 1000 simulations.\n",
        "\n",
        "* Write a for loop with 1000 iterations to compute the number of defaults per 100 loans using the bernoulli_trials() function. It accepts two arguments: the number of trials **n=100** and the probability of success **p=0.05**. On each iteration of the loop store the result in an entry of defaults.\n",
        "\n",
        "* Plot a histogram of n_defaults. Use density = True.\n",
        "\n"
      ]
    },
    {
      "cell_type": "code",
      "source": [
        "import matplotlib.pyplot as plt\n",
        "\n",
        "mu = 50\n",
        "sigma1 = 10\n",
        "sigma2 = 50\n",
        "sigma3 = 100\n",
        "\n",
        "s1 = np.random.normal(mu, sigma1, 3000)\n",
        "s2 = np.random.normal(mu, sigma2, 3000)\n",
        "s3 = np.random.normal(mu, sigma3, 3000)\n",
        "\n",
        "\n",
        "plt.figure(figsize=(18, 12))\n",
        "count, bins, ignored = plt.hist(s1, 100, density=True, histtype='step', color = 'r')\n",
        "plt.plot(bins, 1/(sigma1 * np.sqrt(2 * np.pi)) * np.exp( - (bins - mu)**2 / (2 * sigma1**2) ), color='r', label = \"sigma = 10\")\n",
        "\n",
        "count, bins, ignored = plt.hist(s2, 100, density=True, histtype='step', color = 'g')\n",
        "plt.plot(bins, 1/(sigma2 * np.sqrt(2 * np.pi)) * np.exp( - (bins - mu)**2 / (2 * sigma2**2) ), color='g', label = \"sigma = 50\")\n",
        "\n",
        "count, bins, ignored = plt.hist(s3, 100, density=True, histtype='step', color = 'b')\n",
        "plt.plot(bins, 1/(sigma3 * np.sqrt(2 * np.pi)) * np.exp( - (bins - mu)**2 / (2 * sigma3**2) ), color='b', label = \"sigma = 100\")\n",
        "\n",
        "plt.legend()\n",
        "\n",
        "plt.show()"
      ],
      "metadata": {
        "colab": {
          "base_uri": "https://localhost:8080/",
          "height": 700
        },
        "id": "JdpKYuOlAGt6",
        "outputId": "175be6fd-c276-4045-a31e-669a8b255807"
      },
      "execution_count": 55,
      "outputs": [
        {
          "output_type": "display_data",
          "data": {
            "text/plain": [
              "<Figure size 1296x864 with 1 Axes>"
            ],
            "image/png": "[encoded data removed]"
          },
          "metadata": {
            "needs_background": "light"
          }
        }
      ]
    },
    {
      "cell_type": "code",
      "execution_count": 49,
      "metadata": {
        "colab": {
          "base_uri": "https://localhost:8080/",
          "height": 282
        },
        "id": "9myR7AIb5_C_",
        "outputId": "c943e3bd-201f-4af3-e3f0-4d7488c7c67a"
      },
      "outputs": [
        {
          "output_type": "display_data",
          "data": {
            "text/plain": [
              "<Figure size 432x288 with 1 Axes>"
            ],
            "image/png": "[encoded data removed]"
          },
          "metadata": {
            "needs_background": "light"
          }
        }
      ],
      "source": [
        "import random\n",
        "\n",
        "def bernoulli_trials(n, p):\n",
        "    success = 0\n",
        "\n",
        "    for i in range(n):\n",
        "        'Choose random number between zero and one for random_number'\n",
        "        random_number = random.random()\n",
        "\n",
        "        # If less than p, it's a success so add one to n_success\n",
        "        if random_number<p:\n",
        "            success = success + 1\n",
        "\n",
        "    return success\n",
        "\n",
        "\n",
        "# Seed random number generator\n",
        "random.seed(50)\n",
        "\n",
        "# Initialize the number of defaults: n_defaults\n",
        "n_defaults = np.empty(1000)\n",
        "\n",
        "# Compute the number of defaults\n",
        "for i in range(len(n_defaults)):\n",
        "    n_defaults[i] = bernoulli_trials(100, 0.05)\n",
        "\n",
        "plt.figure()\n",
        "# Plot the histogram with default number of bins; label your axes\n",
        "plt.hist(n_defaults, density = True)\n",
        "plt.xlabel('number of defaults out of 100 loans')\n",
        "plt.ylabel('probability')\n",
        "\n",
        "# Show the plot\n",
        "plt.show()"
      ]
    },
    {
      "cell_type": "markdown",
      "metadata": {
        "id": "sZvctzDuF8JV"
      },
      "source": [
        "# Some Linear Algebra\n",
        "\n",
        "# #1\n",
        "Solve the equations below\n",
        "\n",
        "$$ 4x  + 8y + z = 2 $$\n",
        "$$ x + 7y - 3z = -14 $$ \n",
        "$$ 2x - 3y +2z = 3 $$\n",
        " \n",
        "You are only allowed to use numpy module of \"linalg\", but you are not allowed to use \"np.linalg.solve\".\n",
        "\n",
        "# #2\n",
        "\n",
        "Solve the equations below. It's a bit tricky so you will have to think about it a bit.\n",
        "\n",
        "$$ 1.3x +0.6 y = 3.3 $$\n",
        "$$ 4.7x + 1.5y = 13.5 $$\n",
        "$$ 3.1x +5.2y = -0.1 $$\n",
        "\n",
        "You are only allowed to use numpy module of \"linalg\", but you are not allowed to use \"np.linalg.solve\""
      ]
    },
    {
      "cell_type": "code",
      "execution_count": 50,
      "metadata": {
        "colab": {
          "base_uri": "https://localhost:8080/"
        },
        "id": "EB0P-zCY5_DA",
        "outputId": "45483b76-e537-47d6-ad6b-4dde40d432c6"
      },
      "outputs": [
        {
          "output_type": "stream",
          "name": "stdout",
          "text": [
            "[-3.  1.  6.]\n"
          ]
        }
      ],
      "source": [
        "import numpy as np\n",
        "A = np.array([[4, 8, 1], [1, 7, -3], [2, -3, 2]])\n",
        "B = np.array([2, -14, 3])\n",
        "X = np.linalg.inv(A).dot(B)\n",
        "print(X)"
      ]
    },
    {
      "cell_type": "code",
      "source": [
        "import numpy as np\n",
        "A1 = np.array([[1.3, 0.6], [4.7, 1.5]])\n",
        "B1 = np.array([3.3, 13.5])\n",
        "X1 = np.linalg.inv(A1).dot(B1)\n",
        "print(\"X1:\")\n",
        "print(X1)\n",
        "\n",
        "\n",
        "A2 = np.array([[1.3, 0.6], [3.1, 5.2]])\n",
        "B2 = np.array([3.3, -0.1])\n",
        "X2 = np.linalg.inv(A2).dot(B2)\n",
        "print(\"X2:\")\n",
        "print(X2)\n",
        "\n",
        "print(\"Since X1 is not equal to X2, therefore, there is no solution to the equations!\")"
      ],
      "metadata": {
        "colab": {
          "base_uri": "https://localhost:8080/"
        },
        "id": "y1Cvao2q7Zfd",
        "outputId": "f11e756d-7be6-4fc8-887c-9f0b718dcdaa"
      },
      "execution_count": 51,
      "outputs": [
        {
          "output_type": "stream",
          "name": "stdout",
          "text": [
            "X1:\n",
            "[ 3.62068966 -2.34482759]\n",
            "X2:\n",
            "[ 3.51428571 -2.11428571]\n",
            "Since X1 is not equal to X2, therefore, there is no solution to the equations!\n"
          ]
        }
      ]
    }
  ],
  "metadata": {
    "colab": {
      "provenance": []
    },
    "kernelspec": {
      "display_name": "Python 3",
      "language": "python",
      "name": "python3"
    },
    "language_info": {
      "codemirror_mode": {
        "name": "ipython",
        "version": 3
      },
      "file_extension": ".py",
      "mimetype": "text/x-python",
      "name": "python",
      "nbconvert_exporter": "python",
      "pygments_lexer": "ipython3",
      "version": "3.8.8"
    }
  },
  "nbformat": 4,
  "nbformat_minor": 0
}