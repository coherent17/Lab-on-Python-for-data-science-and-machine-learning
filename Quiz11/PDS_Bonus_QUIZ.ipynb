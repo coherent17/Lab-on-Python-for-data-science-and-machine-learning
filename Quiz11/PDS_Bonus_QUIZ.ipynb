{
 "cells": [
  {
   "cell_type": "markdown",
   "metadata": {
    "id": "v0htokvDWzf0"
   },
   "source": [
    "# Bonus quiz\n",
    "NYCU 2022, Lab on Python for Data Science"
   ]
  },
  {
   "cell_type": "markdown",
   "metadata": {
    "id": "2ve-LOYfLnyg"
   },
   "source": [
    "# Rules:\n",
    "\n",
    "*   Internet and Books are ALLOWED\n",
    "*   Name your file as following: StudentID_ChineseName/EnglishName_quiz11.py\n",
    "*   Extension of your file  should be **$.py$**\n",
    "*   Deadline Thursday 23:59\n",
    "\n"
   ]
  },
  {
   "cell_type": "markdown",
   "metadata": {
    "id": "gXi6PtTOCW70"
   },
   "source": [
    "# ! Complete *template.py* python code, rename it according to rules and submit\n",
    "\n",
    "# ! Do not call the functions in the code, just complete them"
   ]
  },
  {
   "cell_type": "markdown",
   "metadata": {
    "id": "WexA5FrdXdl7"
   },
   "source": [
    "## Functions description"
   ]
  },
  {
   "cell_type": "markdown",
   "metadata": {
    "id": "GqpwS8JCXGsO"
   },
   "source": [
    "### Task1: Fit transform\n",
    "Performs dimensionality reduction on an input matrix A using Principal Component Analysis (PCA). The function takes two arguments:\n",
    "\n",
    "\n",
    "*   A: a 2D NumPy array representing the input matrix.\n",
    "*   rs: an integer representing the random state of the PCA model.\n",
    "\n",
    "You need to write a function that works with any arbitrary shape of input A. \n",
    "Variable rs is included in order to make PCA reproducible.\n",
    "\n",
    "| variable name | variable type | numpy array dimension |\n",
    "| --- | --- | --- |\n",
    "| A | numpy.ndarray | 2 |\n",
    "| rs | int | - |\n",
    "\n",
    "Return/output the transformed matrix X and the PCA model as a tuple. The matrix X is a 2D NumPy array with dimensions (n_samples, n_components). The matrix X contains the projections of the input data onto the principal components of the model, and it represents the compressed version of the input data that captures as close to 95% of the variance as possible.\n",
    "\n",
    "Function return/output\n",
    "\n",
    "| variable name | variable type | numpy array dimension |\n",
    "| --- | --- | --- |\n",
    "| any | numpy.ndarray | 2 |"
   ]
  },
  {
   "cell_type": "markdown",
   "metadata": {
    "id": "Kyiu1Rlg28vm"
   },
   "source": [
    "\n",
    "\n",
    "NOTE! You can check numpy dimension of any numpy.ndarray this way:\n",
    "\n",
    "\n",
    "\n",
    "```\n",
    "x = np.zeros((5.5))\n",
    "print(x.ndim)\n",
    "# 2 dimensions will be displayed, because x.ndim = 2\n",
    "```\n",
    "\n",
    "GOAL:\n",
    "\n",
    "1.   Implement PCA on input matrix, don't forget to use rs\n",
    "2.   Determine the minmum number of principal components that describe at least 95% of input matrix\n",
    "3.   return pca model and X that describes >95% of input matrix\n",
    "\n",
    "\n",
    "\n",
    "\n"
   ]
  },
  {
   "cell_type": "markdown",
   "metadata": {
    "id": "5FfH_gat-zyo"
   },
   "source": [
    "## TASK 2: Inverse transform\n",
    "\n",
    "Rreconstruct a matrix from a compressed version of the matrix using Principal Component Analysis (PCA). The function takes two arguments:\n",
    "\n",
    "\n",
    "\n",
    "*   pca: an instance of the PCA class from the sklearn.decomposition module that contains the components (the principal axes in the transformed space) and the explained variance ratio (the percentage of variance explained by each component) of the fitted PCA model.\n",
    "\n",
    "*   X: 2D NumPy array representing the compressed version of the input matrix, with dimensions (n_samples, n_components), where n_samples is the number of rows in the input matrix and n_components is the number of components retained by the PCA model.\n",
    "\n",
    "Both X and pca are outputs of function TASK1\n",
    "\n",
    "Function projects the data back onto the original feature space using the components of the PCA model, and the resulting matrix is returned as a NumPy array.\n",
    "\n",
    "The reconstructed matrix A_hat has the same dimensions as the original matrix A, and it is an approximation of the original matrix that is reconstructed using the retained principal components of the PCA model.\n",
    "\n",
    "| variable name | variable type | numpy array dimension |\n",
    "| --- | --- | --- |\n",
    "| A_hat | numpy.ndarray | 2 |\n",
    "\n",
    "GOAL:\n",
    "\n",
    "\n",
    "1.   Do the inverse PCA on input matrix\n",
    "2.   return compressed matrix A_hat\n",
    "\n"
   ]
  },
  {
   "cell_type": "markdown",
   "metadata": {
    "id": "6xm8eXhFpoUb"
   },
   "source": [
    "## TASK 3: Decision Boundary\n",
    "\n",
    "Train a classifier on a IRIS dataset and return the decision boundary of the classifier. The function takes two arguments:\n",
    "\n",
    "*   classifier: an instance of a classifier model from the sklearn library, such as KNeighborsClassifier, DecisionTreeClassifier, or LogisticRegression.\n",
    "\n",
    "*   flag: boolean variable that indicated whether or not to show a plot of decision boundaries\n",
    "\n",
    "This time you are asked to slice iris dataset by SepalLength and PetalLength\n",
    "\n",
    "Create a mesh of points over the range of the input data using the np.meshgrid function from NumPy. This step is necessary to plot the decision boundary of the classifier, which is the boundary that separates the different classes in the input data.\n",
    "\n",
    "Then use the predict method of the classifier model to predict the class for each point in the mesh.\n",
    "\n",
    "xx and yy are 2D NumPy arrays that contain the x and y coordinates, respectively, of the points in the mesh that was created using the np.meshgrid function. The mesh is created over the range of the input data and has a grid resolution of 0.1 units.\n",
    "\n",
    "Z is a 2D NumPy array that contains the predicted class for each point in the mesh. The class is predicted using the predict method of the classifier model that was passed as an argument to the TASK3 function. The shape of Z is the same as the shapes of xx and yy.\n",
    "\n",
    "| variable name | variable type | numpy array dimension |\n",
    "| --- | --- | --- |\n",
    "| xx | numpy.ndarray | 2 |\n",
    "| yy | numpy.ndarray | 2 |\n",
    "| Z | numpy.ndarray | 2 |\n",
    "\n",
    "GOAL:\n",
    "\n",
    "1.   slice iris dataset\n",
    "2.   train classifier\n",
    "3.   implement mesh grid\n",
    "4.   predict classes\n",
    "5.   return xx, yy, Z\n",
    "\n"
   ]
  },
  {
   "cell_type": "markdown",
   "metadata": {
    "id": "z9a_BPnjbVCf"
   },
   "source": [
    "## TASK 4: Gradient Boost\n",
    "\n",
    "Train a gradient boosting classifier on a dataset and return the accuracy of the classifier on a test set. The function takes five arguments:\n",
    "\n",
    "*   t_size: a float representing the proportion of the dataset to be used as the test set.\n",
    "*   rs: an integer representing the random seed to use for the train-test split and the classifier training.\n",
    "*   n: an integer representing the number of estimators (trees) to use in the gradient boosting classifier.\n",
    "*   lr: a float representing the learning rate of the classifier.\n",
    "\n",
    "*   md: an integer representing the maximum depth of the trees in the classifier.\n",
    "\n",
    "\n",
    "GOAL:\n",
    "\n",
    "\n",
    "1.   implement GradientBoostingClassifier\n",
    "2.   return accuracy of your model\n",
    "3.   do not forget to use arguments\n",
    "\n",
    "\n",
    "\n"
   ]
  },
  {
   "cell_type": "code",
   "execution_count": null,
   "metadata": {},
   "outputs": [],
   "source": []
  }
 ],
 "metadata": {
  "colab": {
   "provenance": []
  },
  "kernelspec": {
   "display_name": "Python 3 (ipykernel)",
   "language": "python",
   "name": "python3"
  },
  "language_info": {
   "codemirror_mode": {
    "name": "ipython",
    "version": 3
   },
   "file_extension": ".py",
   "mimetype": "text/x-python",
   "name": "python",
   "nbconvert_exporter": "python",
   "pygments_lexer": "ipython3",
   "version": "3.9.12"
  }
 },
 "nbformat": 4,
 "nbformat_minor": 1
}
